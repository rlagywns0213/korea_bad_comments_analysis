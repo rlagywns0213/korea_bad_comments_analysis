{
 "cells": [
  {
   "cell_type": "markdown",
   "metadata": {},
   "source": [
    "# 데이터셋 이해"
   ]
  },
  {
   "cell_type": "code",
   "execution_count": 1,
   "metadata": {
    "ExecuteTime": {
     "end_time": "2021-03-23T12:12:42.136955Z",
     "start_time": "2021-03-23T12:12:41.391270Z"
    }
   },
   "outputs": [],
   "source": [
    "import pandas as pd\n",
    "train= pd.read_csv('korean-hate-speech/labeled/train.tsv' ,sep='\\t')\n",
    "dev= pd.read_csv('korean-hate-speech/labeled/dev.tsv' ,sep='\\t')"
   ]
  },
  {
   "cell_type": "code",
   "execution_count": 26,
   "metadata": {
    "ExecuteTime": {
     "end_time": "2021-03-21T16:20:50.125023Z",
     "start_time": "2021-03-21T16:20:50.111061Z"
    }
   },
   "outputs": [
    {
     "data": {
      "text/html": [
       "<div>\n",
       "<style scoped>\n",
       "    .dataframe tbody tr th:only-of-type {\n",
       "        vertical-align: middle;\n",
       "    }\n",
       "\n",
       "    .dataframe tbody tr th {\n",
       "        vertical-align: top;\n",
       "    }\n",
       "\n",
       "    .dataframe thead th {\n",
       "        text-align: right;\n",
       "    }\n",
       "</style>\n",
       "<table border=\"1\" class=\"dataframe\">\n",
       "  <thead>\n",
       "    <tr style=\"text-align: right;\">\n",
       "      <th></th>\n",
       "      <th>comments</th>\n",
       "      <th>contain_gender_bias</th>\n",
       "      <th>bias</th>\n",
       "      <th>hate</th>\n",
       "    </tr>\n",
       "  </thead>\n",
       "  <tbody>\n",
       "    <tr>\n",
       "      <th>0</th>\n",
       "      <td>(현재 호텔주인 심정) 아18 난 마른하늘에 날벼락맞고 호텔망하게생겼는데 누군 계속...</td>\n",
       "      <td>False</td>\n",
       "      <td>others</td>\n",
       "      <td>hate</td>\n",
       "    </tr>\n",
       "    <tr>\n",
       "      <th>1</th>\n",
       "      <td>....한국적인 미인의 대표적인 분...너무나 곱고아름다운모습...그모습뒤의 슬픔을...</td>\n",
       "      <td>False</td>\n",
       "      <td>none</td>\n",
       "      <td>none</td>\n",
       "    </tr>\n",
       "    <tr>\n",
       "      <th>2</th>\n",
       "      <td>...못된 넘들...남의 고통을 즐겼던 넘들..이젠 마땅한 처벌을 받아야지..,그래...</td>\n",
       "      <td>False</td>\n",
       "      <td>none</td>\n",
       "      <td>hate</td>\n",
       "    </tr>\n",
       "    <tr>\n",
       "      <th>3</th>\n",
       "      <td>1,2화 어설펐는데 3,4화 지나서부터는 갈수록 너무 재밌던데</td>\n",
       "      <td>False</td>\n",
       "      <td>none</td>\n",
       "      <td>none</td>\n",
       "    </tr>\n",
       "    <tr>\n",
       "      <th>4</th>\n",
       "      <td>1. 사람 얼굴 손톱으로 긁은것은 인격살해이고2. 동영상이 몰카냐? 메걸리안들 생각...</td>\n",
       "      <td>True</td>\n",
       "      <td>gender</td>\n",
       "      <td>hate</td>\n",
       "    </tr>\n",
       "    <tr>\n",
       "      <th>...</th>\n",
       "      <td>...</td>\n",
       "      <td>...</td>\n",
       "      <td>...</td>\n",
       "      <td>...</td>\n",
       "    </tr>\n",
       "    <tr>\n",
       "      <th>7891</th>\n",
       "      <td>힘내세요~ 응원합니다!!</td>\n",
       "      <td>False</td>\n",
       "      <td>none</td>\n",
       "      <td>none</td>\n",
       "    </tr>\n",
       "    <tr>\n",
       "      <th>7892</th>\n",
       "      <td>힘내세요~~삼가 고인의 명복을 빕니다..</td>\n",
       "      <td>False</td>\n",
       "      <td>none</td>\n",
       "      <td>none</td>\n",
       "    </tr>\n",
       "    <tr>\n",
       "      <th>7893</th>\n",
       "      <td>힘내세용 ^^ 항상 응원합니닷 ^^ !</td>\n",
       "      <td>False</td>\n",
       "      <td>none</td>\n",
       "      <td>none</td>\n",
       "    </tr>\n",
       "    <tr>\n",
       "      <th>7894</th>\n",
       "      <td>힘내소...연기로 답해요.나도 53살 인데 이런일 저런일 다 있더라구요.인격을 믿습...</td>\n",
       "      <td>False</td>\n",
       "      <td>none</td>\n",
       "      <td>none</td>\n",
       "    </tr>\n",
       "    <tr>\n",
       "      <th>7895</th>\n",
       "      <td>힘들면 관뒀어야지 그게 현명한거다</td>\n",
       "      <td>False</td>\n",
       "      <td>none</td>\n",
       "      <td>none</td>\n",
       "    </tr>\n",
       "  </tbody>\n",
       "</table>\n",
       "<p>7896 rows × 4 columns</p>\n",
       "</div>"
      ],
      "text/plain": [
       "                                               comments  contain_gender_bias  \\\n",
       "0     (현재 호텔주인 심정) 아18 난 마른하늘에 날벼락맞고 호텔망하게생겼는데 누군 계속...                False   \n",
       "1     ....한국적인 미인의 대표적인 분...너무나 곱고아름다운모습...그모습뒤의 슬픔을...                False   \n",
       "2     ...못된 넘들...남의 고통을 즐겼던 넘들..이젠 마땅한 처벌을 받아야지..,그래...                False   \n",
       "3                    1,2화 어설펐는데 3,4화 지나서부터는 갈수록 너무 재밌던데                False   \n",
       "4     1. 사람 얼굴 손톱으로 긁은것은 인격살해이고2. 동영상이 몰카냐? 메걸리안들 생각...                 True   \n",
       "...                                                 ...                  ...   \n",
       "7891                                      힘내세요~ 응원합니다!!                False   \n",
       "7892                             힘내세요~~삼가 고인의 명복을 빕니다..                False   \n",
       "7893                              힘내세용 ^^ 항상 응원합니닷 ^^ !                False   \n",
       "7894  힘내소...연기로 답해요.나도 53살 인데 이런일 저런일 다 있더라구요.인격을 믿습...                False   \n",
       "7895                                 힘들면 관뒀어야지 그게 현명한거다                False   \n",
       "\n",
       "        bias  hate  \n",
       "0     others  hate  \n",
       "1       none  none  \n",
       "2       none  hate  \n",
       "3       none  none  \n",
       "4     gender  hate  \n",
       "...      ...   ...  \n",
       "7891    none  none  \n",
       "7892    none  none  \n",
       "7893    none  none  \n",
       "7894    none  none  \n",
       "7895    none  none  \n",
       "\n",
       "[7896 rows x 4 columns]"
      ]
     },
     "execution_count": 26,
     "metadata": {},
     "output_type": "execute_result"
    }
   ],
   "source": [
    "train"
   ]
  },
  {
   "cell_type": "markdown",
   "metadata": {},
   "source": [
    "## 종속변수 편향 검사\n",
    "1. social bias : gender, others none\n",
    "2. hate speech : none, offensive, hate"
   ]
  },
  {
   "cell_type": "code",
   "execution_count": 15,
   "metadata": {
    "ExecuteTime": {
     "end_time": "2021-03-21T16:14:21.391838Z",
     "start_time": "2021-03-21T16:14:21.380867Z"
    }
   },
   "outputs": [
    {
     "data": {
      "text/plain": [
       "none         3486\n",
       "offensive    2499\n",
       "hate         1911\n",
       "Name: hate, dtype: int64"
      ]
     },
     "execution_count": 15,
     "metadata": {},
     "output_type": "execute_result"
    }
   ],
   "source": [
    "train['hate'].value_counts()"
   ]
  },
  {
   "cell_type": "code",
   "execution_count": 14,
   "metadata": {
    "ExecuteTime": {
     "end_time": "2021-03-21T16:14:13.983573Z",
     "start_time": "2021-03-21T16:14:13.966621Z"
    }
   },
   "outputs": [
    {
     "data": {
      "text/plain": [
       "none      5148\n",
       "others    1516\n",
       "gender    1232\n",
       "Name: bias, dtype: int64"
      ]
     },
     "execution_count": 14,
     "metadata": {},
     "output_type": "execute_result"
    }
   ],
   "source": [
    "train['bias'].value_counts()"
   ]
  },
  {
   "cell_type": "code",
   "execution_count": 24,
   "metadata": {
    "ExecuteTime": {
     "end_time": "2021-03-21T16:17:08.675057Z",
     "start_time": "2021-03-21T16:17:08.651123Z"
    }
   },
   "outputs": [
    {
     "data": {
      "text/plain": [
       "True    1232\n",
       "Name: contain_gender_bias, dtype: int64"
      ]
     },
     "execution_count": 24,
     "metadata": {},
     "output_type": "execute_result"
    }
   ],
   "source": [
    "train[train['bias'].apply(lambda x: x=='gender')].contain_gender_bias.value_counts()"
   ]
  },
  {
   "cell_type": "markdown",
   "metadata": {},
   "source": [
    "- gender에 대한 bias가 있는 1232명은 contain_gender_bias 값이 True로 할당되어 있음\n",
    "- 즉 contain_gender_bias column은 삭제해도됨"
   ]
  },
  {
   "cell_type": "code",
   "execution_count": 29,
   "metadata": {
    "ExecuteTime": {
     "end_time": "2021-03-21T16:22:39.969506Z",
     "start_time": "2021-03-21T16:22:39.957538Z"
    }
   },
   "outputs": [
    {
     "data": {
      "text/plain": [
       "offensive    763\n",
       "hate         616\n",
       "none         137\n",
       "Name: hate, dtype: int64"
      ]
     },
     "execution_count": 29,
     "metadata": {},
     "output_type": "execute_result"
    }
   ],
   "source": [
    "train[train['bias'].apply(lambda x: x=='others')].hate.value_counts()"
   ]
  },
  {
   "cell_type": "markdown",
   "metadata": {},
   "source": [
    "- others에 대해 bias가 있는 사람 중 offensive, hate가 아닌 경우가 존재"
   ]
  },
  {
   "cell_type": "code",
   "execution_count": 38,
   "metadata": {
    "ExecuteTime": {
     "end_time": "2021-03-21T16:24:17.712590Z",
     "start_time": "2021-03-21T16:24:17.674690Z"
    }
   },
   "outputs": [
    {
     "data": {
      "text/html": [
       "<div>\n",
       "<style scoped>\n",
       "    .dataframe tbody tr th:only-of-type {\n",
       "        vertical-align: middle;\n",
       "    }\n",
       "\n",
       "    .dataframe tbody tr th {\n",
       "        vertical-align: top;\n",
       "    }\n",
       "\n",
       "    .dataframe thead th {\n",
       "        text-align: right;\n",
       "    }\n",
       "</style>\n",
       "<table border=\"1\" class=\"dataframe\">\n",
       "  <thead>\n",
       "    <tr style=\"text-align: right;\">\n",
       "      <th></th>\n",
       "      <th>comments</th>\n",
       "      <th>contain_gender_bias</th>\n",
       "      <th>bias</th>\n",
       "      <th>hate</th>\n",
       "    </tr>\n",
       "  </thead>\n",
       "  <tbody>\n",
       "    <tr>\n",
       "      <th>10</th>\n",
       "      <td>10살 차이가 넘을텐데 부부라고? 무슨 내용인지 긍금하네..</td>\n",
       "      <td>False</td>\n",
       "      <td>others</td>\n",
       "      <td>none</td>\n",
       "    </tr>\n",
       "    <tr>\n",
       "      <th>17</th>\n",
       "      <td>17년도 아니고 27년이면 진짜 너무했다 이것이 사랑만으로 가능할수 있는지 도저히 ...</td>\n",
       "      <td>False</td>\n",
       "      <td>others</td>\n",
       "      <td>none</td>\n",
       "    </tr>\n",
       "    <tr>\n",
       "      <th>44</th>\n",
       "      <td>20년째 열애중? 너무 길다.</td>\n",
       "      <td>False</td>\n",
       "      <td>others</td>\n",
       "      <td>none</td>\n",
       "    </tr>\n",
       "    <tr>\n",
       "      <th>69</th>\n",
       "      <td>38세48세로 잘못적은거아닌가ㅋㅋㅋㅋ할정도로 동안이네요~~~</td>\n",
       "      <td>False</td>\n",
       "      <td>others</td>\n",
       "      <td>none</td>\n",
       "    </tr>\n",
       "    <tr>\n",
       "      <th>92</th>\n",
       "      <td>52면 날씬한건데..</td>\n",
       "      <td>False</td>\n",
       "      <td>others</td>\n",
       "      <td>none</td>\n",
       "    </tr>\n",
       "    <tr>\n",
       "      <th>...</th>\n",
       "      <td>...</td>\n",
       "      <td>...</td>\n",
       "      <td>...</td>\n",
       "      <td>...</td>\n",
       "    </tr>\n",
       "    <tr>\n",
       "      <th>7671</th>\n",
       "      <td>했다에 내손모가지를 걸지!한게 나쁜거냐?!거짓말하는게 나쁘지!</td>\n",
       "      <td>False</td>\n",
       "      <td>others</td>\n",
       "      <td>none</td>\n",
       "    </tr>\n",
       "    <tr>\n",
       "      <th>7675</th>\n",
       "      <td>행복해보이네. 근데 아기가 없는게 안타깝다.</td>\n",
       "      <td>False</td>\n",
       "      <td>others</td>\n",
       "      <td>none</td>\n",
       "    </tr>\n",
       "    <tr>\n",
       "      <th>7695</th>\n",
       "      <td>헐 젊은 나이에 왠</td>\n",
       "      <td>False</td>\n",
       "      <td>others</td>\n",
       "      <td>none</td>\n",
       "    </tr>\n",
       "    <tr>\n",
       "      <th>7701</th>\n",
       "      <td>헐~ 스토리상 엄청 연하남인거임? 장미희 남편 연배는 아닌데</td>\n",
       "      <td>False</td>\n",
       "      <td>others</td>\n",
       "      <td>none</td>\n",
       "    </tr>\n",
       "    <tr>\n",
       "      <th>7720</th>\n",
       "      <td>현빈 김주원때 좋아하고 좋아한적 없는데 나이먹으니 더 깊이있어지고 멋있네.. 연기도...</td>\n",
       "      <td>False</td>\n",
       "      <td>others</td>\n",
       "      <td>none</td>\n",
       "    </tr>\n",
       "  </tbody>\n",
       "</table>\n",
       "<p>137 rows × 4 columns</p>\n",
       "</div>"
      ],
      "text/plain": [
       "                                               comments  contain_gender_bias  \\\n",
       "10                    10살 차이가 넘을텐데 부부라고? 무슨 내용인지 긍금하네..                False   \n",
       "17    17년도 아니고 27년이면 진짜 너무했다 이것이 사랑만으로 가능할수 있는지 도저히 ...                False   \n",
       "44                                     20년째 열애중? 너무 길다.                False   \n",
       "69                    38세48세로 잘못적은거아닌가ㅋㅋㅋㅋ할정도로 동안이네요~~~                False   \n",
       "92                                          52면 날씬한건데..                False   \n",
       "...                                                 ...                  ...   \n",
       "7671                 했다에 내손모가지를 걸지!한게 나쁜거냐?!거짓말하는게 나쁘지!                False   \n",
       "7675                           행복해보이네. 근데 아기가 없는게 안타깝다.                False   \n",
       "7695                                         헐 젊은 나이에 왠                False   \n",
       "7701                  헐~ 스토리상 엄청 연하남인거임? 장미희 남편 연배는 아닌데                False   \n",
       "7720  현빈 김주원때 좋아하고 좋아한적 없는데 나이먹으니 더 깊이있어지고 멋있네.. 연기도...                False   \n",
       "\n",
       "        bias  hate  \n",
       "10    others  none  \n",
       "17    others  none  \n",
       "44    others  none  \n",
       "69    others  none  \n",
       "92    others  none  \n",
       "...      ...   ...  \n",
       "7671  others  none  \n",
       "7675  others  none  \n",
       "7695  others  none  \n",
       "7701  others  none  \n",
       "7720  others  none  \n",
       "\n",
       "[137 rows x 4 columns]"
      ]
     },
     "execution_count": 38,
     "metadata": {},
     "output_type": "execute_result"
    }
   ],
   "source": [
    "others_bias = train[train['bias'].apply(lambda x: x=='others')]\n",
    "others_bias[others_bias['hate'].apply(lambda x: x =='none')]"
   ]
  },
  {
   "cell_type": "code",
   "execution_count": 39,
   "metadata": {
    "ExecuteTime": {
     "end_time": "2021-03-21T16:24:32.744228Z",
     "start_time": "2021-03-21T16:24:32.724280Z"
    }
   },
   "outputs": [
    {
     "data": {
      "text/html": [
       "<div>\n",
       "<style scoped>\n",
       "    .dataframe tbody tr th:only-of-type {\n",
       "        vertical-align: middle;\n",
       "    }\n",
       "\n",
       "    .dataframe tbody tr th {\n",
       "        vertical-align: top;\n",
       "    }\n",
       "\n",
       "    .dataframe thead th {\n",
       "        text-align: right;\n",
       "    }\n",
       "</style>\n",
       "<table border=\"1\" class=\"dataframe\">\n",
       "  <thead>\n",
       "    <tr style=\"text-align: right;\">\n",
       "      <th></th>\n",
       "      <th>comments</th>\n",
       "      <th>contain_gender_bias</th>\n",
       "      <th>bias</th>\n",
       "      <th>hate</th>\n",
       "    </tr>\n",
       "  </thead>\n",
       "  <tbody>\n",
       "    <tr>\n",
       "      <th>15</th>\n",
       "      <td>15살차이면 어릴때사고쳤으면 딸벌인데 ㅋㅋ 능력좋네 전현무 여자들이 전현무스타일이 ...</td>\n",
       "      <td>False</td>\n",
       "      <td>others</td>\n",
       "      <td>offensive</td>\n",
       "    </tr>\n",
       "    <tr>\n",
       "      <th>36</th>\n",
       "      <td>200억대 쳐바르고 홍보를 그렇게나했는데 시청률 5.0%가 자랑이라고 올렸냐... ...</td>\n",
       "      <td>False</td>\n",
       "      <td>others</td>\n",
       "      <td>offensive</td>\n",
       "    </tr>\n",
       "    <tr>\n",
       "      <th>46</th>\n",
       "      <td>20대다. 연애 많이 해봐라.</td>\n",
       "      <td>False</td>\n",
       "      <td>others</td>\n",
       "      <td>offensive</td>\n",
       "    </tr>\n",
       "    <tr>\n",
       "      <th>47</th>\n",
       "      <td>20살차?? ㅉㅉ</td>\n",
       "      <td>False</td>\n",
       "      <td>others</td>\n",
       "      <td>offensive</td>\n",
       "    </tr>\n",
       "    <tr>\n",
       "      <th>49</th>\n",
       "      <td>24살인데 술을먹어 발랑까졋네 고딩때도 먹엇을듯</td>\n",
       "      <td>False</td>\n",
       "      <td>others</td>\n",
       "      <td>offensive</td>\n",
       "    </tr>\n",
       "    <tr>\n",
       "      <th>...</th>\n",
       "      <td>...</td>\n",
       "      <td>...</td>\n",
       "      <td>...</td>\n",
       "      <td>...</td>\n",
       "    </tr>\n",
       "    <tr>\n",
       "      <th>7823</th>\n",
       "      <td>화사는 진짜 못생</td>\n",
       "      <td>False</td>\n",
       "      <td>others</td>\n",
       "      <td>offensive</td>\n",
       "    </tr>\n",
       "    <tr>\n",
       "      <th>7833</th>\n",
       "      <td>확실히 유승준 엠씨몽보다 지능적이긴했어</td>\n",
       "      <td>False</td>\n",
       "      <td>others</td>\n",
       "      <td>offensive</td>\n",
       "    </tr>\n",
       "    <tr>\n",
       "      <th>7835</th>\n",
       "      <td>환하나 지독한 인간 인 것 같네요. 박유천은 피해자이다. 이외에도 더 많은 피해자가...</td>\n",
       "      <td>False</td>\n",
       "      <td>others</td>\n",
       "      <td>offensive</td>\n",
       "    </tr>\n",
       "    <tr>\n",
       "      <th>7837</th>\n",
       "      <td>환희는 선플로가고 준희는 악플로가는데 생긴걸로 억울한면이 많을듯</td>\n",
       "      <td>False</td>\n",
       "      <td>others</td>\n",
       "      <td>offensive</td>\n",
       "    </tr>\n",
       "    <tr>\n",
       "      <th>7839</th>\n",
       "      <td>황교익이 이 기사를 싫어합니다</td>\n",
       "      <td>False</td>\n",
       "      <td>others</td>\n",
       "      <td>offensive</td>\n",
       "    </tr>\n",
       "  </tbody>\n",
       "</table>\n",
       "<p>763 rows × 4 columns</p>\n",
       "</div>"
      ],
      "text/plain": [
       "                                               comments  contain_gender_bias  \\\n",
       "15    15살차이면 어릴때사고쳤으면 딸벌인데 ㅋㅋ 능력좋네 전현무 여자들이 전현무스타일이 ...                False   \n",
       "36    200억대 쳐바르고 홍보를 그렇게나했는데 시청률 5.0%가 자랑이라고 올렸냐... ...                False   \n",
       "46                                     20대다. 연애 많이 해봐라.                False   \n",
       "47                                            20살차?? ㅉㅉ                False   \n",
       "49                           24살인데 술을먹어 발랑까졋네 고딩때도 먹엇을듯                False   \n",
       "...                                                 ...                  ...   \n",
       "7823                                          화사는 진짜 못생                False   \n",
       "7833                              확실히 유승준 엠씨몽보다 지능적이긴했어                False   \n",
       "7835  환하나 지독한 인간 인 것 같네요. 박유천은 피해자이다. 이외에도 더 많은 피해자가...                False   \n",
       "7837                환희는 선플로가고 준희는 악플로가는데 생긴걸로 억울한면이 많을듯                False   \n",
       "7839                                   황교익이 이 기사를 싫어합니다                False   \n",
       "\n",
       "        bias       hate  \n",
       "15    others  offensive  \n",
       "36    others  offensive  \n",
       "46    others  offensive  \n",
       "47    others  offensive  \n",
       "49    others  offensive  \n",
       "...      ...        ...  \n",
       "7823  others  offensive  \n",
       "7833  others  offensive  \n",
       "7835  others  offensive  \n",
       "7837  others  offensive  \n",
       "7839  others  offensive  \n",
       "\n",
       "[763 rows x 4 columns]"
      ]
     },
     "execution_count": 39,
     "metadata": {},
     "output_type": "execute_result"
    }
   ],
   "source": [
    "others_bias[others_bias['hate'].apply(lambda x: x =='offensive')]"
   ]
  },
  {
   "cell_type": "code",
   "execution_count": 40,
   "metadata": {
    "ExecuteTime": {
     "end_time": "2021-03-21T16:28:14.620132Z",
     "start_time": "2021-03-21T16:28:14.583231Z"
    }
   },
   "outputs": [
    {
     "data": {
      "text/html": [
       "<div>\n",
       "<style scoped>\n",
       "    .dataframe tbody tr th:only-of-type {\n",
       "        vertical-align: middle;\n",
       "    }\n",
       "\n",
       "    .dataframe tbody tr th {\n",
       "        vertical-align: top;\n",
       "    }\n",
       "\n",
       "    .dataframe thead th {\n",
       "        text-align: right;\n",
       "    }\n",
       "</style>\n",
       "<table border=\"1\" class=\"dataframe\">\n",
       "  <thead>\n",
       "    <tr style=\"text-align: right;\">\n",
       "      <th></th>\n",
       "      <th>comments</th>\n",
       "      <th>contain_gender_bias</th>\n",
       "      <th>bias</th>\n",
       "      <th>hate</th>\n",
       "    </tr>\n",
       "  </thead>\n",
       "  <tbody>\n",
       "    <tr>\n",
       "      <th>8</th>\n",
       "      <td>10년만에 재미를 느끼는 프로였는데왜 니들때문에 폐지를해야되냐</td>\n",
       "      <td>False</td>\n",
       "      <td>none</td>\n",
       "      <td>offensive</td>\n",
       "    </tr>\n",
       "    <tr>\n",
       "      <th>9</th>\n",
       "      <td>10년차방탄팬인데 우리방탄처럼 성공은못하겠지만 일단 방탄의 부하가되고싶다는거니 이름...</td>\n",
       "      <td>False</td>\n",
       "      <td>none</td>\n",
       "      <td>offensive</td>\n",
       "    </tr>\n",
       "    <tr>\n",
       "      <th>13</th>\n",
       "      <td>1400억 뜯기고 얼마나 억울 했을꼬 뒤질만큼 아플만 하지~~~~ㅋㅋㅋㅋ</td>\n",
       "      <td>False</td>\n",
       "      <td>none</td>\n",
       "      <td>offensive</td>\n",
       "    </tr>\n",
       "    <tr>\n",
       "      <th>23</th>\n",
       "      <td>1년연예 ㅋㅋ 2년봅니다....</td>\n",
       "      <td>False</td>\n",
       "      <td>none</td>\n",
       "      <td>offensive</td>\n",
       "    </tr>\n",
       "    <tr>\n",
       "      <th>26</th>\n",
       "      <td>1보다 재미없어요 진짜 보다 나올뻔</td>\n",
       "      <td>False</td>\n",
       "      <td>none</td>\n",
       "      <td>offensive</td>\n",
       "    </tr>\n",
       "    <tr>\n",
       "      <th>...</th>\n",
       "      <td>...</td>\n",
       "      <td>...</td>\n",
       "      <td>...</td>\n",
       "      <td>...</td>\n",
       "    </tr>\n",
       "    <tr>\n",
       "      <th>7840</th>\n",
       "      <td>황금빛 약빨 떨어지니까 슬금슬금 나오는 군ㅋ</td>\n",
       "      <td>False</td>\n",
       "      <td>none</td>\n",
       "      <td>offensive</td>\n",
       "    </tr>\n",
       "    <tr>\n",
       "      <th>7862</th>\n",
       "      <td>흐아아아암 잘잤다</td>\n",
       "      <td>False</td>\n",
       "      <td>none</td>\n",
       "      <td>offensive</td>\n",
       "    </tr>\n",
       "    <tr>\n",
       "      <th>7872</th>\n",
       "      <td>흥국아 오래 살았다 아이가</td>\n",
       "      <td>False</td>\n",
       "      <td>none</td>\n",
       "      <td>offensive</td>\n",
       "    </tr>\n",
       "    <tr>\n",
       "      <th>7877</th>\n",
       "      <td>히든싱어도 끝났다...예전에 비해 가수의 레벨이 너무 떨어짐.</td>\n",
       "      <td>False</td>\n",
       "      <td>none</td>\n",
       "      <td>offensive</td>\n",
       "    </tr>\n",
       "    <tr>\n",
       "      <th>7882</th>\n",
       "      <td>힘내라 이쁜 혜선아 다음엔 저런인간 만나지 말고^^;</td>\n",
       "      <td>False</td>\n",
       "      <td>none</td>\n",
       "      <td>offensive</td>\n",
       "    </tr>\n",
       "  </tbody>\n",
       "</table>\n",
       "<p>1369 rows × 4 columns</p>\n",
       "</div>"
      ],
      "text/plain": [
       "                                               comments  contain_gender_bias  \\\n",
       "8                    10년만에 재미를 느끼는 프로였는데왜 니들때문에 폐지를해야되냐                False   \n",
       "9     10년차방탄팬인데 우리방탄처럼 성공은못하겠지만 일단 방탄의 부하가되고싶다는거니 이름...                False   \n",
       "13             1400억 뜯기고 얼마나 억울 했을꼬 뒤질만큼 아플만 하지~~~~ㅋㅋㅋㅋ                False   \n",
       "23                                    1년연예 ㅋㅋ 2년봅니다....                False   \n",
       "26                                  1보다 재미없어요 진짜 보다 나올뻔                False   \n",
       "...                                                 ...                  ...   \n",
       "7840                           황금빛 약빨 떨어지니까 슬금슬금 나오는 군ㅋ                False   \n",
       "7862                                          흐아아아암 잘잤다                False   \n",
       "7872                                     흥국아 오래 살았다 아이가                False   \n",
       "7877                 히든싱어도 끝났다...예전에 비해 가수의 레벨이 너무 떨어짐.                False   \n",
       "7882                      힘내라 이쁜 혜선아 다음엔 저런인간 만나지 말고^^;                False   \n",
       "\n",
       "      bias       hate  \n",
       "8     none  offensive  \n",
       "9     none  offensive  \n",
       "13    none  offensive  \n",
       "23    none  offensive  \n",
       "26    none  offensive  \n",
       "...    ...        ...  \n",
       "7840  none  offensive  \n",
       "7862  none  offensive  \n",
       "7872  none  offensive  \n",
       "7877  none  offensive  \n",
       "7882  none  offensive  \n",
       "\n",
       "[1369 rows x 4 columns]"
      ]
     },
     "execution_count": 40,
     "metadata": {},
     "output_type": "execute_result"
    }
   ],
   "source": [
    "none_bias = train[train['bias'].apply(lambda x: x=='none')]\n",
    "none_bias[none_bias['hate'].apply(lambda x: x =='offensive')]"
   ]
  },
  {
   "cell_type": "markdown",
   "metadata": {},
   "source": [
    "- other bias의 경우 데이터 라벨링이 올바르지 못한 경우가 존재\n",
    "    - \"흥국아 오래 살았따 아이가\" : bias - none\n",
    "    - \"\t20대다. 연애 많이 해봐라.\" : bias - others\n",
    "- 따라서, bias는 gender_bias 가 True/False 로 이진분류로 변환해주고자 함\n",
    "    - **즉, column을 'bias'가 아닌 'contain_gender_bias'를 이용**"
   ]
  },
  {
   "cell_type": "code",
   "execution_count": 42,
   "metadata": {
    "ExecuteTime": {
     "end_time": "2021-03-21T16:31:42.917915Z",
     "start_time": "2021-03-21T16:31:42.899963Z"
    }
   },
   "outputs": [
    {
     "data": {
      "text/html": [
       "<div>\n",
       "<style scoped>\n",
       "    .dataframe tbody tr th:only-of-type {\n",
       "        vertical-align: middle;\n",
       "    }\n",
       "\n",
       "    .dataframe tbody tr th {\n",
       "        vertical-align: top;\n",
       "    }\n",
       "\n",
       "    .dataframe thead th {\n",
       "        text-align: right;\n",
       "    }\n",
       "</style>\n",
       "<table border=\"1\" class=\"dataframe\">\n",
       "  <thead>\n",
       "    <tr style=\"text-align: right;\">\n",
       "      <th></th>\n",
       "      <th>comments</th>\n",
       "      <th>contain_gender_bias</th>\n",
       "      <th>bias</th>\n",
       "      <th>hate</th>\n",
       "    </tr>\n",
       "  </thead>\n",
       "  <tbody>\n",
       "    <tr>\n",
       "      <th>51</th>\n",
       "      <td>25년전이면오달수도 혈기왕성할때인데 그럴수도 있을듯 그리고 이제와서 25년일을 말하...</td>\n",
       "      <td>True</td>\n",
       "      <td>gender</td>\n",
       "      <td>none</td>\n",
       "    </tr>\n",
       "    <tr>\n",
       "      <th>452</th>\n",
       "      <td>거 예비며느리가 빚 청산해주구 시부모한테 이쁨좀 받자 ㅋ</td>\n",
       "      <td>True</td>\n",
       "      <td>gender</td>\n",
       "      <td>none</td>\n",
       "    </tr>\n",
       "    <tr>\n",
       "      <th>846</th>\n",
       "      <td>그래도 남자로서 부럽네...잘생겨서 항상 인기 많은듯</td>\n",
       "      <td>True</td>\n",
       "      <td>gender</td>\n",
       "      <td>none</td>\n",
       "    </tr>\n",
       "    <tr>\n",
       "      <th>864</th>\n",
       "      <td>그래도 초희 이쁘니까 괜찮아</td>\n",
       "      <td>True</td>\n",
       "      <td>gender</td>\n",
       "      <td>none</td>\n",
       "    </tr>\n",
       "    <tr>\n",
       "      <th>949</th>\n",
       "      <td>그분들 몰려오겠네 에휴, 남한테 피해주는것도 아니고 본인이하고싶어서 하는건데 뭐라고...</td>\n",
       "      <td>True</td>\n",
       "      <td>gender</td>\n",
       "      <td>none</td>\n",
       "    </tr>\n",
       "    <tr>\n",
       "      <th>...</th>\n",
       "      <td>...</td>\n",
       "      <td>...</td>\n",
       "      <td>...</td>\n",
       "      <td>...</td>\n",
       "    </tr>\n",
       "    <tr>\n",
       "      <th>7158</th>\n",
       "      <td>최근 본 사회면 기사중에 유.일.하.게. 여성 댓글 비율이 높네</td>\n",
       "      <td>True</td>\n",
       "      <td>gender</td>\n",
       "      <td>none</td>\n",
       "    </tr>\n",
       "    <tr>\n",
       "      <th>7540</th>\n",
       "      <td>한국여자들이 욕하는걸 보니까 송혜교씨 정말 훌륭한 사람이시네요 응원합니다</td>\n",
       "      <td>True</td>\n",
       "      <td>gender</td>\n",
       "      <td>none</td>\n",
       "    </tr>\n",
       "    <tr>\n",
       "      <th>7612</th>\n",
       "      <td>한채아가 아깝다 좋다는 남자 많은데</td>\n",
       "      <td>True</td>\n",
       "      <td>gender</td>\n",
       "      <td>none</td>\n",
       "    </tr>\n",
       "    <tr>\n",
       "      <th>7812</th>\n",
       "      <td>화나요는 다 여자가누른듯, , ,,인정하면 up, , ,</td>\n",
       "      <td>True</td>\n",
       "      <td>gender</td>\n",
       "      <td>none</td>\n",
       "    </tr>\n",
       "    <tr>\n",
       "      <th>7814</th>\n",
       "      <td>화목한 가정 특징 : 마누라가 이쁨</td>\n",
       "      <td>True</td>\n",
       "      <td>gender</td>\n",
       "      <td>none</td>\n",
       "    </tr>\n",
       "  </tbody>\n",
       "</table>\n",
       "<p>76 rows × 4 columns</p>\n",
       "</div>"
      ],
      "text/plain": [
       "                                               comments  contain_gender_bias  \\\n",
       "51    25년전이면오달수도 혈기왕성할때인데 그럴수도 있을듯 그리고 이제와서 25년일을 말하...                 True   \n",
       "452                     거 예비며느리가 빚 청산해주구 시부모한테 이쁨좀 받자 ㅋ                 True   \n",
       "846                       그래도 남자로서 부럽네...잘생겨서 항상 인기 많은듯                 True   \n",
       "864                                     그래도 초희 이쁘니까 괜찮아                 True   \n",
       "949   그분들 몰려오겠네 에휴, 남한테 피해주는것도 아니고 본인이하고싶어서 하는건데 뭐라고...                 True   \n",
       "...                                                 ...                  ...   \n",
       "7158                최근 본 사회면 기사중에 유.일.하.게. 여성 댓글 비율이 높네                 True   \n",
       "7540           한국여자들이 욕하는걸 보니까 송혜교씨 정말 훌륭한 사람이시네요 응원합니다                 True   \n",
       "7612                                한채아가 아깝다 좋다는 남자 많은데                 True   \n",
       "7812                    화나요는 다 여자가누른듯, , ,,인정하면 up, , ,                 True   \n",
       "7814                                화목한 가정 특징 : 마누라가 이쁨                 True   \n",
       "\n",
       "        bias  hate  \n",
       "51    gender  none  \n",
       "452   gender  none  \n",
       "846   gender  none  \n",
       "864   gender  none  \n",
       "949   gender  none  \n",
       "...      ...   ...  \n",
       "7158  gender  none  \n",
       "7540  gender  none  \n",
       "7612  gender  none  \n",
       "7812  gender  none  \n",
       "7814  gender  none  \n",
       "\n",
       "[76 rows x 4 columns]"
      ]
     },
     "execution_count": 42,
     "metadata": {},
     "output_type": "execute_result"
    }
   ],
   "source": [
    "gender_bias = train[train['bias'].apply(lambda x: x=='gender')]\n",
    "gender_bias[gender_bias['hate'].apply(lambda x: x =='none')]"
   ]
  },
  {
   "cell_type": "code",
   "execution_count": 5,
   "metadata": {
    "ExecuteTime": {
     "end_time": "2021-03-23T12:13:15.029933Z",
     "start_time": "2021-03-23T12:13:15.013013Z"
    }
   },
   "outputs": [],
   "source": [
    "texts = train['comments']"
   ]
  },
  {
   "cell_type": "code",
   "execution_count": 6,
   "metadata": {
    "ExecuteTime": {
     "end_time": "2021-03-23T12:17:11.552353Z",
     "start_time": "2021-03-23T12:13:15.522221Z"
    }
   },
   "outputs": [
    {
     "name": "stderr",
     "output_type": "stream",
     "text": [
      "C:\\Users\\rlagy\\anaconda3\\lib\\site-packages\\konlpy\\tag\\_okt.py:16: UserWarning: \"Twitter\" has changed to \"Okt\" since KoNLPy v0.4.5.\n",
      "  warn('\"Twitter\" has changed to \"Okt\" since KoNLPy v0.4.5.')\n"
     ]
    },
    {
     "name": "stdout",
     "output_type": "stream",
     "text": [
      "tagger name =       kkma, 206.511 secs\n",
      "tagger name =    twitter, 21.144 secs\n",
      "tagger name =    Komoran, 4.718 secs\n"
     ]
    }
   ],
   "source": [
    "import time\n",
    "from konlpy.tag import Kkma, Twitter, Komoran\n",
    "pos_taggers = [('kkma', Kkma()), ('twitter', Twitter()), ('Komoran', Komoran())]\n",
    "results = []\n",
    "for name, tagger in pos_taggers:\n",
    "    tokens = []\n",
    "    process_time = time.time()\n",
    "    for text in texts:\n",
    "        tokens.append(tagger.pos(text))\n",
    "    process_time = time.time() - process_time\n",
    "    print('tagger name = %10s, %.3f secs' % (name, process_time))\n",
    "    results.append(tokens)"
   ]
  },
  {
   "cell_type": "code",
   "execution_count": null,
   "metadata": {},
   "outputs": [],
   "source": []
  }
 ],
 "metadata": {
  "kernelspec": {
   "display_name": "Python 3",
   "language": "python",
   "name": "python3"
  },
  "language_info": {
   "codemirror_mode": {
    "name": "ipython",
    "version": 3
   },
   "file_extension": ".py",
   "mimetype": "text/x-python",
   "name": "python",
   "nbconvert_exporter": "python",
   "pygments_lexer": "ipython3",
   "version": "3.8.3"
  },
  "toc": {
   "base_numbering": 1,
   "nav_menu": {},
   "number_sections": true,
   "sideBar": true,
   "skip_h1_title": false,
   "title_cell": "Table of Contents",
   "title_sidebar": "Contents",
   "toc_cell": false,
   "toc_position": {},
   "toc_section_display": true,
   "toc_window_display": false
  }
 },
 "nbformat": 4,
 "nbformat_minor": 4
}
