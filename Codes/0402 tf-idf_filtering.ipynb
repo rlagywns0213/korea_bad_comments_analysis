{
 "cells": [
  {
   "cell_type": "code",
   "execution_count": 9,
   "metadata": {
    "ExecuteTime": {
     "end_time": "2021-04-02T05:17:12.311063Z",
     "start_time": "2021-04-02T05:17:12.274161Z"
    }
   },
   "outputs": [],
   "source": [
    "import pandas as pd\n",
    "train= pd.read_csv('korean-hate-speech/labeled/train.tsv' ,sep='\\t')\n",
    "dev= pd.read_csv('korean-hate-speech/labeled/dev.tsv' ,sep='\\t')"
   ]
  },
  {
   "cell_type": "markdown",
   "metadata": {},
   "source": [
    "# 독립변수 처리"
   ]
  },
  {
   "cell_type": "code",
   "execution_count": 10,
   "metadata": {
    "ExecuteTime": {
     "end_time": "2021-04-02T05:17:12.686261Z",
     "start_time": "2021-04-02T05:17:12.670304Z"
    }
   },
   "outputs": [],
   "source": [
    "train = train[['comments','hate']]\n",
    "train['hate'] = train['hate'].map({'none':0,'offensive':1,'hate':2})\n",
    "dev = dev[['comments','hate']]\n",
    "dev['hate'] = dev['hate'].map({'none':0,'offensive':1,'hate':2})"
   ]
  },
  {
   "cell_type": "code",
   "execution_count": 11,
   "metadata": {
    "ExecuteTime": {
     "end_time": "2021-04-02T05:17:12.835863Z",
     "start_time": "2021-04-02T05:17:12.827883Z"
    }
   },
   "outputs": [],
   "source": [
    "import pandas as pd\n",
    "import numpy as np\n",
    "import matplotlib.pyplot as plt\n",
    "import urllib.request\n",
    "from collections import Counter\n",
    "from konlpy.tag import Mecab\n",
    "from sklearn.model_selection import train_test_split\n",
    "from tensorflow.keras.preprocessing.text import Tokenizer\n",
    "from tensorflow.keras.preprocessing.sequence import pad_sequences"
   ]
  },
  {
   "cell_type": "code",
   "execution_count": 12,
   "metadata": {
    "ExecuteTime": {
     "end_time": "2021-04-02T05:17:13.000422Z",
     "start_time": "2021-04-02T05:17:12.996433Z"
    }
   },
   "outputs": [
    {
     "name": "stdout",
     "output_type": "stream",
     "text": [
      "훈련용 리뷰의 개수 : 7896\n",
      "테스트용 리뷰의 개수 : 471\n"
     ]
    }
   ],
   "source": [
    "print('훈련용 리뷰의 개수 :', len(train))\n",
    "print('테스트용 리뷰의 개수 :', len(dev))"
   ]
  },
  {
   "cell_type": "code",
   "execution_count": 13,
   "metadata": {
    "ExecuteTime": {
     "end_time": "2021-04-02T05:17:13.299631Z",
     "start_time": "2021-04-02T05:17:13.166977Z"
    },
    "scrolled": true
   },
   "outputs": [
    {
     "data": {
      "text/plain": [
       "<matplotlib.axes._subplots.AxesSubplot at 0x1f9416a7bb0>"
      ]
     },
     "execution_count": 13,
     "metadata": {},
     "output_type": "execute_result"
    },
    {
     "data": {
      "image/png": "[encoded data removed]",
      "text/plain": [
       "<Figure size 432x288 with 1 Axes>"
      ]
     },
     "metadata": {
      "needs_background": "light"
     },
     "output_type": "display_data"
    }
   ],
   "source": [
    "train['hate'].value_counts().plot(kind = 'bar')"
   ]
  },
  {
   "cell_type": "markdown",
   "metadata": {},
   "source": [
    "# 불용어 제거 후 토큰화 작업\n",
    "\n",
    "- ( , ) 도 추가\n",
    "- ....은 의미 있을 수도 있어 제거 X"
   ]
  },
  {
   "cell_type": "code",
   "execution_count": 14,
   "metadata": {
    "ExecuteTime": {
     "end_time": "2021-04-02T05:17:13.646148Z",
     "start_time": "2021-04-02T05:17:13.639166Z"
    }
   },
   "outputs": [],
   "source": [
    "stopwords = ['(',')','도', '는', '다', '의', '가', '이', '은', '한', '에', '하', '고', '을', '를', '인', '듯', '과', '와', '네', '들', '듯', '지', '임', '게', '만', '음', '면']"
   ]
  },
  {
   "cell_type": "code",
   "execution_count": 15,
   "metadata": {
    "ExecuteTime": {
     "end_time": "2021-04-02T05:17:14.650460Z",
     "start_time": "2021-04-02T05:17:13.947342Z"
    }
   },
   "outputs": [],
   "source": [
    "mecab = Mecab(dicpath=r\"C:\\mecab\\mecab-ko-dic\")\n",
    "\n",
    "train['tokenized'] = train['comments'].apply(mecab.morphs)\n",
    "train['tokenized'] = train['tokenized'].apply(lambda x: [item for item in x if item not in stopwords])\n",
    "dev['tokenized'] = dev['comments'].apply(mecab.morphs)\n",
    "dev['tokenized'] = dev['tokenized'].apply(lambda x: [item for item in x if item not in stopwords])"
   ]
  },
  {
   "cell_type": "code",
   "execution_count": 16,
   "metadata": {
    "ExecuteTime": {
     "end_time": "2021-04-02T05:17:14.680381Z",
     "start_time": "2021-04-02T05:17:14.652456Z"
    }
   },
   "outputs": [
    {
     "data": {
      "text/html": [
       "<div>\n",
       "<style scoped>\n",
       "    .dataframe tbody tr th:only-of-type {\n",
       "        vertical-align: middle;\n",
       "    }\n",
       "\n",
       "    .dataframe tbody tr th {\n",
       "        vertical-align: top;\n",
       "    }\n",
       "\n",
       "    .dataframe thead th {\n",
       "        text-align: right;\n",
       "    }\n",
       "</style>\n",
       "<table border=\"1\" class=\"dataframe\">\n",
       "  <thead>\n",
       "    <tr style=\"text-align: right;\">\n",
       "      <th></th>\n",
       "      <th>comments</th>\n",
       "      <th>hate</th>\n",
       "      <th>tokenized</th>\n",
       "    </tr>\n",
       "  </thead>\n",
       "  <tbody>\n",
       "    <tr>\n",
       "      <th>0</th>\n",
       "      <td>(현재 호텔주인 심정) 아18 난 마른하늘에 날벼락맞고 호텔망하게생겼는데 누군 계속...</td>\n",
       "      <td>2</td>\n",
       "      <td>[현재, 호텔, 주인, 심정, 아, 18, 난, 마른, 하늘, 날벼락, 맞, 호텔,...</td>\n",
       "    </tr>\n",
       "    <tr>\n",
       "      <th>1</th>\n",
       "      <td>....한국적인 미인의 대표적인 분...너무나 곱고아름다운모습...그모습뒤의 슬픔을...</td>\n",
       "      <td>0</td>\n",
       "      <td>[...., 한국, 적, 미인, 대표, 적, 분, ., .., 너무나, 곱, 아름다...</td>\n",
       "    </tr>\n",
       "    <tr>\n",
       "      <th>2</th>\n",
       "      <td>...못된 넘들...남의 고통을 즐겼던 넘들..이젠 마땅한 처벌을 받아야지..,그래...</td>\n",
       "      <td>2</td>\n",
       "      <td>[..., 못된, 넘, ., .., 남, 고통, 즐겼, 던, 넘, ., ., 이젠,...</td>\n",
       "    </tr>\n",
       "    <tr>\n",
       "      <th>3</th>\n",
       "      <td>1,2화 어설펐는데 3,4화 지나서부터는 갈수록 너무 재밌던데</td>\n",
       "      <td>0</td>\n",
       "      <td>[1, ,, 2, 화, 어설펐, 는데, 3, ,, 4, 화, 지나, 서, 부터, 갈...</td>\n",
       "    </tr>\n",
       "    <tr>\n",
       "      <th>4</th>\n",
       "      <td>1. 사람 얼굴 손톱으로 긁은것은 인격살해이고2. 동영상이 몰카냐? 메걸리안들 생각...</td>\n",
       "      <td>2</td>\n",
       "      <td>[1, ., 사람, 얼굴, 손톱, 으로, 긁, 것, 인격, 살해, 2, ., 동영상...</td>\n",
       "    </tr>\n",
       "    <tr>\n",
       "      <th>...</th>\n",
       "      <td>...</td>\n",
       "      <td>...</td>\n",
       "      <td>...</td>\n",
       "    </tr>\n",
       "    <tr>\n",
       "      <th>7891</th>\n",
       "      <td>힘내세요~ 응원합니다!!</td>\n",
       "      <td>0</td>\n",
       "      <td>[힘내, 세요, ~, 응원, 합니다, !, !]</td>\n",
       "    </tr>\n",
       "    <tr>\n",
       "      <th>7892</th>\n",
       "      <td>힘내세요~~삼가 고인의 명복을 빕니다..</td>\n",
       "      <td>0</td>\n",
       "      <td>[힘내, 세요, ~~, 삼가, 고인, 명복, 빕, 니다, ., .]</td>\n",
       "    </tr>\n",
       "    <tr>\n",
       "      <th>7893</th>\n",
       "      <td>힘내세용 ^^ 항상 응원합니닷 ^^ !</td>\n",
       "      <td>0</td>\n",
       "      <td>[힘내, 세용, ^^, 항상, 응, 원합, 니, 닷, ^^, !]</td>\n",
       "    </tr>\n",
       "    <tr>\n",
       "      <th>7894</th>\n",
       "      <td>힘내소...연기로 답해요.나도 53살 인데 이런일 저런일 다 있더라구요.인격을 믿습...</td>\n",
       "      <td>0</td>\n",
       "      <td>[힘내, 소, ., .., 연기, 로, 답, 해요, ., 나, 53, 살, 인데, ...</td>\n",
       "    </tr>\n",
       "    <tr>\n",
       "      <th>7895</th>\n",
       "      <td>힘들면 관뒀어야지 그게 현명한거다</td>\n",
       "      <td>0</td>\n",
       "      <td>[힘들, 관뒀, 어야지, 그게, 현명, 거]</td>\n",
       "    </tr>\n",
       "  </tbody>\n",
       "</table>\n",
       "<p>7896 rows × 3 columns</p>\n",
       "</div>"
      ],
      "text/plain": [
       "                                               comments  hate  \\\n",
       "0     (현재 호텔주인 심정) 아18 난 마른하늘에 날벼락맞고 호텔망하게생겼는데 누군 계속...     2   \n",
       "1     ....한국적인 미인의 대표적인 분...너무나 곱고아름다운모습...그모습뒤의 슬픔을...     0   \n",
       "2     ...못된 넘들...남의 고통을 즐겼던 넘들..이젠 마땅한 처벌을 받아야지..,그래...     2   \n",
       "3                    1,2화 어설펐는데 3,4화 지나서부터는 갈수록 너무 재밌던데     0   \n",
       "4     1. 사람 얼굴 손톱으로 긁은것은 인격살해이고2. 동영상이 몰카냐? 메걸리안들 생각...     2   \n",
       "...                                                 ...   ...   \n",
       "7891                                      힘내세요~ 응원합니다!!     0   \n",
       "7892                             힘내세요~~삼가 고인의 명복을 빕니다..     0   \n",
       "7893                              힘내세용 ^^ 항상 응원합니닷 ^^ !     0   \n",
       "7894  힘내소...연기로 답해요.나도 53살 인데 이런일 저런일 다 있더라구요.인격을 믿습...     0   \n",
       "7895                                 힘들면 관뒀어야지 그게 현명한거다     0   \n",
       "\n",
       "                                              tokenized  \n",
       "0     [현재, 호텔, 주인, 심정, 아, 18, 난, 마른, 하늘, 날벼락, 맞, 호텔,...  \n",
       "1     [...., 한국, 적, 미인, 대표, 적, 분, ., .., 너무나, 곱, 아름다...  \n",
       "2     [..., 못된, 넘, ., .., 남, 고통, 즐겼, 던, 넘, ., ., 이젠,...  \n",
       "3     [1, ,, 2, 화, 어설펐, 는데, 3, ,, 4, 화, 지나, 서, 부터, 갈...  \n",
       "4     [1, ., 사람, 얼굴, 손톱, 으로, 긁, 것, 인격, 살해, 2, ., 동영상...  \n",
       "...                                                 ...  \n",
       "7891                         [힘내, 세요, ~, 응원, 합니다, !, !]  \n",
       "7892              [힘내, 세요, ~~, 삼가, 고인, 명복, 빕, 니다, ., .]  \n",
       "7893               [힘내, 세용, ^^, 항상, 응, 원합, 니, 닷, ^^, !]  \n",
       "7894  [힘내, 소, ., .., 연기, 로, 답, 해요, ., 나, 53, 살, 인데, ...  \n",
       "7895                           [힘들, 관뒀, 어야지, 그게, 현명, 거]  \n",
       "\n",
       "[7896 rows x 3 columns]"
      ]
     },
     "execution_count": 16,
     "metadata": {},
     "output_type": "execute_result"
    }
   ],
   "source": [
    "train"
   ]
  },
  {
   "cell_type": "code",
   "execution_count": 17,
   "metadata": {
    "ExecuteTime": {
     "end_time": "2021-04-02T05:17:15.371533Z",
     "start_time": "2021-04-02T05:17:15.304712Z"
    }
   },
   "outputs": [],
   "source": [
    "# sum 해주기 위한 전처리 (쉼표 및 문장간 띄어쓰기 입력)\n",
    "train['tokenized'] = train['tokenized'].apply(lambda x: str(x).replace('[','').replace(\"'\",'').replace(']',' ').replace(',',''))\n",
    "dev['tokenized'] = dev['tokenized'].apply(lambda x: str(x).replace('[','').replace(\"'\",'').replace(']',' ').replace(',',''))"
   ]
  },
  {
   "cell_type": "code",
   "execution_count": 18,
   "metadata": {
    "ExecuteTime": {
     "end_time": "2021-04-02T05:17:16.931141Z",
     "start_time": "2021-04-02T05:17:16.789522Z"
    }
   },
   "outputs": [],
   "source": [
    "all_words = train['tokenized'].sum()"
   ]
  },
  {
   "cell_type": "code",
   "execution_count": 19,
   "metadata": {
    "ExecuteTime": {
     "end_time": "2021-04-02T05:17:17.305141Z",
     "start_time": "2021-04-02T05:17:17.282202Z"
    }
   },
   "outputs": [
    {
     "name": "stdout",
     "output_type": "stream",
     "text": [
      "현재 train 에 존재하는 모든 단어 수는 123282\n"
     ]
    }
   ],
   "source": [
    "all_words = all_words.split(' ')\n",
    "print(\"현재 train 에 존재하는 모든 단어 수는\", len(all_words))"
   ]
  },
  {
   "cell_type": "code",
   "execution_count": 20,
   "metadata": {
    "ExecuteTime": {
     "end_time": "2021-04-02T05:17:18.413179Z",
     "start_time": "2021-04-02T05:17:18.401210Z"
    }
   },
   "outputs": [
    {
     "name": "stdout",
     "output_type": "stream",
     "text": [
      "현재 train 에 존재하는 중복 제거한 단어 수는 13774\n"
     ]
    }
   ],
   "source": [
    "# 추후 max_features로 사용\n",
    "print(\"현재 train 에 존재하는 중복 제거한 단어 수는\",len(set(all_words)))"
   ]
  },
  {
   "cell_type": "markdown",
   "metadata": {},
   "source": [
    "# TF-IDF 적용\n",
    "\n",
    "- 단순히 단어 코퍼스에서의 빈도 수뿐만 아니라 문서 내에 그 단어가 얼마나 중요한지의 의미를 고려한 방법론\n",
    "- 이는 특정 문서에서 상대적 빈도를 나타내는 TF와 전체 문서에 존재하는 해당 단어의 비율을 반비례한 IDF를 곱한 개념\n",
    "- 즉, 관사나 형용사처럼 공통적인 단어보다 하나의 작은 그룹에서 존재하는 흔한 단어들이 더 높은 TF-IDF값\n",
    "\n",
    "\n",
    "- 이를 활용하면, 3가지 부류에 속하는 공통적인 단어는 TF-IDF값이 낮기 때문에 쉽게 제거할 수 있지 않을까 라는 아이디어에서 고안\n",
    "- **즉 빈도 수도 많으며 해당 부류의 특성까지 반영한 단어를 확인해보자.**"
   ]
  },
  {
   "cell_type": "code",
   "execution_count": 21,
   "metadata": {
    "ExecuteTime": {
     "end_time": "2021-04-02T05:17:20.903481Z",
     "start_time": "2021-04-02T05:17:20.839652Z"
    }
   },
   "outputs": [],
   "source": [
    "none_words = train[train.hate == 0]['tokenized'].sum()\n",
    "offensive_words = train[train.hate == 1]['tokenized'].sum()\n",
    "hate_words = train[train.hate == 2]['tokenized'].sum()"
   ]
  },
  {
   "cell_type": "code",
   "execution_count": 22,
   "metadata": {
    "ExecuteTime": {
     "end_time": "2021-04-02T05:17:22.268831Z",
     "start_time": "2021-04-02T05:17:22.264844Z"
    }
   },
   "outputs": [],
   "source": [
    "corpus = none_words, offensive_words, hate_words"
   ]
  },
  {
   "cell_type": "code",
   "execution_count": 163,
   "metadata": {
    "ExecuteTime": {
     "end_time": "2021-04-01T15:56:11.169270Z",
     "start_time": "2021-04-01T15:56:11.045634Z"
    }
   },
   "outputs": [
    {
     "data": {
      "text/html": [
       "<div>\n",
       "<style scoped>\n",
       "    .dataframe tbody tr th:only-of-type {\n",
       "        vertical-align: middle;\n",
       "    }\n",
       "\n",
       "    .dataframe tbody tr th {\n",
       "        vertical-align: top;\n",
       "    }\n",
       "\n",
       "    .dataframe thead th {\n",
       "        text-align: right;\n",
       "    }\n",
       "</style>\n",
       "<table border=\"1\" class=\"dataframe\">\n",
       "  <thead>\n",
       "    <tr style=\"text-align: right;\">\n",
       "      <th></th>\n",
       "      <th>단어</th>\n",
       "      <th>TF-IDF값</th>\n",
       "    </tr>\n",
       "  </thead>\n",
       "  <tbody>\n",
       "    <tr>\n",
       "      <th>0</th>\n",
       "      <td>0000000003</td>\n",
       "      <td>0.001588</td>\n",
       "    </tr>\n",
       "    <tr>\n",
       "      <th>1</th>\n",
       "      <td>07</td>\n",
       "      <td>0.001588</td>\n",
       "    </tr>\n",
       "    <tr>\n",
       "      <th>2</th>\n",
       "      <td>10</td>\n",
       "      <td>0.046180</td>\n",
       "    </tr>\n",
       "    <tr>\n",
       "      <th>3</th>\n",
       "      <td>100</td>\n",
       "      <td>0.011913</td>\n",
       "    </tr>\n",
       "    <tr>\n",
       "      <th>4</th>\n",
       "      <td>1000</td>\n",
       "      <td>0.004410</td>\n",
       "    </tr>\n",
       "    <tr>\n",
       "      <th>...</th>\n",
       "      <td>...</td>\n",
       "      <td>...</td>\n",
       "    </tr>\n",
       "    <tr>\n",
       "      <th>12186</th>\n",
       "      <td>힘들</td>\n",
       "      <td>0.077027</td>\n",
       "    </tr>\n",
       "    <tr>\n",
       "      <th>12187</th>\n",
       "      <td>힘듦도</td>\n",
       "      <td>0.001983</td>\n",
       "    </tr>\n",
       "    <tr>\n",
       "      <th>12188</th>\n",
       "      <td>힘써</td>\n",
       "      <td>0.001588</td>\n",
       "    </tr>\n",
       "    <tr>\n",
       "      <th>12189</th>\n",
       "      <td>힘쎈</td>\n",
       "      <td>0.001983</td>\n",
       "    </tr>\n",
       "    <tr>\n",
       "      <th>12190</th>\n",
       "      <td>힙합</td>\n",
       "      <td>0.005767</td>\n",
       "    </tr>\n",
       "  </tbody>\n",
       "</table>\n",
       "<p>12191 rows × 2 columns</p>\n",
       "</div>"
      ],
      "text/plain": [
       "               단어   TF-IDF값\n",
       "0      0000000003  0.001588\n",
       "1              07  0.001588\n",
       "2              10  0.046180\n",
       "3             100  0.011913\n",
       "4            1000  0.004410\n",
       "...           ...       ...\n",
       "12186          힘들  0.077027\n",
       "12187         힘듦도  0.001983\n",
       "12188          힘써  0.001588\n",
       "12189          힘쎈  0.001983\n",
       "12190          힙합  0.005767\n",
       "\n",
       "[12191 rows x 2 columns]"
      ]
     },
     "execution_count": 163,
     "metadata": {},
     "output_type": "execute_result"
    }
   ],
   "source": [
    "from sklearn.feature_extraction.text import TfidfVectorizer\n",
    "\n",
    "tfidf = TfidfVectorizer(max_features=12191, stop_words='english')\n",
    "tdm = tfidf.fit_transform(corpus)\n",
    "word_count = pd.DataFrame({\n",
    "    '단어': tfidf.get_feature_names(),\n",
    "    'TF-IDF값': tdm.sum(axis=0).flat\n",
    "})\n",
    "word_count"
   ]
  },
  {
   "cell_type": "code",
   "execution_count": 175,
   "metadata": {
    "ExecuteTime": {
     "end_time": "2021-04-01T16:00:16.193445Z",
     "start_time": "2021-04-01T16:00:16.173497Z"
    }
   },
   "outputs": [
    {
     "data": {
      "text/html": [
       "<div>\n",
       "<style scoped>\n",
       "    .dataframe tbody tr th:only-of-type {\n",
       "        vertical-align: middle;\n",
       "    }\n",
       "\n",
       "    .dataframe tbody tr th {\n",
       "        vertical-align: top;\n",
       "    }\n",
       "\n",
       "    .dataframe thead th {\n",
       "        text-align: right;\n",
       "    }\n",
       "</style>\n",
       "<table border=\"1\" class=\"dataframe\">\n",
       "  <thead>\n",
       "    <tr style=\"text-align: right;\">\n",
       "      <th></th>\n",
       "      <th>단어</th>\n",
       "      <th>TF-IDF값</th>\n",
       "    </tr>\n",
       "  </thead>\n",
       "  <tbody>\n",
       "    <tr>\n",
       "      <th>322</th>\n",
       "      <td>ㅋㅋ</td>\n",
       "      <td>0.888532</td>\n",
       "    </tr>\n",
       "    <tr>\n",
       "      <th>323</th>\n",
       "      <td>ㅋㅋㅋ</td>\n",
       "      <td>0.742183</td>\n",
       "    </tr>\n",
       "    <tr>\n",
       "      <th>2599</th>\n",
       "      <td>는데</td>\n",
       "      <td>0.723975</td>\n",
       "    </tr>\n",
       "    <tr>\n",
       "      <th>7551</th>\n",
       "      <td>여자</td>\n",
       "      <td>0.677023</td>\n",
       "    </tr>\n",
       "    <tr>\n",
       "      <th>5607</th>\n",
       "      <td>사람</td>\n",
       "      <td>0.607859</td>\n",
       "    </tr>\n",
       "    <tr>\n",
       "      <th>...</th>\n",
       "      <td>...</td>\n",
       "      <td>...</td>\n",
       "    </tr>\n",
       "    <tr>\n",
       "      <th>4843</th>\n",
       "      <td>배윤경</td>\n",
       "      <td>0.001588</td>\n",
       "    </tr>\n",
       "    <tr>\n",
       "      <th>2154</th>\n",
       "      <td>나혼</td>\n",
       "      <td>0.001588</td>\n",
       "    </tr>\n",
       "    <tr>\n",
       "      <th>2151</th>\n",
       "      <td>나탈리포트만</td>\n",
       "      <td>0.001588</td>\n",
       "    </tr>\n",
       "    <tr>\n",
       "      <th>7997</th>\n",
       "      <td>외로웠</td>\n",
       "      <td>0.001588</td>\n",
       "    </tr>\n",
       "    <tr>\n",
       "      <th>0</th>\n",
       "      <td>0000000003</td>\n",
       "      <td>0.001588</td>\n",
       "    </tr>\n",
       "  </tbody>\n",
       "</table>\n",
       "<p>12191 rows × 2 columns</p>\n",
       "</div>"
      ],
      "text/plain": [
       "              단어   TF-IDF값\n",
       "322           ㅋㅋ  0.888532\n",
       "323          ㅋㅋㅋ  0.742183\n",
       "2599          는데  0.723975\n",
       "7551          여자  0.677023\n",
       "5607          사람  0.607859\n",
       "...          ...       ...\n",
       "4843         배윤경  0.001588\n",
       "2154          나혼  0.001588\n",
       "2151      나탈리포트만  0.001588\n",
       "7997         외로웠  0.001588\n",
       "0     0000000003  0.001588\n",
       "\n",
       "[12191 rows x 2 columns]"
      ]
     },
     "execution_count": 175,
     "metadata": {},
     "output_type": "execute_result"
    }
   ],
   "source": [
    "tf_idf_df = word_count.sort_values('TF-IDF값', ascending=False)\n",
    "tf_idf_df"
   ]
  },
  {
   "cell_type": "code",
   "execution_count": 204,
   "metadata": {
    "ExecuteTime": {
     "end_time": "2021-04-01T16:07:19.730485Z",
     "start_time": "2021-04-01T16:07:19.722505Z"
    }
   },
   "outputs": [],
   "source": [
    "low_score = list(tf_idf_df[tf_idf_df['TF-IDF값']<0.005]['단어'])"
   ]
  },
  {
   "cell_type": "markdown",
   "metadata": {},
   "source": [
    "# 불용어에 low_score넣어 토큰화 재시작"
   ]
  },
  {
   "cell_type": "code",
   "execution_count": 207,
   "metadata": {
    "ExecuteTime": {
     "end_time": "2021-04-01T16:07:38.360499Z",
     "start_time": "2021-04-01T16:07:38.353520Z"
    }
   },
   "outputs": [],
   "source": [
    "stopwords = ['(',')','도', '는', '다', '의', '가', '이', '은', '한', '에', '하', '고', '을', '를', '인', '듯', '과', '와', '네', '들', '듯', '지', '임', '게', '만', '음', '면']\n",
    "stopwords =low_score+stopwords"
   ]
  },
  {
   "cell_type": "code",
   "execution_count": 241,
   "metadata": {
    "ExecuteTime": {
     "end_time": "2021-04-01T17:40:44.643339Z",
     "start_time": "2021-04-01T17:40:44.624354Z"
    }
   },
   "outputs": [
    {
     "data": {
      "text/plain": [
       "array([[   0,    0,    0, ...,   67,    6,  248],\n",
       "       [   0,    0,    0, ..., 1439,   23,   22],\n",
       "       [   0,    0,    0, ...,  426,  136,    3],\n",
       "       ...,\n",
       "       [   0,    0,    0, ...,   17,  136,   77],\n",
       "       [   0,    0,    0, ...,  212,    2,  212],\n",
       "       [   0,    0,    0, ...,   37,  239,   10]])"
      ]
     },
     "execution_count": 241,
     "metadata": {},
     "output_type": "execute_result"
    }
   ],
   "source": [
    "X_train"
   ]
  },
  {
   "cell_type": "code",
   "execution_count": 208,
   "metadata": {
    "ExecuteTime": {
     "end_time": "2021-04-01T16:08:04.789709Z",
     "start_time": "2021-04-01T16:07:39.078981Z"
    }
   },
   "outputs": [],
   "source": [
    "mecab = Mecab(dicpath=r\"C:\\mecab\\mecab-ko-dic\")\n",
    "\n",
    "train['tokenized'] = train['comments'].apply(mecab.morphs)\n",
    "train['tokenized'] = train['tokenized'].apply(lambda x: [item for item in x if item not in stopwords])\n",
    "dev['tokenized'] = dev['comments'].apply(mecab.morphs)\n",
    "dev['tokenized'] = dev['tokenized'].apply(lambda x: [item for item in x if item not in stopwords])"
   ]
  },
  {
   "cell_type": "code",
   "execution_count": 213,
   "metadata": {
    "ExecuteTime": {
     "end_time": "2021-04-01T16:08:28.900380Z",
     "start_time": "2021-04-01T16:08:28.886408Z"
    }
   },
   "outputs": [
    {
     "data": {
      "text/plain": [
       "8       14\n",
       "9       19\n",
       "13       8\n",
       "15      19\n",
       "23       9\n",
       "        ..\n",
       "7859    45\n",
       "7862     3\n",
       "7872     5\n",
       "7877    10\n",
       "7882    12\n",
       "Name: tokenized, Length: 2499, dtype: int64"
      ]
     },
     "execution_count": 213,
     "metadata": {},
     "output_type": "execute_result"
    }
   ],
   "source": [
    "train[train['hate']==1]['tokenized'].map(lambda x: len(x))"
   ]
  },
  {
   "cell_type": "code",
   "execution_count": 214,
   "metadata": {
    "ExecuteTime": {
     "end_time": "2021-04-01T16:08:31.474725Z",
     "start_time": "2021-04-01T16:08:31.136631Z"
    },
    "scrolled": true
   },
   "outputs": [
    {
     "name": "stdout",
     "output_type": "stream",
     "text": [
      "none 리뷰의 평균 길이 : 12.3938611589214\n",
      "offensive 리뷰의 평균 길이 : 14.326930772308923\n",
      "hate 리뷰의 평균 길이 : 16.012558869701728\n"
     ]
    },
    {
     "data": {
      "image/png": "[encoded data removed]",
      "text/plain": [
       "<Figure size 720x360 with 3 Axes>"
      ]
     },
     "metadata": {
      "needs_background": "light"
     },
     "output_type": "display_data"
    }
   ],
   "source": [
    "fig,(ax1,ax2,ax3) = plt.subplots(1,3,figsize=(10,5))\n",
    "text_len = train[train['hate']==0]['tokenized'].map(lambda x: len(x))\n",
    "ax1.hist(text_len, color='blue')\n",
    "ax1.set_title('none label Reviews')\n",
    "ax1.set_xlabel('length of samples')\n",
    "ax1.set_ylabel('number of samples')\n",
    "print('none 리뷰의 평균 길이 :', np.mean(text_len))\n",
    "\n",
    "text_len = train[train['hate']==1]['tokenized'].map(lambda x: len(x))\n",
    "ax2.hist(text_len, color='orange')\n",
    "ax2.set_title('offensive label Reviews')\n",
    "fig.suptitle('Words in texts')\n",
    "ax2.set_xlabel('length of samples')\n",
    "ax2.set_ylabel('number of samples')\n",
    "print('offensive 리뷰의 평균 길이 :', np.mean(text_len))\n",
    "\n",
    "text_len = train[train['hate']==2]['tokenized'].map(lambda x: len(x))\n",
    "ax3.hist(text_len, color='red')\n",
    "ax3.set_title('hate label Reviews')\n",
    "fig.suptitle('Words in texts')\n",
    "ax3.set_xlabel('length of samples')\n",
    "ax3.set_ylabel('number of samples')\n",
    "print('hate 리뷰의 평균 길이 :', np.mean(text_len))\n",
    "plt.show()"
   ]
  },
  {
   "cell_type": "code",
   "execution_count": 215,
   "metadata": {
    "ExecuteTime": {
     "end_time": "2021-04-01T16:08:39.356800Z",
     "start_time": "2021-04-01T16:08:39.341825Z"
    }
   },
   "outputs": [
    {
     "name": "stdout",
     "output_type": "stream",
     "text": [
      "훈련용 리뷰의 개수 : 5922\n",
      "테스트용 리뷰의 개수 : 1974\n"
     ]
    }
   ],
   "source": [
    "train_data, test_data = train_test_split(train, test_size = 0.25, random_state = 42)\n",
    "print('훈련용 리뷰의 개수 :', len(train_data))\n",
    "print('테스트용 리뷰의 개수 :', len(test_data))"
   ]
  },
  {
   "cell_type": "code",
   "execution_count": 216,
   "metadata": {
    "ExecuteTime": {
     "end_time": "2021-04-01T16:08:41.883265Z",
     "start_time": "2021-04-01T16:08:41.867307Z"
    }
   },
   "outputs": [
    {
     "data": {
      "text/plain": [
       "0    2635\n",
       "1    1859\n",
       "2    1428\n",
       "Name: hate, dtype: int64"
      ]
     },
     "execution_count": 216,
     "metadata": {},
     "output_type": "execute_result"
    }
   ],
   "source": [
    "train_data.hate.value_counts()"
   ]
  },
  {
   "cell_type": "code",
   "execution_count": 217,
   "metadata": {
    "ExecuteTime": {
     "end_time": "2021-04-01T16:08:43.529622Z",
     "start_time": "2021-04-01T16:08:43.515661Z"
    }
   },
   "outputs": [
    {
     "data": {
      "text/plain": [
       "0    851\n",
       "1    640\n",
       "2    483\n",
       "Name: hate, dtype: int64"
      ]
     },
     "execution_count": 217,
     "metadata": {},
     "output_type": "execute_result"
    }
   ],
   "source": [
    "test_data.hate.value_counts()"
   ]
  },
  {
   "cell_type": "code",
   "execution_count": 218,
   "metadata": {
    "ExecuteTime": {
     "end_time": "2021-04-01T16:08:45.730012Z",
     "start_time": "2021-04-01T16:08:45.720453Z"
    }
   },
   "outputs": [
    {
     "name": "stdout",
     "output_type": "stream",
     "text": [
      "[[1 0 0]\n",
      " [0 0 1]\n",
      " [1 0 0]\n",
      " ...\n",
      " [1 0 0]\n",
      " [1 0 0]\n",
      " [0 1 0]]\n"
     ]
    }
   ],
   "source": [
    "from tensorflow.keras.utils import to_categorical\n",
    "dataset_y = to_categorical(train_data['hate'])\n",
    "dataset_y = np.array(dataset_y, dtype=np.int32)\n",
    "print(dataset_y)"
   ]
  },
  {
   "cell_type": "code",
   "execution_count": 219,
   "metadata": {
    "ExecuteTime": {
     "end_time": "2021-04-01T16:08:47.358168Z",
     "start_time": "2021-04-01T16:08:47.348195Z"
    }
   },
   "outputs": [
    {
     "name": "stdout",
     "output_type": "stream",
     "text": [
      "[[0 0 1]\n",
      " [1 0 0]\n",
      " [0 1 0]\n",
      " ...\n",
      " [0 1 0]\n",
      " [0 1 0]\n",
      " [0 0 1]]\n"
     ]
    }
   ],
   "source": [
    "test_y = to_categorical(test_data['hate'])\n",
    "test_y = np.array(test_y, dtype=np.int32)\n",
    "print(test_y)"
   ]
  },
  {
   "cell_type": "code",
   "execution_count": 242,
   "metadata": {
    "ExecuteTime": {
     "end_time": "2021-04-01T17:41:14.364544Z",
     "start_time": "2021-04-01T17:41:14.340607Z"
    }
   },
   "outputs": [
    {
     "data": {
      "text/plain": [
       "((5922,), (5922, 3), (1974,), (1974, 3))"
      ]
     },
     "execution_count": 242,
     "metadata": {},
     "output_type": "execute_result"
    }
   ],
   "source": [
    "X_train = train_data['tokenized'].values\n",
    "y_train = dataset_y\n",
    "X_test= test_data['tokenized'].values\n",
    "y_test = test_y\n",
    "\n",
    "X_train.shape, y_train.shape, X_test.shape, y_test.shape"
   ]
  },
  {
   "cell_type": "code",
   "execution_count": 243,
   "metadata": {
    "ExecuteTime": {
     "end_time": "2021-04-01T17:41:19.470371Z",
     "start_time": "2021-04-01T17:41:19.458403Z"
    }
   },
   "outputs": [
    {
     "data": {
      "text/plain": [
       "array([list(['이렇게', '재', '밋', '수', '있', '다니']),\n",
       "       list(['갠', '적', '으로', '이런', '스타일', '싸', '보인다', '.', '....', '스카이', '캐슬', '그런', '적', '스타일', '어울리', '.', '...', '이건', '술집', '여자', '같']),\n",
       "       list(['나', '보', '기', '불편', '함', '?']), ...,\n",
       "       list(['그래도', '잘', '조금', '쉬', '나오', '이해', '해', '주', '것', '.', '.', '한국', '외모', '나라', '니까', '다행', '다행', '.', '.', '복귀', '콘서트', '!', '함', '내']),\n",
       "       list(['한지민', '씨', '제발', '좀', '바꾸', '세요', '.', '엄마', '찾', '으러', '다니', '장면', '에서', '바지', '왜', '그래요', '?', 'ㅠ', '.', 'ㅠ']),\n",
       "       list(['정용화', ',', '급', '아닌데', '부산', '에서', '누가', 'ㅋㅋ'])],\n",
       "      dtype=object)"
      ]
     },
     "execution_count": 243,
     "metadata": {},
     "output_type": "execute_result"
    }
   ],
   "source": [
    "X_train"
   ]
  },
  {
   "cell_type": "markdown",
   "metadata": {},
   "source": [
    "# 정수 인코딩"
   ]
  },
  {
   "cell_type": "code",
   "execution_count": 221,
   "metadata": {
    "ExecuteTime": {
     "end_time": "2021-04-01T16:08:50.645678Z",
     "start_time": "2021-04-01T16:08:50.563899Z"
    }
   },
   "outputs": [],
   "source": [
    "tokenizer = Tokenizer()\n",
    "tokenizer.fit_on_texts(X_train)"
   ]
  },
  {
   "cell_type": "code",
   "execution_count": 222,
   "metadata": {
    "ExecuteTime": {
     "end_time": "2021-04-01T16:08:51.278492Z",
     "start_time": "2021-04-01T16:08:51.228120Z"
    }
   },
   "outputs": [
    {
     "data": {
      "text/plain": [
       "OrderedDict([('이렇게', 75),\n",
       "             ('재', 23),\n",
       "             ('밋', 6),\n",
       "             ('수', 189),\n",
       "             ('있', 698),\n",
       "             ('다니', 58),\n",
       "             ('갠', 5),\n",
       "             ('적', 214),\n",
       "             ('으로', 351),\n",
       "             ('이런', 130),\n",
       "             ('스타일', 24),\n",
       "             ('싸', 18),\n",
       "             ('보인다', 17),\n",
       "             ('.', 4670),\n",
       "             ('....', 53),\n",
       "             ('스카이', 5),\n",
       "             ('캐슬', 6),\n",
       "             ('그런', 69),\n",
       "             ('어울리', 20),\n",
       "             ('...', 152),\n",
       "             ('이건', 22),\n",
       "             ('술집', 8),\n",
       "             ('여자', 438),\n",
       "             ('같', 441),\n",
       "             ('나', 696),\n",
       "             ('보', 677),\n",
       "             ('기', 344),\n",
       "             ('불편', 34),\n",
       "             ('함', 104),\n",
       "             ('?', 1529),\n",
       "             ('그래도', 53),\n",
       "             ('너', 72),\n",
       "             ('할', 238),\n",
       "             ('줄', 110),\n",
       "             ('아', 523),\n",
       "             ('는구나', 33),\n",
       "             ('송혜교', 27),\n",
       "             ('측', 3),\n",
       "             ('아직', 71),\n",
       "             ('뻔뻔', 6),\n",
       "             ('탈세', 6),\n",
       "             ('아니', 390),\n",
       "             ('라고', 177),\n",
       "             ('던데', 117),\n",
       "             ('좋', 507),\n",
       "             ('일', 195),\n",
       "             ('셨', 43),\n",
       "             ('는데', 518),\n",
       "             ('왜', 383),\n",
       "             ('이리', 20),\n",
       "             ('할까', 11),\n",
       "             ('이미지', 40),\n",
       "             ('세탁', 5),\n",
       "             ('느낌', 50),\n",
       "             ('진짜', 309),\n",
       "             ('이유리', 4),\n",
       "             ('님', 167),\n",
       "             ('나오', 193),\n",
       "             ('드라마', 163),\n",
       "             ('요즘', 82),\n",
       "             ('한국', 85),\n",
       "             ('너무', 309),\n",
       "             ('재미없', 35),\n",
       "             ('어서', 71),\n",
       "             ('실망', 24),\n",
       "             ('던', 150),\n",
       "             ('와중', 14),\n",
       "             ('정말', 96),\n",
       "             ('쉬', 23),\n",
       "             ('어', 462),\n",
       "             ('씨', 195),\n",
       "             ('연기', 176),\n",
       "             ('였', 95),\n",
       "             ('다시', 71),\n",
       "             ('된', 75),\n",
       "             ('대상', 26),\n",
       "             ('가즈', 15),\n",
       "             ('❤', 15),\n",
       "             ('정준영', 19),\n",
       "             ('나이', 107),\n",
       "             ('많', 228),\n",
       "             ('아서', 72),\n",
       "             ('싫', 128),\n",
       "             ('겠', 444),\n",
       "             ('..', 770),\n",
       "             ('무슨', 114),\n",
       "             ('헛소리', 6),\n",
       "             ('냐', 481),\n",
       "             ('난', 111),\n",
       "             ('보다', 111),\n",
       "             ('하현우', 4),\n",
       "             (',', 455),\n",
       "             ('손승연', 2),\n",
       "             ('멍청', 7),\n",
       "             ('개돼지', 22),\n",
       "             ('블', 6),\n",
       "             ('돈', 167),\n",
       "             ('안', 690),\n",
       "             ('되', 377),\n",
       "             ('니', 378),\n",
       "             ('그나마', 11),\n",
       "             ('반응', 12),\n",
       "             ('제니', 5),\n",
       "             ('밀어주', 4),\n",
       "             ('거', 868),\n",
       "             ('ㅠ', 69),\n",
       "             ('양', 13),\n",
       "             ('사장', 12),\n",
       "             ('매일', 5),\n",
       "             ('밤', 12),\n",
       "             ('마다', 30),\n",
       "             ('키', 41),\n",
       "             ('며', 45),\n",
       "             ('눈물', 28),\n",
       "             ('데', 99),\n",
       "             ('속', 37),\n",
       "             ('좀', 354),\n",
       "             ('이해', 63),\n",
       "             ('해', 339),\n",
       "             ('주', 275),\n",
       "             ('라', 287),\n",
       "             ('ㅋㅋㅋ', 475),\n",
       "             ('하나', 129),\n",
       "             ('이쁜데', 10),\n",
       "             ('넘', 127),\n",
       "             ('이쁜', 43),\n",
       "             ('척', 27),\n",
       "             ('아닌가', 36),\n",
       "             ('빨리', 14),\n",
       "             ('맞', 108),\n",
       "             ('배역', 6),\n",
       "             ('찾', 18),\n",
       "             ('김민희', 6),\n",
       "             ('말', 343),\n",
       "             ('늘', 18),\n",
       "             ('행복', 65),\n",
       "             ('세요', 223),\n",
       "             ('극', 24),\n",
       "             ('강', 20),\n",
       "             ('미모', 21),\n",
       "             ('잘', 500),\n",
       "             ('사세요', 14),\n",
       "             ('세', 40),\n",
       "             ('찌', 13),\n",
       "             ('아깝', 30),\n",
       "             ('감독', 11),\n",
       "             ('진정', 7),\n",
       "             ('.......', 4),\n",
       "             ('솔', 24),\n",
       "             ('찍', 78),\n",
       "             ('히', 7),\n",
       "             ('또', 133),\n",
       "             ('발', 11),\n",
       "             ('문', 44),\n",
       "             ('죄인', 4),\n",
       "             ('아주', 31),\n",
       "             ('찌질', 13),\n",
       "             ('시즌', 20),\n",
       "             ('2', 83),\n",
       "             ('!', 479),\n",
       "             ('!!', 59),\n",
       "             ('이종석', 9),\n",
       "             ('더', 220),\n",
       "             ('예쁘', 54),\n",
       "             ('이모', 9),\n",
       "             ('조카', 9),\n",
       "             ('배우', 114),\n",
       "             ('로', 406),\n",
       "             ('로맨스', 7),\n",
       "             ('는지', 87),\n",
       "             ('때', 200),\n",
       "             ('섹시', 9),\n",
       "             ('신', 52),\n",
       "             ('것', 356),\n",
       "             ('어울렸', 3),\n",
       "             ('컨셉', 9),\n",
       "             ('아쉽', 20),\n",
       "             ('용', 20),\n",
       "             ('ㅋㅋ', 591),\n",
       "             ('심', 19),\n",
       "             ('지금', 92),\n",
       "             ('까지', 165),\n",
       "             ('미혼', 8),\n",
       "             ('알', 186),\n",
       "             ('았', 184),\n",
       "             ('벌써', 17),\n",
       "             ('30', 44),\n",
       "             ('ㅠㅠ', 98),\n",
       "             ('친구', 35),\n",
       "             ('중', 89),\n",
       "             ('애', 239),\n",
       "             ('꼭', 50),\n",
       "             ('씩', 16),\n",
       "             ('않', 209),\n",
       "             ('ㅋ', 174),\n",
       "             ('갑자기', 21),\n",
       "             ('스토리', 11),\n",
       "             ('맥', 1),\n",
       "             ('없', 508),\n",
       "             ('때문', 65),\n",
       "             ('유병재', 3),\n",
       "             ('질린다', 3),\n",
       "             ('제발', 55),\n",
       "             ('그만', 86),\n",
       "             ('해라', 141),\n",
       "             ('음식', 11),\n",
       "             ('시어머니', 4),\n",
       "             ('남편', 66),\n",
       "             ('입맛', 6),\n",
       "             ('어요', 133),\n",
       "             ('어릴', 8),\n",
       "             ('부터', 117),\n",
       "             ('맛있', 5),\n",
       "             ('걸', 101),\n",
       "             ('많이', 108),\n",
       "             ('먹', 152),\n",
       "             ('마누라', 15),\n",
       "             ('한테', 134),\n",
       "             ('요구', 5),\n",
       "             ('해요', 59),\n",
       "             ('부러워', 3),\n",
       "             ('필요', 25),\n",
       "             ('유튜브', 6),\n",
       "             ('tv', 7),\n",
       "             ('선생', 13),\n",
       "             ('영상', 11),\n",
       "             ('악', 124),\n",
       "             ('플', 132),\n",
       "             ('러', 59),\n",
       "             ('고소', 18),\n",
       "             ('당했', 9),\n",
       "             ('으면', 202),\n",
       "             ('ㅎ', 62),\n",
       "             ('죽인', 5),\n",
       "             ('이유', 46),\n",
       "             ('적폐', 10),\n",
       "             ('=', 21),\n",
       "             ('>>>', 1),\n",
       "             ('>', 5),\n",
       "             ('이엘리야', 6),\n",
       "             ('정의', 6),\n",
       "             ('호구', 7),\n",
       "             ('의원', 5),\n",
       "             ('정도', 94),\n",
       "             ('착하', 10),\n",
       "             ('답답', 13),\n",
       "             ('어떻게', 40),\n",
       "             ('여주', 18),\n",
       "             ('김남주', 6),\n",
       "             ('었', 282),\n",
       "             ('어도', 58),\n",
       "             ('봤', 97),\n",
       "             ('텐데', 52),\n",
       "             ('방탄', 36),\n",
       "             ('멤버', 34),\n",
       "             ('응', 19),\n",
       "             ('빅뱅', 11),\n",
       "             ('오빠', 31),\n",
       "             ('깔', 12),\n",
       "             ('놓', 40),\n",
       "             ('길', 130),\n",
       "             ('면서', 138),\n",
       "             ('대단', 45),\n",
       "             ('척하', 9),\n",
       "             ('마', 132),\n",
       "             ('^^', 75),\n",
       "             ('역시', 89),\n",
       "             ('입', 59),\n",
       "             ('제일', 39),\n",
       "             ('ㅎㅎ', 88),\n",
       "             ('김지원', 7),\n",
       "             ('주작', 11),\n",
       "             ('대본', 4),\n",
       "             ('시청자', 13),\n",
       "             ('패', 17),\n",
       "             ('떳', 4),\n",
       "             ('에서', 323),\n",
       "             ('충분히', 14),\n",
       "             ('몰입', 13),\n",
       "             ('엄마', 80),\n",
       "             ('인데', 184),\n",
       "             ('옷', 24),\n",
       "             ('이쁘', 100),\n",
       "             ('~', 319),\n",
       "             ('비난', 20),\n",
       "             ('시', 208),\n",
       "             ('분', 119),\n",
       "             ('그럼', 43),\n",
       "             ('해야', 65),\n",
       "             ('어야', 31),\n",
       "             ('나요', 53),\n",
       "             ('법', 27),\n",
       "             ('써', 20),\n",
       "             ('글', 52),\n",
       "             ('공감', 9),\n",
       "             ('갈', 31),\n",
       "             ('누군지', 31),\n",
       "             ('모르', 114),\n",
       "             ('사람', 402),\n",
       "             ('명복', 24),\n",
       "             ('빌', 5),\n",
       "             ('착한', 15),\n",
       "             ('조센징', 3),\n",
       "             ('빠', 31),\n",
       "             ('한남', 36),\n",
       "             ('냄', 7),\n",
       "             ('퇘지', 4),\n",
       "             ('쿵쾅', 20),\n",
       "             ('성범죄', 3),\n",
       "             ('증거', 18),\n",
       "             ('피해자', 32),\n",
       "             ('대부분', 12),\n",
       "             ('뇌', 11),\n",
       "             ('상황', 17),\n",
       "             ('생각', 145),\n",
       "             ('해서', 147),\n",
       "             ('어렵', 3),\n",
       "             ('다는', 106),\n",
       "             ('건', 200),\n",
       "             ('쉽', 15),\n",
       "             ('우동', 4),\n",
       "             ('이상', 82),\n",
       "             ('넌', 24),\n",
       "             ('얼굴', 159),\n",
       "             ('됐', 58),\n",
       "             ('했', 369),\n",
       "             ('여서', 3),\n",
       "             ('어디', 44),\n",
       "             ('다가', 75),\n",
       "             ('최수종', 6),\n",
       "             ('1', 102),\n",
       "             ('년', 160),\n",
       "             ('살', 237),\n",
       "             ('재앙', 33),\n",
       "             ('북한', 10),\n",
       "             ('사랑', 88),\n",
       "             ('환장', 5),\n",
       "             ('정권', 14),\n",
       "             ('가정', 17),\n",
       "             ('만드', 15),\n",
       "             ('어린', 31),\n",
       "             ('욕심', 5),\n",
       "             ('끝', 48),\n",
       "             ('......', 10),\n",
       "             ('연예인', 149),\n",
       "             ('사진', 61),\n",
       "             ('공개', 33),\n",
       "             ('방해', 4),\n",
       "             ('받', 140),\n",
       "             ('단', 25),\n",
       "             ('소리', 35),\n",
       "             ('듣', 45),\n",
       "             ('싶', 158),\n",
       "             ('자살', 22),\n",
       "             ('마시', 16),\n",
       "             ('즈', 5),\n",
       "             ('제', 39),\n",
       "             ('맛', 27),\n",
       "             ('고주원', 4),\n",
       "             ('커플', 36),\n",
       "             ('방송', 117),\n",
       "             ('짧', 11),\n",
       "             ('아요', 64),\n",
       "             ('차', 30),\n",
       "             ('남자', 233),\n",
       "             ('집', 55),\n",
       "             ('무조건', 23),\n",
       "             ('탓', 19),\n",
       "             (':', 27),\n",
       "             ('광신도', 3),\n",
       "             ('열', 20),\n",
       "             ('성', 69),\n",
       "             ('팬', 86),\n",
       "             ('역대', 7),\n",
       "             ('저', 156),\n",
       "             ('마케팅', 5),\n",
       "             ('포장', 4),\n",
       "             ('못', 236),\n",
       "             ('그냥', 180),\n",
       "             ('옥주현', 4),\n",
       "             ('저거', 14),\n",
       "             ('노인', 7),\n",
       "             ('들으면', 4),\n",
       "             ('기분', 18),\n",
       "             ('울', 18),\n",
       "             ('ㄷ', 121),\n",
       "             ('얘기', 31),\n",
       "             ('케', 21),\n",
       "             ('마디', 5),\n",
       "             ('건지', 32),\n",
       "             ('환', 2),\n",
       "             ('모든', 22),\n",
       "             ('책임', 24),\n",
       "             ('처럼', 88),\n",
       "             ('보이', 86),\n",
       "             ('ㅉㅉ', 55),\n",
       "             ('쎈', 1),\n",
       "             ('건가', 36),\n",
       "             ('~~', 162),\n",
       "             ('유아인', 4),\n",
       "             ('김미화', 3),\n",
       "             ('연결', 6),\n",
       "             ('예전', 28),\n",
       "             ('이나', 118),\n",
       "             ('외모', 29),\n",
       "             ('똑같', 33),\n",
       "             ('예능', 48),\n",
       "             ('둘', 122),\n",
       "             ('조용히', 27),\n",
       "             ('지요', 13),\n",
       "             ('궁금', 35),\n",
       "             ('이승윤', 5),\n",
       "             ('매니저', 22),\n",
       "             ('케미', 4),\n",
       "             ('두', 75),\n",
       "             ('관계', 24),\n",
       "             ('굳이', 27),\n",
       "             ('시점', 5),\n",
       "             ('간다', 15),\n",
       "             ('나가', 37),\n",
       "             ('배', 37),\n",
       "             ('아픈', 11),\n",
       "             ('종', 21),\n",
       "             ('특이', 4),\n",
       "             ('당', 22),\n",
       "             ('췌', 3),\n",
       "             ('어떤', 21),\n",
       "             ('모', 18),\n",
       "             ('쏠', 2),\n",
       "             ('찐따', 7),\n",
       "             ('??', 67),\n",
       "             ('대리', 4),\n",
       "             ('만족', 4),\n",
       "             ('긴', 85),\n",
       "             ('허', 7),\n",
       "             ('줘요', 7),\n",
       "             ('ㅜㅜ', 52),\n",
       "             ('마세요', 18),\n",
       "             ('요', 80),\n",
       "             ('작', 20),\n",
       "             ('보여요', 6),\n",
       "             ('평범', 12),\n",
       "             ('뭐', 255),\n",
       "             ('박나래', 25),\n",
       "             ('과거', 18),\n",
       "             ('모습', 44),\n",
       "             ('그랬', 13),\n",
       "             ('합니다', 83),\n",
       "             ('본인', 55),\n",
       "             ('별루', 8),\n",
       "             ('인듯', 10),\n",
       "             ('전', 99),\n",
       "             ('이후', 10),\n",
       "             ('뜨', 24),\n",
       "             ('서', 223),\n",
       "             ('겁나', 17),\n",
       "             ('갖', 21),\n",
       "             ('앗', 11),\n",
       "             ('떼', 5),\n",
       "             ('꼬라지', 6),\n",
       "             ('봐라', 51),\n",
       "             ('외', 8),\n",
       "             ('유진', 6),\n",
       "             ('바다', 5),\n",
       "             ('우리', 79),\n",
       "             ('시작', 22),\n",
       "             ('자', 186),\n",
       "             ('은데', 124),\n",
       "             ('성추행', 12),\n",
       "             ('술', 26),\n",
       "             ('쳐먹', 17),\n",
       "             ('그러', 85),\n",
       "             ('돼', 32),\n",
       "             ('일단', 13),\n",
       "             ('코로나', 4),\n",
       "             ('난리', 46),\n",
       "             ('경기', 4),\n",
       "             ('든가', 6),\n",
       "             ('프로', 70),\n",
       "             ('참', 137),\n",
       "             ('특', 3),\n",
       "             ('그대로', 12),\n",
       "             ('표현', 11),\n",
       "             ('남태현', 5),\n",
       "             ('장', 10),\n",
       "             ('그럴', 16),\n",
       "             ('잇', 35),\n",
       "             ('선미', 5),\n",
       "             ('원', 54),\n",
       "             ('몰랐', 11),\n",
       "             ('새', 16),\n",
       "             ('얜', 7),\n",
       "             ('기부', 17),\n",
       "             ('항상', 37),\n",
       "             ('일본', 37),\n",
       "             ('대체', 15),\n",
       "             ('벌', 44),\n",
       "             ('웃기', 26),\n",
       "             ('생긴', 23),\n",
       "             ('놈', 67),\n",
       "             ('엔', 31),\n",
       "             ('저런', 68),\n",
       "             ('조민기', 5),\n",
       "             ('적당히', 23),\n",
       "             ('ㅅ', 45),\n",
       "             ('ㅂ', 19),\n",
       "             ('저랬', 5),\n",
       "             ('꼰대', 10),\n",
       "             ('드럽', 11),\n",
       "             ('혼자', 50),\n",
       "             ('라이프', 5),\n",
       "             ('조아', 8),\n",
       "             ('똑바로', 7),\n",
       "             ('국', 13),\n",
       "             ('개', 119),\n",
       "             ('그', 190),\n",
       "             ('닥', 4),\n",
       "             ('매력', 44),\n",
       "             ('넘치', 5),\n",
       "             ('무', 23),\n",
       "             ('같이', 80),\n",
       "             ('느껴짐', 2),\n",
       "             ('빼', 47),\n",
       "             ('계집', 11),\n",
       "             ('이란', 6),\n",
       "             ('어차피', 16),\n",
       "             ('사내', 6),\n",
       "             ('손', 20),\n",
       "             ('타', 31),\n",
       "             ('그리고', 56),\n",
       "             ('태어나', 7),\n",
       "             ('계집년', 3),\n",
       "             ('한두', 4),\n",
       "             ('명', 70),\n",
       "             ('대한민국', 27),\n",
       "             ('영화', 39),\n",
       "             ('계', 10),\n",
       "             ('사라지', 4),\n",
       "             ('50', 13),\n",
       "             ('찔리', 2),\n",
       "             ('으니까', 25),\n",
       "             ('기자', 71),\n",
       "             ('변기', 6),\n",
       "             ('디', 12),\n",
       "             ('이름', 36),\n",
       "             ('여', 47),\n",
       "             ('누가', 61),\n",
       "             ('기사', 177),\n",
       "             ('늙', 44),\n",
       "             ('못생김', 6),\n",
       "             ('아재', 11),\n",
       "             ('주연', 8),\n",
       "             ('니깐', 30),\n",
       "             ('망하', 15),\n",
       "             ('재산', 6),\n",
       "             ('털', 6),\n",
       "             ('해명', 8),\n",
       "             ('오', 53),\n",
       "             ('mbc', 6),\n",
       "             ('40', 41),\n",
       "             ('억', 28),\n",
       "             ('냐고', 14),\n",
       "             ('걍', 36),\n",
       "             ('쓰', 81),\n",
       "             ('죽', 78),\n",
       "             ('존경', 10),\n",
       "             ('쓸모', 3),\n",
       "             ('설아', 4),\n",
       "             ('♡', 20),\n",
       "             ('진우', 5),\n",
       "             ('재결합', 5),\n",
       "             ('태랑', 2),\n",
       "             ('랑', 163),\n",
       "             ('어울림', 9),\n",
       "             ('성형', 38),\n",
       "             ('훨씬', 24),\n",
       "             ('해외', 8),\n",
       "             ('태국', 8),\n",
       "             ('이열음', 3),\n",
       "             ('조개', 4),\n",
       "             ('따', 13),\n",
       "             ('장면', 12),\n",
       "             ('조작', 16),\n",
       "             ('아닌', 49),\n",
       "             ('인정', 28),\n",
       "             ('구라', 8),\n",
       "             ('구', 44),\n",
       "             ('그라', 3),\n",
       "             ('레', 9),\n",
       "             ('0', 8),\n",
       "             ('뿐', 43),\n",
       "             ('정상', 20),\n",
       "             ('유재석', 31),\n",
       "             ('이제', 119),\n",
       "             ('지겹', 14),\n",
       "             ('새로운', 7),\n",
       "             ('나와라', 14),\n",
       "             ('여기', 45),\n",
       "             ('가수', 45),\n",
       "             ('바', 19),\n",
       "             ('봐요', 9),\n",
       "             ('불쌍', 51),\n",
       "             ('자기', 82),\n",
       "             ('욕', 92),\n",
       "             ('먹이', 10),\n",
       "             ('행동', 22),\n",
       "             ('시간', 44),\n",
       "             ('댓글', 122),\n",
       "             ('달', 56),\n",
       "             ('음악', 26),\n",
       "             ('스', 37),\n",
       "             ('밍', 2),\n",
       "             ('징', 6),\n",
       "             ('난다', 16),\n",
       "             ('no', 4),\n",
       "             ('생겼', 46),\n",
       "             ('동생', 14),\n",
       "             ('떠', 10),\n",
       "             ('아빠', 27),\n",
       "             ('테', 14),\n",
       "             ('슈', 14),\n",
       "             ('될', 60),\n",
       "             ('더니', 40),\n",
       "             ('고작', 1),\n",
       "             ('질', 42),\n",
       "             ('인터넷', 6),\n",
       "             ('언론', 10),\n",
       "             ('입니다', 63),\n",
       "             ('어느', 18),\n",
       "             ('사', 125),\n",
       "             ('결혼', 177),\n",
       "             ('3', 59),\n",
       "             ('사이', 22),\n",
       "             ('이혼', 66),\n",
       "             ('올', 7),\n",
       "             ('다고', 157),\n",
       "             ('팔자', 4),\n",
       "             ('라는', 73),\n",
       "             ('구나', 53),\n",
       "             ('힘', 12),\n",
       "             ('쓴', 15),\n",
       "             ('~~~', 57),\n",
       "             ('제목', 18),\n",
       "             ('어그', 5),\n",
       "             ('ㅡㅡ', 55),\n",
       "             ('조혜련', 3),\n",
       "             ('그런지', 9),\n",
       "             ('개그맨', 10),\n",
       "             ('짓', 58),\n",
       "             ('으네', 4),\n",
       "             ('아도', 15),\n",
       "             ('부디', 11),\n",
       "             ('곳', 23),\n",
       "             ('가시', 3),\n",
       "             ('인가요', 26),\n",
       "             ('네요', 210),\n",
       "             ('송지효', 7),\n",
       "             ('홍진영', 19),\n",
       "             ('넘사벽', 3),\n",
       "             ('워낙', 5),\n",
       "             ('재미있', 14),\n",
       "             ('송중기', 27),\n",
       "             ('눈빛', 10),\n",
       "             ('보고', 19),\n",
       "             ('외국', 9),\n",
       "             ('장동건', 8),\n",
       "             ('분위기', 14),\n",
       "             ('란', 36),\n",
       "             ('나온다', 10),\n",
       "             ('한류', 4),\n",
       "             ('퀄리티', 4),\n",
       "             ('볼', 51),\n",
       "             ('감사', 12),\n",
       "             ('한다', 74),\n",
       "             ('범죄자', 17),\n",
       "             ('가해자', 6),\n",
       "             ('감정', 15),\n",
       "             ('이입', 4),\n",
       "             ('소', 10),\n",
       "             ('다음', 28),\n",
       "             ('반드시', 5),\n",
       "             ('방', 15),\n",
       "             ('된다', 36),\n",
       "             ('~~!!!!!!!!!', 1),\n",
       "             ('혜나', 6),\n",
       "             ('짱', 23),\n",
       "             ('엉', 5),\n",
       "             ('남', 147),\n",
       "             ('보소', 7),\n",
       "             ('든', 81),\n",
       "             ('합의', 14),\n",
       "             ('본', 39),\n",
       "             ('학', 3),\n",
       "             ('폭', 11),\n",
       "             ('거리', 20),\n",
       "             ('그렇게', 55),\n",
       "             ('잘생긴', 13),\n",
       "             ('질투', 20),\n",
       "             ('ㅉ', 20),\n",
       "             ('소유진', 4),\n",
       "             ('존나', 20),\n",
       "             ('관', 27),\n",
       "             ('꼴', 49),\n",
       "             ('으니', 52),\n",
       "             ('나대', 10),\n",
       "             ('만나', 78),\n",
       "             ('대', 129),\n",
       "             ('부럽', 40),\n",
       "             ('네여', 5),\n",
       "             ('서로', 29),\n",
       "             ('각자', 4),\n",
       "             ('지리', 4),\n",
       "             ('열심히', 33),\n",
       "             ('아이', 55),\n",
       "             ('15', 6),\n",
       "             ('차이', 26),\n",
       "             ('사고', 23),\n",
       "             ('딸', 74),\n",
       "             ('능력', 23),\n",
       "             ('전현무', 34),\n",
       "             ('은가', 7),\n",
       "             ('봐', 68),\n",
       "             ('청순', 3),\n",
       "             ('존', 16),\n",
       "             ('예', 20),\n",
       "             ('안티', 5),\n",
       "             ('맘', 31),\n",
       "             ('ㅈ', 58),\n",
       "             ('이소라', 5),\n",
       "             ('준', 25),\n",
       "             ('희', 9),\n",
       "             ('불', 24),\n",
       "             ('양반', 7),\n",
       "             ('자숙', 12),\n",
       "             ('인간', 65),\n",
       "             ('가장', 13),\n",
       "             ('국민', 36),\n",
       "             ('갚', 19),\n",
       "             ('유천', 5),\n",
       "             ('마약', 36),\n",
       "             ('범', 7),\n",
       "             ('성범죄자', 2),\n",
       "             ('고쳤', 4),\n",
       "             ('싼', 9),\n",
       "             ('티', 28),\n",
       "             ('고친', 3),\n",
       "             ('낫', 24),\n",
       "             ('이걸', 7),\n",
       "             ('재밌', 65),\n",
       "             ('처', 16),\n",
       "             ('됨', 42),\n",
       "             ('죠', 73),\n",
       "             ('모델', 13),\n",
       "             ('한예슬', 3),\n",
       "             ('어때', 4),\n",
       "             ('뿌', 7),\n",
       "             ('팬티', 5),\n",
       "             ('벗', 7),\n",
       "             ('사실', 44),\n",
       "             ('떨어지', 11),\n",
       "             ('더라', 72),\n",
       "             ('번', 75),\n",
       "             ('아닙니다', 11),\n",
       "             ('지만', 190),\n",
       "             ('어째', 8),\n",
       "             ('한참', 6),\n",
       "             ('연하', 11),\n",
       "             ('신랑', 5),\n",
       "             ('으시', 8),\n",
       "             ('잖아요', 10),\n",
       "             ('위해서', 7),\n",
       "             ('젊', 29),\n",
       "             ('연애', 49),\n",
       "             ('천사', 9),\n",
       "             ('내', 176),\n",
       "             ('형', 55),\n",
       "             ('️', 87),\n",
       "             ('일어나', 6),\n",
       "             ('업', 10),\n",
       "             ('힐', 2),\n",
       "             ('의사', 12),\n",
       "             ('이미', 24),\n",
       "             ('오래', 20),\n",
       "             ('여러', 7),\n",
       "             ('탔', 2),\n",
       "             ('나온', 27),\n",
       "             ('오늘', 54),\n",
       "             ('첨', 16),\n",
       "             ('누구', 66),\n",
       "             ('야', 289),\n",
       "             ('이승기', 9),\n",
       "             ('작작', 10),\n",
       "             ('워너', 12),\n",
       "             ('위', 37),\n",
       "             ('회장', 1),\n",
       "             ('나와서', 31),\n",
       "             ('여우', 9),\n",
       "             ('드만', 8),\n",
       "             ('끝난', 3),\n",
       "             ('언', 16),\n",
       "             ('-', 24),\n",
       "             ('편', 22),\n",
       "             ('허허', 1),\n",
       "             ('근데', 105),\n",
       "             ('정유미', 5),\n",
       "             ('가족', 43),\n",
       "             ('승리', 39),\n",
       "             ('남충', 5),\n",
       "             ('표', 12),\n",
       "             ('은데요', 5),\n",
       "             ('기간', 3),\n",
       "             ('아줌마', 47),\n",
       "             ('열폭', 15),\n",
       "             ('당신', 22),\n",
       "             ('피해', 27),\n",
       "             ('라도', 60),\n",
       "             ('인생', 78),\n",
       "             ('오지랖', 7),\n",
       "             ('떨', 14),\n",
       "             ('아들', 36),\n",
       "             ('연예', 17),\n",
       "             ('활동', 36),\n",
       "             ('늦', 7),\n",
       "             ('올린', 14),\n",
       "             ('의도', 8),\n",
       "             ('강호동', 7),\n",
       "             ('이수근', 7),\n",
       "             ('조합', 3),\n",
       "             ('뭔가', 25),\n",
       "             ('옛날', 16),\n",
       "             ('한데', 33),\n",
       "             ('몸', 30),\n",
       "             ('그래서', 27),\n",
       "             ('쨍', 1),\n",
       "             ('똥', 23),\n",
       "             ('짜', 18),\n",
       "             ('루', 5),\n",
       "             ('박정희', 3),\n",
       "             ('쪽', 26),\n",
       "             ('빨', 39),\n",
       "             ('매번', 2),\n",
       "             ('추모', 4),\n",
       "             ('자꾸', 34),\n",
       "             ('말아먹', 5),\n",
       "             (';;', 33),\n",
       "             ('쟤', 16),\n",
       "             ('신인', 11),\n",
       "             ('그룹', 23),\n",
       "             ('만들', 47),\n",
       "             ('겟', 24),\n",
       "             ('노', 81),\n",
       "             ('이기', 16),\n",
       "             ('뛰', 5),\n",
       "             ('맨', 11),\n",
       "             ('프로그램', 29),\n",
       "             ('맴', 6),\n",
       "             ('버', 26),\n",
       "             ('전부', 24),\n",
       "             ('믿', 65),\n",
       "             ('관심없', 13),\n",
       "             ('대중', 18),\n",
       "             ('새끼', 20),\n",
       "             ('몸매', 29),\n",
       "             ('다이어트', 20),\n",
       "             ('일상', 9),\n",
       "             ('임신', 36),\n",
       "             ('될지', 3),\n",
       "             ('걱정', 27),\n",
       "             ('때리', 9),\n",
       "             ('피', 21),\n",
       "             ('촬영', 13),\n",
       "             ('정법', 3),\n",
       "             ('원래', 20),\n",
       "             ('문제', 80),\n",
       "             ('없이', 35),\n",
       "             ('다둥', 4),\n",
       "             ('뜻', 8),\n",
       "             ('습니다', 83),\n",
       "             ('축하', 48),\n",
       "             ('에게', 72),\n",
       "             ('팍', 1),\n",
       "             ('싹', 6),\n",
       "             ('헉', 5),\n",
       "             ('소식', 7),\n",
       "             ('쓸', 13),\n",
       "             ('까진', 8),\n",
       "             ('현아', 24),\n",
       "             ('꽤', 7),\n",
       "             ('인가', 65),\n",
       "             ('애매', 4),\n",
       "             ('쫌', 18),\n",
       "             ('밥', 22),\n",
       "             ('담배', 9),\n",
       "             ('커피', 2),\n",
       "             ('언능', 7),\n",
       "             ('쾌차', 3),\n",
       "             ('호텔', 5),\n",
       "             ('마무리', 8),\n",
       "             ('그때', 14),\n",
       "             ('직원', 7),\n",
       "             ('힘들', 51),\n",
       "             ('20', 34),\n",
       "             ('째', 11),\n",
       "             ('유명', 23),\n",
       "             ('고만', 7),\n",
       "             ('설치', 5),\n",
       "             ('비', 70),\n",
       "             ('호감', 34),\n",
       "             ('시키', 21),\n",
       "             (\"!!'\", 1),\n",
       "             ('미', 23),\n",
       "             ('똑똑', 7),\n",
       "             ('독', 5),\n",
       "             ('이거', 34),\n",
       "             ('쩌', 14),\n",
       "             ('9', 10),\n",
       "             ('갔', 32),\n",
       "             ('그동안', 9),\n",
       "             ('이석훈', 4),\n",
       "             ('찢', 3),\n",
       "             ('노래', 67),\n",
       "             ('~~♡♡', 4),\n",
       "             ('발정', 3),\n",
       "             ('성희롱', 8),\n",
       "             ('보내', 23),\n",
       "             (';', 12),\n",
       "             ('얼마나', 74),\n",
       "             ('기어나오', 4),\n",
       "             ('현무', 6),\n",
       "             ('봐서', 12),\n",
       "             ('무엇', 8),\n",
       "             ('다신', 5),\n",
       "             ('본다', 22),\n",
       "             ('다른', 75),\n",
       "             ('부모', 62),\n",
       "             ('죄다', 10),\n",
       "             ('사기', 20),\n",
       "             ('꾼', 13),\n",
       "             ('빛', 12),\n",
       "             ('쟁이', 19),\n",
       "             ('류준열', 4),\n",
       "             ('손흥민', 4),\n",
       "             ('옆', 15),\n",
       "             ('선수', 16),\n",
       "             ('나쁜', 23),\n",
       "             ('10', 32),\n",
       "             ('카톡', 11),\n",
       "             ('협박', 10),\n",
       "             ('아님', 69),\n",
       "             ('삼', 20),\n",
       "             ('빕', 24),\n",
       "             ('솔직', 9),\n",
       "             ('친', 12),\n",
       "             ('땐', 13),\n",
       "             ('빚', 18),\n",
       "             ('투', 11),\n",
       "             ('을까', 36),\n",
       "             ('곤', 7),\n",
       "             ('읍', 5),\n",
       "             ('젝', 5),\n",
       "             ('부자', 5),\n",
       "             ('왠', 11),\n",
       "             ('ㅁ', 5),\n",
       "             ('ㄸ', 1),\n",
       "             ('최소', 4),\n",
       "             ('몇', 37),\n",
       "             ('직장', 4),\n",
       "             ('편하', 12),\n",
       "             ('성별', 9),\n",
       "             ('멋져요', 7),\n",
       "             ('.....', 21),\n",
       "             ('변한다', 2),\n",
       "             ('왕', 13),\n",
       "             ('진진', 2),\n",
       "             (';;;', 8),\n",
       "             ('미쳤', 4),\n",
       "             ('아이고', 6),\n",
       "             ('핫', 5),\n",
       "             ('젤', 17),\n",
       "             ('오히려', 12),\n",
       "             ('관심', 52),\n",
       "             ('계속', 44),\n",
       "             ('올리', 31),\n",
       "             ('니까', 86),\n",
       "             ('이러', 22),\n",
       "             ('라면', 30),\n",
       "             ('누군데', 8),\n",
       "             ('조폭', 5),\n",
       "             ('군대', 51),\n",
       "             ('의식', 4),\n",
       "             ('아무리', 30),\n",
       "             ('참여', 2),\n",
       "             ('순간', 13),\n",
       "             ('잼', 75),\n",
       "             ('원인', 2),\n",
       "             ('백종원', 34),\n",
       "             ('오버', 7),\n",
       "             ('연출', 10),\n",
       "             ('방법', 9),\n",
       "             ('밖에', 18),\n",
       "             ...])"
      ]
     },
     "execution_count": 222,
     "metadata": {},
     "output_type": "execute_result"
    }
   ],
   "source": [
    "tokenizer.word_counts"
   ]
  },
  {
   "cell_type": "code",
   "execution_count": 225,
   "metadata": {
    "ExecuteTime": {
     "end_time": "2021-04-01T16:09:47.982393Z",
     "start_time": "2021-04-01T16:09:47.960447Z"
    }
   },
   "outputs": [
    {
     "name": "stdout",
     "output_type": "stream",
     "text": [
      "단어 집합(vocabulary)의 크기 : 4159\n",
      "등장 빈도가 1번 이하인 희귀 단어의 수: 526\n",
      "단어 집합에서 희귀 단어의 비율: 12.647270978600625\n",
      "전체 등장 빈도에서 희귀 단어 등장 빈도 비율: 0.637637589099549\n"
     ]
    }
   ],
   "source": [
    "threshold = 2\n",
    "total_cnt = len(tokenizer.word_index) # 단어의 수\n",
    "rare_cnt = 0 # 등장 빈도수가 threshold보다 작은 단어의 개수를 카운트\n",
    "total_freq = 0 # 훈련 데이터의 전체 단어 빈도수 총 합\n",
    "rare_freq = 0 # 등장 빈도수가 threshold보다 작은 단어의 등장 빈도수의 총 합\n",
    "\n",
    "# 단어와 빈도수의 쌍(pair)을 key와 value로 받는다.\n",
    "for key, value in tokenizer.word_counts.items():\n",
    "    total_freq = total_freq + value\n",
    "\n",
    "    # 단어의 등장 빈도수가 threshold보다 작으면\n",
    "    if(value < threshold):\n",
    "        rare_cnt = rare_cnt + 1\n",
    "        rare_freq = rare_freq + value\n",
    "\n",
    "print('단어 집합(vocabulary)의 크기 :',total_cnt)\n",
    "print('등장 빈도가 %s번 이하인 희귀 단어의 수: %s'%(threshold - 1, rare_cnt))\n",
    "print(\"단어 집합에서 희귀 단어의 비율:\", (rare_cnt / total_cnt)*100)\n",
    "print(\"전체 등장 빈도에서 희귀 단어 등장 빈도 비율:\", (rare_freq / total_freq)*100)"
   ]
  },
  {
   "cell_type": "code",
   "execution_count": 226,
   "metadata": {
    "ExecuteTime": {
     "end_time": "2021-04-01T16:09:48.689093Z",
     "start_time": "2021-04-01T16:09:48.674120Z"
    }
   },
   "outputs": [
    {
     "name": "stdout",
     "output_type": "stream",
     "text": [
      "단어 집합의 크기 : 3635\n"
     ]
    }
   ],
   "source": [
    "# 전체 단어 개수 중 빈도수 2이하인 단어 개수는 제거.\n",
    "# 0번 패딩 토큰과 1번 OOV 토큰을 고려하여 +2\n",
    "vocab_size = total_cnt - rare_cnt + 2\n",
    "print('단어 집합의 크기 :',vocab_size)"
   ]
  },
  {
   "cell_type": "code",
   "execution_count": 227,
   "metadata": {
    "ExecuteTime": {
     "end_time": "2021-04-01T16:09:55.283537Z",
     "start_time": "2021-04-01T16:09:55.137628Z"
    }
   },
   "outputs": [],
   "source": [
    "tokenizer = Tokenizer(vocab_size, oov_token = 'OOV') \n",
    "tokenizer.fit_on_texts(X_train)\n",
    "X_train = tokenizer.texts_to_sequences(X_train)\n",
    "X_test = tokenizer.texts_to_sequences(X_test)"
   ]
  },
  {
   "cell_type": "markdown",
   "metadata": {},
   "source": [
    "# 패딩"
   ]
  },
  {
   "cell_type": "code",
   "execution_count": 228,
   "metadata": {
    "ExecuteTime": {
     "end_time": "2021-04-01T16:09:57.313836Z",
     "start_time": "2021-04-01T16:09:57.126336Z"
    }
   },
   "outputs": [
    {
     "name": "stdout",
     "output_type": "stream",
     "text": [
      "리뷰의 최대 길이 : 56\n",
      "리뷰의 평균 길이 : 13.929753461668355\n"
     ]
    },
    {
     "data": {
      "image/png": "[encoded data removed]",
      "text/plain": [
       "<Figure size 432x288 with 1 Axes>"
      ]
     },
     "metadata": {
      "needs_background": "light"
     },
     "output_type": "display_data"
    }
   ],
   "source": [
    "print('리뷰의 최대 길이 :',max(len(l) for l in X_train))\n",
    "print('리뷰의 평균 길이 :',sum(map(len, X_train))/len(X_train))\n",
    "plt.hist([len(s) for s in X_train], bins=50)\n",
    "plt.xlabel('length of samples')\n",
    "plt.ylabel('number of samples')\n",
    "plt.show()"
   ]
  },
  {
   "cell_type": "code",
   "execution_count": 229,
   "metadata": {
    "ExecuteTime": {
     "end_time": "2021-04-01T16:09:59.823907Z",
     "start_time": "2021-04-01T16:09:59.811950Z"
    }
   },
   "outputs": [],
   "source": [
    "def below_threshold_len(max_len, nested_list):\n",
    "    cnt = 0\n",
    "    for s in nested_list:\n",
    "        if(len(s) <= max_len):\n",
    "            cnt = cnt + 1\n",
    "    print('전체 샘플 중 길이가 %s 이하인 샘플의 비율: %s'%(max_len, (cnt / len(nested_list))*100))"
   ]
  },
  {
   "cell_type": "code",
   "execution_count": 230,
   "metadata": {
    "ExecuteTime": {
     "end_time": "2021-04-01T16:10:04.489608Z",
     "start_time": "2021-04-01T16:10:04.472653Z"
    }
   },
   "outputs": [
    {
     "name": "stdout",
     "output_type": "stream",
     "text": [
      "전체 샘플 중 길이가 56 이하인 샘플의 비율: 100.0\n"
     ]
    }
   ],
   "source": [
    "max_len = 56\n",
    "below_threshold_len(max_len, X_train)"
   ]
  },
  {
   "cell_type": "code",
   "execution_count": 231,
   "metadata": {
    "ExecuteTime": {
     "end_time": "2021-04-01T16:10:06.065640Z",
     "start_time": "2021-04-01T16:10:06.017698Z"
    }
   },
   "outputs": [],
   "source": [
    "X_train = pad_sequences(X_train, maxlen = max_len)\n",
    "X_test = pad_sequences(X_test, maxlen = max_len)"
   ]
  },
  {
   "cell_type": "markdown",
   "metadata": {},
   "source": [
    "# 모델 구축"
   ]
  },
  {
   "cell_type": "code",
   "execution_count": 238,
   "metadata": {
    "ExecuteTime": {
     "end_time": "2021-04-01T16:22:14.800738Z",
     "start_time": "2021-04-01T16:22:14.181958Z"
    }
   },
   "outputs": [],
   "source": [
    "import re\n",
    "from tensorflow.keras.layers import Embedding, Dense, LSTM, Bidirectional, Dropout,BatchNormalization\n",
    "from tensorflow.keras.models import Sequential\n",
    "from tensorflow.keras.models import load_model\n",
    "from tensorflow.keras.callbacks import EarlyStopping, ModelCheckpoint\n",
    "\n",
    "model = Sequential()\n",
    "model.add(Embedding(vocab_size, 200))\n",
    "model.add(BatchNormalization())\n",
    "model.add(Dropout(0.5))\n",
    "model.add(Bidirectional(LSTM(200)))\n",
    "model.add(Dense(3, activation='softmax'))\n"
   ]
  },
  {
   "cell_type": "code",
   "execution_count": 239,
   "metadata": {
    "ExecuteTime": {
     "end_time": "2021-04-01T16:22:15.611026Z",
     "start_time": "2021-04-01T16:22:15.595924Z"
    }
   },
   "outputs": [],
   "source": [
    "es = EarlyStopping(monitor='val_loss', mode='min', verbose=1, patience=40)\n",
    "mc = ModelCheckpoint('best_model.h5', monitor='val_acc', mode='max', verbose=1, save_best_only=True)"
   ]
  },
  {
   "cell_type": "code",
   "execution_count": 240,
   "metadata": {
    "ExecuteTime": {
     "end_time": "2021-04-01T16:36:24.765174Z",
     "start_time": "2021-04-01T16:22:16.125625Z"
    }
   },
   "outputs": [
    {
     "name": "stdout",
     "output_type": "stream",
     "text": [
      "Epoch 1/100\n",
      "5/5 [==============================] - ETA: 0s - loss: 1.1472 - acc: 0.4013\n",
      "Epoch 00001: val_acc improved from -inf to 0.42025, saving model to best_model.h5\n",
      "5/5 [==============================] - 11s 2s/step - loss: 1.1472 - acc: 0.4013 - val_loss: 1.0878 - val_acc: 0.4203\n",
      "Epoch 2/100\n",
      "5/5 [==============================] - ETA: 0s - loss: 1.0412 - acc: 0.4473\n",
      "Epoch 00002: val_acc improved from 0.42025 to 0.43713, saving model to best_model.h5\n",
      "5/5 [==============================] - 10s 2s/step - loss: 1.0412 - acc: 0.4473 - val_loss: 1.0694 - val_acc: 0.4371\n",
      "Epoch 3/100\n",
      "5/5 [==============================] - ETA: 0s - loss: 0.9826 - acc: 0.4908\n",
      "Epoch 00003: val_acc did not improve from 0.43713\n",
      "5/5 [==============================] - 12s 2s/step - loss: 0.9826 - acc: 0.4908 - val_loss: 1.0652 - val_acc: 0.4371\n",
      "Epoch 4/100\n",
      "5/5 [==============================] - ETA: 0s - loss: 0.9038 - acc: 0.5930\n",
      "Epoch 00004: val_acc improved from 0.43713 to 0.43882, saving model to best_model.h5\n",
      "5/5 [==============================] - 10s 2s/step - loss: 0.9038 - acc: 0.5930 - val_loss: 1.0584 - val_acc: 0.4388\n",
      "Epoch 5/100\n",
      "5/5 [==============================] - ETA: 0s - loss: 0.7931 - acc: 0.6487\n",
      "Epoch 00005: val_acc improved from 0.43882 to 0.44051, saving model to best_model.h5\n",
      "5/5 [==============================] - 11s 2s/step - loss: 0.7931 - acc: 0.6487 - val_loss: 1.0420 - val_acc: 0.4405\n",
      "Epoch 6/100\n",
      "5/5 [==============================] - ETA: 0s - loss: 0.7049 - acc: 0.6888\n",
      "Epoch 00006: val_acc improved from 0.44051 to 0.44304, saving model to best_model.h5\n",
      "5/5 [==============================] - 12s 2s/step - loss: 0.7049 - acc: 0.6888 - val_loss: 1.0310 - val_acc: 0.4430\n",
      "Epoch 7/100\n",
      "5/5 [==============================] - ETA: 0s - loss: 0.6233 - acc: 0.7340\n",
      "Epoch 00007: val_acc did not improve from 0.44304\n",
      "5/5 [==============================] - 12s 2s/step - loss: 0.6233 - acc: 0.7340 - val_loss: 1.0305 - val_acc: 0.4414\n",
      "Epoch 8/100\n",
      "5/5 [==============================] - ETA: 0s - loss: 0.5502 - acc: 0.7667\n",
      "Epoch 00008: val_acc improved from 0.44304 to 0.47004, saving model to best_model.h5\n",
      "5/5 [==============================] - 12s 2s/step - loss: 0.5502 - acc: 0.7667 - val_loss: 1.0210 - val_acc: 0.4700\n",
      "Epoch 9/100\n",
      "5/5 [==============================] - ETA: 0s - loss: 0.4872 - acc: 0.7957\n",
      "Epoch 00009: val_acc did not improve from 0.47004\n",
      "5/5 [==============================] - 12s 2s/step - loss: 0.4872 - acc: 0.7957 - val_loss: 1.0112 - val_acc: 0.4489\n",
      "Epoch 10/100\n",
      "5/5 [==============================] - ETA: 0s - loss: 0.4368 - acc: 0.8258\n",
      "Epoch 00010: val_acc did not improve from 0.47004\n",
      "5/5 [==============================] - 12s 2s/step - loss: 0.4368 - acc: 0.8258 - val_loss: 1.0074 - val_acc: 0.4675\n",
      "Epoch 11/100\n",
      "5/5 [==============================] - ETA: 0s - loss: 0.3825 - acc: 0.8495\n",
      "Epoch 00011: val_acc did not improve from 0.47004\n",
      "5/5 [==============================] - 12s 2s/step - loss: 0.3825 - acc: 0.8495 - val_loss: 1.0023 - val_acc: 0.4591\n",
      "Epoch 12/100\n",
      "5/5 [==============================] - ETA: 0s - loss: 0.3305 - acc: 0.8719\n",
      "Epoch 00012: val_acc did not improve from 0.47004\n",
      "5/5 [==============================] - 11s 2s/step - loss: 0.3305 - acc: 0.8719 - val_loss: 1.0114 - val_acc: 0.4473\n",
      "Epoch 13/100\n",
      "5/5 [==============================] - ETA: 0s - loss: 0.2987 - acc: 0.8879\n",
      "Epoch 00013: val_acc improved from 0.47004 to 0.48017, saving model to best_model.h5\n",
      "5/5 [==============================] - 11s 2s/step - loss: 0.2987 - acc: 0.8879 - val_loss: 0.9924 - val_acc: 0.4802\n",
      "Epoch 14/100\n",
      "5/5 [==============================] - ETA: 0s - loss: 0.2612 - acc: 0.9014\n",
      "Epoch 00014: val_acc did not improve from 0.48017\n",
      "5/5 [==============================] - 11s 2s/step - loss: 0.2612 - acc: 0.9014 - val_loss: 1.0271 - val_acc: 0.4464\n",
      "Epoch 15/100\n",
      "5/5 [==============================] - ETA: 0s - loss: 0.2358 - acc: 0.9124\n",
      "Epoch 00015: val_acc did not improve from 0.48017\n",
      "5/5 [==============================] - 12s 2s/step - loss: 0.2358 - acc: 0.9124 - val_loss: 1.0108 - val_acc: 0.4498\n",
      "Epoch 16/100\n",
      "5/5 [==============================] - ETA: 0s - loss: 0.2065 - acc: 0.9191\n",
      "Epoch 00016: val_acc did not improve from 0.48017\n",
      "5/5 [==============================] - 12s 2s/step - loss: 0.2065 - acc: 0.9191 - val_loss: 0.9965 - val_acc: 0.4684\n",
      "Epoch 17/100\n",
      "5/5 [==============================] - ETA: 0s - loss: 0.1830 - acc: 0.9318\n",
      "Epoch 00017: val_acc did not improve from 0.48017\n",
      "5/5 [==============================] - 12s 2s/step - loss: 0.1830 - acc: 0.9318 - val_loss: 1.0392 - val_acc: 0.4447\n",
      "Epoch 18/100\n",
      "5/5 [==============================] - ETA: 0s - loss: 0.1639 - acc: 0.9409\n",
      "Epoch 00018: val_acc did not improve from 0.48017\n",
      "5/5 [==============================] - 12s 2s/step - loss: 0.1639 - acc: 0.9409 - val_loss: 1.0644 - val_acc: 0.4439\n",
      "Epoch 19/100\n",
      "5/5 [==============================] - ETA: 0s - loss: 0.1424 - acc: 0.9474\n",
      "Epoch 00019: val_acc did not improve from 0.48017\n",
      "5/5 [==============================] - 11s 2s/step - loss: 0.1424 - acc: 0.9474 - val_loss: 1.0573 - val_acc: 0.4523\n",
      "Epoch 20/100\n",
      "5/5 [==============================] - ETA: 0s - loss: 0.1286 - acc: 0.9542\n",
      "Epoch 00020: val_acc did not improve from 0.48017\n",
      "5/5 [==============================] - 11s 2s/step - loss: 0.1286 - acc: 0.9542 - val_loss: 1.0349 - val_acc: 0.4684\n",
      "Epoch 21/100\n",
      "5/5 [==============================] - ETA: 0s - loss: 0.1205 - acc: 0.9536\n",
      "Epoch 00021: val_acc did not improve from 0.48017\n",
      "5/5 [==============================] - 11s 2s/step - loss: 0.1205 - acc: 0.9536 - val_loss: 1.1430 - val_acc: 0.4422\n",
      "Epoch 22/100\n",
      "5/5 [==============================] - ETA: 0s - loss: 0.1003 - acc: 0.9643\n",
      "Epoch 00022: val_acc did not improve from 0.48017\n",
      "5/5 [==============================] - 11s 2s/step - loss: 0.1003 - acc: 0.9643 - val_loss: 1.4035 - val_acc: 0.4397\n",
      "Epoch 23/100\n",
      "5/5 [==============================] - ETA: 0s - loss: 0.0936 - acc: 0.9660\n",
      "Epoch 00023: val_acc did not improve from 0.48017\n",
      "5/5 [==============================] - 12s 2s/step - loss: 0.0936 - acc: 0.9660 - val_loss: 1.0817 - val_acc: 0.4641\n",
      "Epoch 24/100\n",
      "5/5 [==============================] - ETA: 0s - loss: 0.0907 - acc: 0.9664\n",
      "Epoch 00024: val_acc did not improve from 0.48017\n",
      "5/5 [==============================] - 12s 2s/step - loss: 0.0907 - acc: 0.9664 - val_loss: 1.4847 - val_acc: 0.4439\n",
      "Epoch 25/100\n",
      "5/5 [==============================] - ETA: 0s - loss: 0.0740 - acc: 0.9755\n",
      "Epoch 00025: val_acc did not improve from 0.48017\n",
      "5/5 [==============================] - 12s 2s/step - loss: 0.0740 - acc: 0.9755 - val_loss: 1.2584 - val_acc: 0.4515\n",
      "Epoch 26/100\n",
      "5/5 [==============================] - ETA: 0s - loss: 0.0795 - acc: 0.9723\n",
      "Epoch 00026: val_acc did not improve from 0.48017\n",
      "5/5 [==============================] - 11s 2s/step - loss: 0.0795 - acc: 0.9723 - val_loss: 1.1742 - val_acc: 0.4751\n",
      "Epoch 27/100\n",
      "5/5 [==============================] - ETA: 0s - loss: 0.0651 - acc: 0.9785\n",
      "Epoch 00027: val_acc did not improve from 0.48017\n",
      "5/5 [==============================] - 13s 3s/step - loss: 0.0651 - acc: 0.9785 - val_loss: 1.5795 - val_acc: 0.4473\n",
      "Epoch 28/100\n",
      "5/5 [==============================] - ETA: 0s - loss: 0.0609 - acc: 0.9802\n",
      "Epoch 00028: val_acc did not improve from 0.48017\n",
      "5/5 [==============================] - 13s 3s/step - loss: 0.0609 - acc: 0.9802 - val_loss: 2.0734 - val_acc: 0.4422\n",
      "Epoch 29/100\n",
      "5/5 [==============================] - ETA: 0s - loss: 0.0605 - acc: 0.9797\n",
      "Epoch 00029: val_acc improved from 0.48017 to 0.49705, saving model to best_model.h5\n",
      "5/5 [==============================] - 12s 2s/step - loss: 0.0605 - acc: 0.9797 - val_loss: 1.1219 - val_acc: 0.4970\n",
      "Epoch 30/100\n",
      "5/5 [==============================] - ETA: 0s - loss: 0.0562 - acc: 0.9825\n",
      "Epoch 00030: val_acc did not improve from 0.49705\n",
      "5/5 [==============================] - 12s 2s/step - loss: 0.0562 - acc: 0.9825 - val_loss: 1.3101 - val_acc: 0.4743\n",
      "Epoch 31/100\n",
      "5/5 [==============================] - ETA: 0s - loss: 0.0513 - acc: 0.9840\n",
      "Epoch 00031: val_acc did not improve from 0.49705\n",
      "5/5 [==============================] - 11s 2s/step - loss: 0.0513 - acc: 0.9840 - val_loss: 2.1414 - val_acc: 0.4430\n"
     ]
    },
    {
     "name": "stdout",
     "output_type": "stream",
     "text": [
      "Epoch 32/100\n",
      "5/5 [==============================] - ETA: 0s - loss: 0.0487 - acc: 0.9821\n",
      "Epoch 00032: val_acc improved from 0.49705 to 0.50549, saving model to best_model.h5\n",
      "5/5 [==============================] - 11s 2s/step - loss: 0.0487 - acc: 0.9821 - val_loss: 1.1848 - val_acc: 0.5055\n",
      "Epoch 33/100\n",
      "5/5 [==============================] - ETA: 0s - loss: 0.0453 - acc: 0.9852\n",
      "Epoch 00033: val_acc did not improve from 0.50549\n",
      "5/5 [==============================] - 14s 3s/step - loss: 0.0453 - acc: 0.9852 - val_loss: 1.4850 - val_acc: 0.4734\n",
      "Epoch 34/100\n",
      "5/5 [==============================] - ETA: 0s - loss: 0.0514 - acc: 0.9818\n",
      "Epoch 00034: val_acc did not improve from 0.50549\n",
      "5/5 [==============================] - 14s 3s/step - loss: 0.0514 - acc: 0.9818 - val_loss: 2.0837 - val_acc: 0.4498\n",
      "Epoch 35/100\n",
      "5/5 [==============================] - ETA: 0s - loss: 0.0432 - acc: 0.9869\n",
      "Epoch 00035: val_acc improved from 0.50549 to 0.50802, saving model to best_model.h5\n",
      "5/5 [==============================] - 13s 3s/step - loss: 0.0432 - acc: 0.9869 - val_loss: 1.2554 - val_acc: 0.5080\n",
      "Epoch 36/100\n",
      "5/5 [==============================] - ETA: 0s - loss: 0.0398 - acc: 0.9856\n",
      "Epoch 00036: val_acc did not improve from 0.50802\n",
      "5/5 [==============================] - 14s 3s/step - loss: 0.0398 - acc: 0.9856 - val_loss: 2.4932 - val_acc: 0.4489\n",
      "Epoch 37/100\n",
      "5/5 [==============================] - ETA: 0s - loss: 0.0471 - acc: 0.9812\n",
      "Epoch 00037: val_acc improved from 0.50802 to 0.53165, saving model to best_model.h5\n",
      "5/5 [==============================] - 14s 3s/step - loss: 0.0471 - acc: 0.9812 - val_loss: 1.1612 - val_acc: 0.5316\n",
      "Epoch 38/100\n",
      "5/5 [==============================] - ETA: 0s - loss: 0.0373 - acc: 0.9880\n",
      "Epoch 00038: val_acc did not improve from 0.53165\n",
      "5/5 [==============================] - 13s 3s/step - loss: 0.0373 - acc: 0.9880 - val_loss: 1.8914 - val_acc: 0.4624\n",
      "Epoch 39/100\n",
      "5/5 [==============================] - ETA: 0s - loss: 0.0326 - acc: 0.9897\n",
      "Epoch 00039: val_acc did not improve from 0.53165\n",
      "5/5 [==============================] - 14s 3s/step - loss: 0.0326 - acc: 0.9897 - val_loss: 1.4993 - val_acc: 0.4987\n",
      "Epoch 40/100\n",
      "5/5 [==============================] - ETA: 0s - loss: 0.0298 - acc: 0.9911\n",
      "Epoch 00040: val_acc did not improve from 0.53165\n",
      "5/5 [==============================] - 12s 2s/step - loss: 0.0298 - acc: 0.9911 - val_loss: 1.4978 - val_acc: 0.5013\n",
      "Epoch 41/100\n",
      "5/5 [==============================] - ETA: 0s - loss: 0.0294 - acc: 0.9924\n",
      "Epoch 00041: val_acc did not improve from 0.53165\n",
      "5/5 [==============================] - 16s 3s/step - loss: 0.0294 - acc: 0.9924 - val_loss: 1.3383 - val_acc: 0.5114\n",
      "Epoch 42/100\n",
      "5/5 [==============================] - ETA: 0s - loss: 0.0285 - acc: 0.9922\n",
      "Epoch 00042: val_acc improved from 0.53165 to 0.53333, saving model to best_model.h5\n",
      "5/5 [==============================] - 18s 4s/step - loss: 0.0285 - acc: 0.9922 - val_loss: 1.1729 - val_acc: 0.5333\n",
      "Epoch 43/100\n",
      "5/5 [==============================] - ETA: 0s - loss: 0.0284 - acc: 0.9922\n",
      "Epoch 00043: val_acc improved from 0.53333 to 0.53840, saving model to best_model.h5\n",
      "5/5 [==============================] - 15s 3s/step - loss: 0.0284 - acc: 0.9922 - val_loss: 1.1550 - val_acc: 0.5384\n",
      "Epoch 44/100\n",
      "5/5 [==============================] - ETA: 0s - loss: 0.0270 - acc: 0.9932\n",
      "Epoch 00044: val_acc did not improve from 0.53840\n",
      "5/5 [==============================] - 14s 3s/step - loss: 0.0270 - acc: 0.9932 - val_loss: 1.3171 - val_acc: 0.5283\n",
      "Epoch 45/100\n",
      "5/5 [==============================] - ETA: 0s - loss: 0.0225 - acc: 0.9937\n",
      "Epoch 00045: val_acc did not improve from 0.53840\n",
      "5/5 [==============================] - 14s 3s/step - loss: 0.0225 - acc: 0.9937 - val_loss: 1.8068 - val_acc: 0.5013\n",
      "Epoch 46/100\n",
      "5/5 [==============================] - ETA: 0s - loss: 0.0211 - acc: 0.9935\n",
      "Epoch 00046: val_acc did not improve from 0.53840\n",
      "5/5 [==============================] - 16s 3s/step - loss: 0.0211 - acc: 0.9935 - val_loss: 1.5896 - val_acc: 0.5190\n",
      "Epoch 47/100\n",
      "5/5 [==============================] - ETA: 0s - loss: 0.0247 - acc: 0.9930\n",
      "Epoch 00047: val_acc did not improve from 0.53840\n",
      "5/5 [==============================] - 14s 3s/step - loss: 0.0247 - acc: 0.9930 - val_loss: 1.3911 - val_acc: 0.5333\n",
      "Epoch 48/100\n",
      "5/5 [==============================] - ETA: 0s - loss: 0.0240 - acc: 0.9913\n",
      "Epoch 00048: val_acc did not improve from 0.53840\n",
      "5/5 [==============================] - 15s 3s/step - loss: 0.0240 - acc: 0.9913 - val_loss: 1.8207 - val_acc: 0.5030\n",
      "Epoch 49/100\n",
      "5/5 [==============================] - ETA: 0s - loss: 0.0211 - acc: 0.9924\n",
      "Epoch 00049: val_acc did not improve from 0.53840\n",
      "5/5 [==============================] - 14s 3s/step - loss: 0.0211 - acc: 0.9924 - val_loss: 1.5552 - val_acc: 0.5266\n",
      "Epoch 50/100\n",
      "5/5 [==============================] - ETA: 0s - loss: 0.0206 - acc: 0.9941\n",
      "Epoch 00050: val_acc improved from 0.53840 to 0.54093, saving model to best_model.h5\n",
      "5/5 [==============================] - 16s 3s/step - loss: 0.0206 - acc: 0.9941 - val_loss: 1.4961 - val_acc: 0.5409\n",
      "Epoch 51/100\n",
      "5/5 [==============================] - ETA: 0s - loss: 0.0186 - acc: 0.9949\n",
      "Epoch 00051: val_acc improved from 0.54093 to 0.55021, saving model to best_model.h5\n",
      "5/5 [==============================] - 16s 3s/step - loss: 0.0186 - acc: 0.9949 - val_loss: 1.4933 - val_acc: 0.5502\n",
      "Epoch 52/100\n",
      "5/5 [==============================] - ETA: 0s - loss: 0.0237 - acc: 0.9928\n",
      "Epoch 00052: val_acc did not improve from 0.55021\n",
      "5/5 [==============================] - 15s 3s/step - loss: 0.0237 - acc: 0.9928 - val_loss: 1.5566 - val_acc: 0.5266\n",
      "Epoch 53/100\n",
      "5/5 [==============================] - ETA: 0s - loss: 0.0192 - acc: 0.9930\n",
      "Epoch 00053: val_acc did not improve from 0.55021\n",
      "5/5 [==============================] - 16s 3s/step - loss: 0.0192 - acc: 0.9930 - val_loss: 1.8520 - val_acc: 0.5232\n",
      "Epoch 00053: early stopping\n"
     ]
    }
   ],
   "source": [
    "model.compile(optimizer='adam', loss='categorical_crossentropy', metrics=['acc'])\n",
    "history = model.fit(X_train, y_train, epochs=100, callbacks=[es, mc], batch_size=1024, validation_split=0.2)"
   ]
  },
  {
   "cell_type": "code",
   "execution_count": 148,
   "metadata": {
    "ExecuteTime": {
     "end_time": "2021-04-01T02:37:16.556272Z",
     "start_time": "2021-04-01T02:37:13.101103Z"
    }
   },
   "outputs": [
    {
     "name": "stdout",
     "output_type": "stream",
     "text": [
      "62/62 [==============================] - 1s 22ms/step - loss: 1.0014 - acc: 0.5041\n",
      "테스트 정확도: 0.5041\n"
     ]
    }
   ],
   "source": [
    "loaded_model = load_model('best_model.h5')\n",
    "print(\"테스트 정확도: %.4f\" % (loaded_model.evaluate(X_test, y_test)[1]))"
   ]
  },
  {
   "cell_type": "code",
   "execution_count": 106,
   "metadata": {
    "ExecuteTime": {
     "end_time": "2021-03-31T17:13:21.881003Z",
     "start_time": "2021-03-31T17:13:17.218412Z"
    }
   },
   "outputs": [
    {
     "data": {
      "text/plain": [
       "array([[0.39774117, 0.4180528 , 0.18420602],\n",
       "       [0.93720895, 0.05255724, 0.01023376],\n",
       "       [0.53255975, 0.3266842 , 0.14075604],\n",
       "       ...,\n",
       "       [0.27636996, 0.466064  , 0.2575661 ],\n",
       "       [0.2051393 , 0.4949639 , 0.29989678],\n",
       "       [0.39454758, 0.3854387 , 0.22001368]], dtype=float32)"
      ]
     },
     "execution_count": 106,
     "metadata": {},
     "output_type": "execute_result"
    }
   ],
   "source": [
    "preds = loaded_model.predict(X_test)\n",
    "preds"
   ]
  },
  {
   "cell_type": "markdown",
   "metadata": {},
   "source": [
    "# 모델 평가 참고 \n",
    "\n",
    "- https://ayoteralab.tistory.com/entry/Iris-dataset-classification-with-Keras?category=873956"
   ]
  },
  {
   "cell_type": "code",
   "execution_count": 139,
   "metadata": {
    "ExecuteTime": {
     "end_time": "2021-04-01T02:23:13.556256Z",
     "start_time": "2021-04-01T02:23:13.363769Z"
    }
   },
   "outputs": [
    {
     "data": {
      "image/png": "[encoded data removed]",
      "text/plain": [
       "<Figure size 432x288 with 1 Axes>"
      ]
     },
     "metadata": {
      "needs_background": "light"
     },
     "output_type": "display_data"
    }
   ],
   "source": [
    "plt.plot(history.history['val_acc'])\n",
    "plt.plot(history.history['val_loss'])\n",
    "plt.show()"
   ]
  },
  {
   "cell_type": "code",
   "execution_count": 108,
   "metadata": {
    "ExecuteTime": {
     "end_time": "2021-03-31T17:13:31.208117Z",
     "start_time": "2021-03-31T17:13:30.879991Z"
    }
   },
   "outputs": [
    {
     "ename": "NameError",
     "evalue": "name 'dataset' is not defined",
     "output_type": "error",
     "traceback": [
      "\u001b[1;31m---------------------------------------------------------------------------\u001b[0m",
      "\u001b[1;31mNameError\u001b[0m                                 Traceback (most recent call last)",
      "\u001b[1;32m<ipython-input-108-2f3d6900dd4d>\u001b[0m in \u001b[0;36m<module>\u001b[1;34m\u001b[0m\n\u001b[0;32m      1\u001b[0m \u001b[0mf\u001b[0m\u001b[1;33m,\u001b[0m \u001b[0max\u001b[0m \u001b[1;33m=\u001b[0m \u001b[0mplt\u001b[0m\u001b[1;33m.\u001b[0m\u001b[0msubplots\u001b[0m\u001b[1;33m(\u001b[0m\u001b[1;36m1\u001b[0m\u001b[1;33m,\u001b[0m \u001b[1;36m2\u001b[0m\u001b[1;33m,\u001b[0m \u001b[0mfigsize\u001b[0m\u001b[1;33m=\u001b[0m\u001b[1;33m(\u001b[0m\u001b[1;36m14\u001b[0m\u001b[1;33m,\u001b[0m\u001b[1;36m6\u001b[0m\u001b[1;33m)\u001b[0m\u001b[1;33m)\u001b[0m\u001b[1;33m\u001b[0m\u001b[1;33m\u001b[0m\u001b[0m\n\u001b[1;32m----> 2\u001b[1;33m \u001b[0max\u001b[0m\u001b[1;33m[\u001b[0m\u001b[1;36m0\u001b[0m\u001b[1;33m]\u001b[0m\u001b[1;33m.\u001b[0m\u001b[0mscatter\u001b[0m\u001b[1;33m(\u001b[0m\u001b[0mdataset\u001b[0m\u001b[1;33m.\u001b[0m\u001b[0mdata\u001b[0m\u001b[1;33m[\u001b[0m\u001b[1;33m:\u001b[0m\u001b[1;33m,\u001b[0m\u001b[1;36m0\u001b[0m\u001b[1;33m]\u001b[0m\u001b[1;33m,\u001b[0m \u001b[0mdataset\u001b[0m\u001b[1;33m.\u001b[0m\u001b[0mdata\u001b[0m\u001b[1;33m[\u001b[0m\u001b[1;33m:\u001b[0m\u001b[1;33m,\u001b[0m\u001b[1;36m1\u001b[0m\u001b[1;33m]\u001b[0m\u001b[1;33m,\u001b[0m \u001b[0mc\u001b[0m\u001b[1;33m=\u001b[0m\u001b[0mdataset\u001b[0m\u001b[1;33m.\u001b[0m\u001b[0mtarget\u001b[0m\u001b[1;33m)\u001b[0m\u001b[1;33m\u001b[0m\u001b[1;33m\u001b[0m\u001b[0m\n\u001b[0m\u001b[0;32m      3\u001b[0m \u001b[0max\u001b[0m\u001b[1;33m[\u001b[0m\u001b[1;36m0\u001b[0m\u001b[1;33m]\u001b[0m\u001b[1;33m.\u001b[0m\u001b[0mset_title\u001b[0m\u001b[1;33m(\u001b[0m\u001b[1;34m'scatter with Sepal'\u001b[0m\u001b[1;33m)\u001b[0m\u001b[1;33m\u001b[0m\u001b[1;33m\u001b[0m\u001b[0m\n\u001b[0;32m      4\u001b[0m \u001b[0max\u001b[0m\u001b[1;33m[\u001b[0m\u001b[1;36m1\u001b[0m\u001b[1;33m]\u001b[0m\u001b[1;33m.\u001b[0m\u001b[0mscatter\u001b[0m\u001b[1;33m(\u001b[0m\u001b[0mdataset\u001b[0m\u001b[1;33m.\u001b[0m\u001b[0mdata\u001b[0m\u001b[1;33m[\u001b[0m\u001b[1;33m:\u001b[0m\u001b[1;33m,\u001b[0m\u001b[1;36m2\u001b[0m\u001b[1;33m]\u001b[0m\u001b[1;33m,\u001b[0m \u001b[0mdataset\u001b[0m\u001b[1;33m.\u001b[0m\u001b[0mdata\u001b[0m\u001b[1;33m[\u001b[0m\u001b[1;33m:\u001b[0m\u001b[1;33m,\u001b[0m\u001b[1;36m3\u001b[0m\u001b[1;33m]\u001b[0m\u001b[1;33m,\u001b[0m \u001b[0mc\u001b[0m\u001b[1;33m=\u001b[0m\u001b[0mdataset\u001b[0m\u001b[1;33m.\u001b[0m\u001b[0mtarget\u001b[0m\u001b[1;33m)\u001b[0m\u001b[1;33m\u001b[0m\u001b[1;33m\u001b[0m\u001b[0m\n\u001b[0;32m      5\u001b[0m \u001b[0max\u001b[0m\u001b[1;33m[\u001b[0m\u001b[1;36m1\u001b[0m\u001b[1;33m]\u001b[0m\u001b[1;33m.\u001b[0m\u001b[0mset_title\u001b[0m\u001b[1;33m(\u001b[0m\u001b[1;34m'scatter with Petal'\u001b[0m\u001b[1;33m)\u001b[0m\u001b[1;33m\u001b[0m\u001b[1;33m\u001b[0m\u001b[0m\n",
      "\u001b[1;31mNameError\u001b[0m: name 'dataset' is not defined"
     ]
    },
    {
     "data": {
      "image/png": "[encoded data removed]",
      "text/plain": [
       "<Figure size 1008x432 with 2 Axes>"
      ]
     },
     "metadata": {
      "needs_background": "light"
     },
     "output_type": "display_data"
    }
   ],
   "source": [
    "f, ax = plt.subplots(1, 2, figsize=(14,6))\n",
    "ax[0].scatter(dataset.data[:,0], dataset.data[:,1], c=dataset.target)\n",
    "ax[0].set_title('scatter with Sepal')\n",
    "ax[1].scatter(dataset.data[:,2], dataset.data[:,3], c=dataset.target)\n",
    "ax[1].set_title('scatter with Petal')\n",
    "plt.show()"
   ]
  },
  {
   "cell_type": "code",
   "execution_count": null,
   "metadata": {},
   "outputs": [],
   "source": []
  }
 ],
 "metadata": {
  "kernelspec": {
   "display_name": "Python 3",
   "language": "python",
   "name": "python3"
  },
  "language_info": {
   "codemirror_mode": {
    "name": "ipython",
    "version": 3
   },
   "file_extension": ".py",
   "mimetype": "text/x-python",
   "name": "python",
   "nbconvert_exporter": "python",
   "pygments_lexer": "ipython3",
   "version": "3.8.3"
  },
  "toc": {
   "base_numbering": 1,
   "nav_menu": {},
   "number_sections": true,
   "sideBar": true,
   "skip_h1_title": false,
   "title_cell": "Table of Contents",
   "title_sidebar": "Contents",
   "toc_cell": false,
   "toc_position": {},
   "toc_section_display": true,
   "toc_window_display": false
  }
 },
 "nbformat": 4,
 "nbformat_minor": 4
}
