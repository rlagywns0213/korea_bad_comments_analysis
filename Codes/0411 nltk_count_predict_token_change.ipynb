{
 "cells": [
  {
   "cell_type": "code",
   "execution_count": 1,
   "metadata": {
    "ExecuteTime": {
     "end_time": "2021-04-11T13:44:27.114104Z",
     "start_time": "2021-04-11T13:44:26.411496Z"
    }
   },
   "outputs": [],
   "source": [
    "import pandas as pd\n",
    "train= pd.read_csv('korean-hate-speech/labeled/train.tsv' ,sep='\\t')\n",
    "dev= pd.read_csv('korean-hate-speech/labeled/dev.tsv' ,sep='\\t')"
   ]
  },
  {
   "cell_type": "code",
   "execution_count": 2,
   "metadata": {
    "ExecuteTime": {
     "end_time": "2021-04-11T13:44:27.143886Z",
     "start_time": "2021-04-11T13:44:27.115930Z"
    }
   },
   "outputs": [
    {
     "data": {
      "text/html": [
       "<div>\n",
       "<style scoped>\n",
       "    .dataframe tbody tr th:only-of-type {\n",
       "        vertical-align: middle;\n",
       "    }\n",
       "\n",
       "    .dataframe tbody tr th {\n",
       "        vertical-align: top;\n",
       "    }\n",
       "\n",
       "    .dataframe thead th {\n",
       "        text-align: right;\n",
       "    }\n",
       "</style>\n",
       "<table border=\"1\" class=\"dataframe\">\n",
       "  <thead>\n",
       "    <tr style=\"text-align: right;\">\n",
       "      <th></th>\n",
       "      <th>comments</th>\n",
       "      <th>contain_gender_bias</th>\n",
       "      <th>bias</th>\n",
       "      <th>hate</th>\n",
       "    </tr>\n",
       "  </thead>\n",
       "  <tbody>\n",
       "    <tr>\n",
       "      <th>0</th>\n",
       "      <td>(현재 호텔주인 심정) 아18 난 마른하늘에 날벼락맞고 호텔망하게생겼는데 누군 계속...</td>\n",
       "      <td>False</td>\n",
       "      <td>others</td>\n",
       "      <td>hate</td>\n",
       "    </tr>\n",
       "    <tr>\n",
       "      <th>1</th>\n",
       "      <td>....한국적인 미인의 대표적인 분...너무나 곱고아름다운모습...그모습뒤의 슬픔을...</td>\n",
       "      <td>False</td>\n",
       "      <td>none</td>\n",
       "      <td>none</td>\n",
       "    </tr>\n",
       "    <tr>\n",
       "      <th>2</th>\n",
       "      <td>...못된 넘들...남의 고통을 즐겼던 넘들..이젠 마땅한 처벌을 받아야지..,그래...</td>\n",
       "      <td>False</td>\n",
       "      <td>none</td>\n",
       "      <td>hate</td>\n",
       "    </tr>\n",
       "    <tr>\n",
       "      <th>3</th>\n",
       "      <td>1,2화 어설펐는데 3,4화 지나서부터는 갈수록 너무 재밌던데</td>\n",
       "      <td>False</td>\n",
       "      <td>none</td>\n",
       "      <td>none</td>\n",
       "    </tr>\n",
       "    <tr>\n",
       "      <th>4</th>\n",
       "      <td>1. 사람 얼굴 손톱으로 긁은것은 인격살해이고2. 동영상이 몰카냐? 메걸리안들 생각...</td>\n",
       "      <td>True</td>\n",
       "      <td>gender</td>\n",
       "      <td>hate</td>\n",
       "    </tr>\n",
       "    <tr>\n",
       "      <th>...</th>\n",
       "      <td>...</td>\n",
       "      <td>...</td>\n",
       "      <td>...</td>\n",
       "      <td>...</td>\n",
       "    </tr>\n",
       "    <tr>\n",
       "      <th>7891</th>\n",
       "      <td>힘내세요~ 응원합니다!!</td>\n",
       "      <td>False</td>\n",
       "      <td>none</td>\n",
       "      <td>none</td>\n",
       "    </tr>\n",
       "    <tr>\n",
       "      <th>7892</th>\n",
       "      <td>힘내세요~~삼가 고인의 명복을 빕니다..</td>\n",
       "      <td>False</td>\n",
       "      <td>none</td>\n",
       "      <td>none</td>\n",
       "    </tr>\n",
       "    <tr>\n",
       "      <th>7893</th>\n",
       "      <td>힘내세용 ^^ 항상 응원합니닷 ^^ !</td>\n",
       "      <td>False</td>\n",
       "      <td>none</td>\n",
       "      <td>none</td>\n",
       "    </tr>\n",
       "    <tr>\n",
       "      <th>7894</th>\n",
       "      <td>힘내소...연기로 답해요.나도 53살 인데 이런일 저런일 다 있더라구요.인격을 믿습...</td>\n",
       "      <td>False</td>\n",
       "      <td>none</td>\n",
       "      <td>none</td>\n",
       "    </tr>\n",
       "    <tr>\n",
       "      <th>7895</th>\n",
       "      <td>힘들면 관뒀어야지 그게 현명한거다</td>\n",
       "      <td>False</td>\n",
       "      <td>none</td>\n",
       "      <td>none</td>\n",
       "    </tr>\n",
       "  </tbody>\n",
       "</table>\n",
       "<p>7896 rows × 4 columns</p>\n",
       "</div>"
      ],
      "text/plain": [
       "                                               comments  contain_gender_bias  \\\n",
       "0     (현재 호텔주인 심정) 아18 난 마른하늘에 날벼락맞고 호텔망하게생겼는데 누군 계속...                False   \n",
       "1     ....한국적인 미인의 대표적인 분...너무나 곱고아름다운모습...그모습뒤의 슬픔을...                False   \n",
       "2     ...못된 넘들...남의 고통을 즐겼던 넘들..이젠 마땅한 처벌을 받아야지..,그래...                False   \n",
       "3                    1,2화 어설펐는데 3,4화 지나서부터는 갈수록 너무 재밌던데                False   \n",
       "4     1. 사람 얼굴 손톱으로 긁은것은 인격살해이고2. 동영상이 몰카냐? 메걸리안들 생각...                 True   \n",
       "...                                                 ...                  ...   \n",
       "7891                                      힘내세요~ 응원합니다!!                False   \n",
       "7892                             힘내세요~~삼가 고인의 명복을 빕니다..                False   \n",
       "7893                              힘내세용 ^^ 항상 응원합니닷 ^^ !                False   \n",
       "7894  힘내소...연기로 답해요.나도 53살 인데 이런일 저런일 다 있더라구요.인격을 믿습...                False   \n",
       "7895                                 힘들면 관뒀어야지 그게 현명한거다                False   \n",
       "\n",
       "        bias  hate  \n",
       "0     others  hate  \n",
       "1       none  none  \n",
       "2       none  hate  \n",
       "3       none  none  \n",
       "4     gender  hate  \n",
       "...      ...   ...  \n",
       "7891    none  none  \n",
       "7892    none  none  \n",
       "7893    none  none  \n",
       "7894    none  none  \n",
       "7895    none  none  \n",
       "\n",
       "[7896 rows x 4 columns]"
      ]
     },
     "execution_count": 2,
     "metadata": {},
     "output_type": "execute_result"
    }
   ],
   "source": [
    "train"
   ]
  },
  {
   "cell_type": "markdown",
   "metadata": {},
   "source": [
    "# 독립변수 처리"
   ]
  },
  {
   "cell_type": "code",
   "execution_count": 3,
   "metadata": {
    "ExecuteTime": {
     "end_time": "2021-04-11T13:44:28.057826Z",
     "start_time": "2021-04-11T13:44:28.040870Z"
    }
   },
   "outputs": [
    {
     "name": "stderr",
     "output_type": "stream",
     "text": [
      "<ipython-input-3-4a9ecf198709>:2: SettingWithCopyWarning: \n",
      "A value is trying to be set on a copy of a slice from a DataFrame.\n",
      "Try using .loc[row_indexer,col_indexer] = value instead\n",
      "\n",
      "See the caveats in the documentation: https://pandas.pydata.org/pandas-docs/stable/user_guide/indexing.html#returning-a-view-versus-a-copy\n",
      "  train['hate'] = train['hate'].map({'none':0,'offensive':1,'hate':2})\n"
     ]
    }
   ],
   "source": [
    "train = train[['comments','hate']]\n",
    "train['hate'] = train['hate'].map({'none':0,'offensive':1,'hate':2})\n",
    "dev = dev[['comments','hate']]\n",
    "dev['hate'] = dev['hate'].map({'none':0,'offensive':1,'hate':2})"
   ]
  },
  {
   "cell_type": "code",
   "execution_count": 4,
   "metadata": {
    "ExecuteTime": {
     "end_time": "2021-04-11T13:44:33.895127Z",
     "start_time": "2021-04-11T13:44:28.659294Z"
    }
   },
   "outputs": [],
   "source": [
    "import pandas as pd\n",
    "import numpy as np\n",
    "import matplotlib.pyplot as plt\n",
    "import urllib.request\n",
    "from collections import Counter\n",
    "from konlpy.tag import Mecab\n",
    "from sklearn.model_selection import train_test_split\n",
    "from tensorflow.keras.preprocessing.text import Tokenizer\n",
    "from tensorflow.keras.preprocessing.sequence import pad_sequences"
   ]
  },
  {
   "cell_type": "code",
   "execution_count": 5,
   "metadata": {
    "ExecuteTime": {
     "end_time": "2021-04-11T13:44:33.910594Z",
     "start_time": "2021-04-11T13:44:33.899149Z"
    }
   },
   "outputs": [
    {
     "name": "stdout",
     "output_type": "stream",
     "text": [
      "훈련용 리뷰의 개수 : 7896\n",
      "테스트용 리뷰의 개수 : 471\n"
     ]
    }
   ],
   "source": [
    "print('훈련용 리뷰의 개수 :', len(train))\n",
    "print('테스트용 리뷰의 개수 :', len(dev))"
   ]
  },
  {
   "cell_type": "code",
   "execution_count": 6,
   "metadata": {
    "ExecuteTime": {
     "end_time": "2021-04-11T13:44:34.075738Z",
     "start_time": "2021-04-11T13:44:33.914098Z"
    },
    "scrolled": true
   },
   "outputs": [
    {
     "data": {
      "text/plain": [
       "<matplotlib.axes._subplots.AxesSubplot at 0x2161ab82040>"
      ]
     },
     "execution_count": 6,
     "metadata": {},
     "output_type": "execute_result"
    },
    {
     "data": {
      "image/png": "[encoded data removed]",
      "text/plain": [
       "<Figure size 432x288 with 1 Axes>"
      ]
     },
     "metadata": {
      "needs_background": "light"
     },
     "output_type": "display_data"
    }
   ],
   "source": [
    "train['hate'].value_counts().plot(kind = 'bar')"
   ]
  },
  {
   "cell_type": "markdown",
   "metadata": {},
   "source": [
    "#### 형태소 분석기\n",
    "- norm옵션 : 정규화 안녕하세욬ㅋㅋ=> 안녕하세요\n",
    "- stem옵션 : 원형을 찾아주는 옵션 (그래요 -> 그렇다)\n",
    "\n",
    "\n",
    "- **은,는,이,가 조사 위주의 불용어 제거**\n",
    "- 영화리뷰에 영향많이 미치지 않을 것"
   ]
  },
  {
   "cell_type": "code",
   "execution_count": 7,
   "metadata": {
    "ExecuteTime": {
     "end_time": "2021-04-11T13:45:09.450822Z",
     "start_time": "2021-04-11T13:44:36.873616Z"
    }
   },
   "outputs": [
    {
     "name": "stderr",
     "output_type": "stream",
     "text": [
      "<ipython-input-7-9e0c01089843>:7: SettingWithCopyWarning: \n",
      "A value is trying to be set on a copy of a slice from a DataFrame.\n",
      "Try using .loc[row_indexer,col_indexer] = value instead\n",
      "\n",
      "See the caveats in the documentation: https://pandas.pydata.org/pandas-docs/stable/user_guide/indexing.html#returning-a-view-versus-a-copy\n",
      "  train['tokenized'] = train['comments'].apply(tokenize1)\n"
     ]
    }
   ],
   "source": [
    "from konlpy.tag import Okt\n",
    "okt = Okt()\n",
    "\n",
    "def tokenize1(doc):\n",
    "    # norm은 정규화, stem은 근어로 표시하기를 나타냄\n",
    "    return ['/'.join(t) for t in okt.pos(doc, norm=True, stem=True)]\n",
    "train['tokenized'] = train['comments'].apply(tokenize1)"
   ]
  },
  {
   "cell_type": "code",
   "execution_count": 40,
   "metadata": {
    "ExecuteTime": {
     "end_time": "2021-04-11T12:49:25.857000Z",
     "start_time": "2021-04-11T12:49:25.116947Z"
    },
    "scrolled": true
   },
   "outputs": [
    {
     "name": "stderr",
     "output_type": "stream",
     "text": [
      "<ipython-input-40-2317ec7bde5f>:3: SettingWithCopyWarning: \n",
      "A value is trying to be set on a copy of a slice from a DataFrame.\n",
      "Try using .loc[row_indexer,col_indexer] = value instead\n",
      "\n",
      "See the caveats in the documentation: https://pandas.pydata.org/pandas-docs/stable/user_guide/indexing.html#returning-a-view-versus-a-copy\n",
      "  train['tokenized'] = train['comments'].apply(mecab.morphs)\n",
      "<ipython-input-40-2317ec7bde5f>:4: SettingWithCopyWarning: \n",
      "A value is trying to be set on a copy of a slice from a DataFrame.\n",
      "Try using .loc[row_indexer,col_indexer] = value instead\n",
      "\n",
      "See the caveats in the documentation: https://pandas.pydata.org/pandas-docs/stable/user_guide/indexing.html#returning-a-view-versus-a-copy\n",
      "  train['tokenized'] = train['tokenized'].apply(lambda x: [item for item in x if item not in stopwords])\n"
     ]
    }
   ],
   "source": [
    "# mecab = Mecab(dicpath=r\"C:\\mecab\\mecab-ko-dic\")\n",
    "\n",
    "# train['tokenized'] = train['comments'].apply(mecab.morphs)\n",
    "# train['tokenized'] = train['tokenized'].apply(lambda x: [item for item in x if item not in stopwords])\n",
    "# dev['tokenized'] = dev['comments'].apply(mecab.morphs)\n",
    "# dev['tokenized'] = dev['tokenized'].apply(lambda x: [item for item in x if item not in stopwords])"
   ]
  },
  {
   "cell_type": "code",
   "execution_count": 10,
   "metadata": {
    "ExecuteTime": {
     "end_time": "2021-04-11T13:08:07.063476Z",
     "start_time": "2021-04-11T13:08:07.044527Z"
    }
   },
   "outputs": [],
   "source": [
    "train_data, test_data = train_test_split(train, test_size = 0.25, random_state = 42)"
   ]
  },
  {
   "cell_type": "markdown",
   "metadata": {},
   "source": [
    "# 단어 및 길이 분포 확인"
   ]
  },
  {
   "cell_type": "code",
   "execution_count": 11,
   "metadata": {
    "ExecuteTime": {
     "end_time": "2021-04-11T13:08:10.250469Z",
     "start_time": "2021-04-11T13:08:10.231520Z"
    }
   },
   "outputs": [
    {
     "name": "stdout",
     "output_type": "stream",
     "text": [
      "[[1 0 0]\n",
      " [0 0 1]\n",
      " [1 0 0]\n",
      " ...\n",
      " [1 0 0]\n",
      " [1 0 0]\n",
      " [0 1 0]]\n"
     ]
    }
   ],
   "source": [
    "from tensorflow.keras.utils import to_categorical\n",
    "dataset_y = to_categorical(train_data['hate'])\n",
    "dataset_y = np.array(dataset_y, dtype=np.int32)\n",
    "print(dataset_y)"
   ]
  },
  {
   "cell_type": "code",
   "execution_count": 12,
   "metadata": {
    "ExecuteTime": {
     "end_time": "2021-04-11T13:08:10.806730Z",
     "start_time": "2021-04-11T13:08:10.787196Z"
    }
   },
   "outputs": [
    {
     "name": "stdout",
     "output_type": "stream",
     "text": [
      "[[0 0 1]\n",
      " [1 0 0]\n",
      " [0 1 0]\n",
      " ...\n",
      " [0 1 0]\n",
      " [0 1 0]\n",
      " [0 0 1]]\n"
     ]
    }
   ],
   "source": [
    "test_y = to_categorical(test_data['hate'])\n",
    "test_y = np.array(test_y, dtype=np.int32)\n",
    "print(test_y)"
   ]
  },
  {
   "cell_type": "code",
   "execution_count": 13,
   "metadata": {
    "ExecuteTime": {
     "end_time": "2021-04-11T13:08:11.330919Z",
     "start_time": "2021-04-11T13:08:11.310954Z"
    }
   },
   "outputs": [
    {
     "data": {
      "text/plain": [
       "((5922,), (5922, 3), (1974,), (1974, 3))"
      ]
     },
     "execution_count": 13,
     "metadata": {},
     "output_type": "execute_result"
    }
   ],
   "source": [
    "X_train = train_data['tokenized'].values\n",
    "y_train = dataset_y\n",
    "X_test= test_data['tokenized'].values\n",
    "y_test = test_y\n",
    "\n",
    "X_train.shape, y_train.shape, X_test.shape, y_test.shape"
   ]
  },
  {
   "cell_type": "markdown",
   "metadata": {},
   "source": [
    "# 정수 인코딩"
   ]
  },
  {
   "cell_type": "code",
   "execution_count": 14,
   "metadata": {
    "ExecuteTime": {
     "end_time": "2021-04-11T13:08:20.017080Z",
     "start_time": "2021-04-11T13:08:12.193251Z"
    }
   },
   "outputs": [],
   "source": [
    "all_token = train['tokenized'].sum()"
   ]
  },
  {
   "cell_type": "code",
   "execution_count": 15,
   "metadata": {
    "ExecuteTime": {
     "end_time": "2021-04-11T13:08:21.252151Z",
     "start_time": "2021-04-11T13:08:20.019077Z"
    }
   },
   "outputs": [
    {
     "name": "stdout",
     "output_type": "stream",
     "text": [
      "123937\n",
      "12986\n",
      "[('하다/Verb', 3589), ('./Punctuation', 2324), ('이/Josa', 2149), ('들/Suffix', 1746), ('가/Josa', 1641), ('?/Punctuation', 1382), ('은/Josa', 1267), ('도/Josa', 1267), ('에/Josa', 1253), ('../Punctuation', 1207), ('는/Josa', 1041), ('.../Punctuation', 995), ('보다/Verb', 994), ('아니다/Adjective', 841), ('을/Josa', 769), ('있다/Adjective', 718), ('없다/Adjective', 701), ('되다/Verb', 610), ('같다/Adjective', 592), ('좋다/Adjective', 586), ('ㅋㅋㅋ/KoreanParticle', 580), ('여자/Noun', 542), ('사람/Noun', 540), ('왜/Noun', 510), ('의/Josa', 483), ('다/Adverb', 462), ('를/Josa', 459), ('나오다/Verb', 456), ('로/Josa', 434), ('으로/Josa', 431), ('안/VerbPrefix', 431), ('진짜/Noun', 413), ('만/Josa', 409), ('~/Punctuation', 400), ('너무/Adverb', 398), (',/Punctuation', 396), ('이/Determiner', 389), ('좀/Noun', 386), ('못/VerbPrefix', 383), ('에서/Josa', 378), ('그렇다/Adjective', 376), ('잘/VerbPrefix', 375), ('ㅋㅋ/KoreanParticle', 370), ('고/Josa', 359), ('한/Determiner', 323), ('하고/Josa', 320), ('남자/Noun', 319), ('들다/Verb', 318), ('가다/Verb', 306), ('이쁘다/Adjective', 293), ('많다/Adjective', 289), ('더/Noun', 288), ('않다/Verb', 286), ('뭐/Noun', 285), ('인데/Josa', 270), ('때/Noun', 268), ('알다/Verb', 258), ('애/Noun', 257), ('것/Noun', 250), ('이/Noun', 250), ('!/Punctuation', 245), ('결혼/Noun', 240), ('거/Noun', 238), ('먹다/Verb', 234), ('그냥/Noun', 233), ('연기/Noun', 228), ('말/Noun', 228), ('??/Punctuation', 226), ('나/Josa', 224), ('~~/Punctuation', 224), ('라/Josa', 223), ('지/Josa', 222), ('자다/Verb', 220), ('이다/Verb', 217), ('인/Josa', 216), ('한/Josa', 216), ('드라마/Noun', 215), ('네/Josa', 212), ('ㅋ/KoreanParticle', 212), ('얼굴/Noun', 210), ('돈/Noun', 210), ('..../Punctuation', 208), ('다/Josa', 208), ('아/Josa', 204), ('랑/Josa', 203), ('면/Josa', 199), ('모르다/Verb', 199), ('생각/Noun', 193), ('기사/Noun', 193), ('씨/Suffix', 193), ('까지/Josa', 192), ('받다/Verb', 189), ('연예인/Noun', 183), ('한테/Josa', 182), ('게/Josa', 178), ('적/Suffix', 176), ('지다/Verb', 176), ('그/Determiner', 175), ('넘다/Verb', 173), ('오다/Verb', 173), ('야/Josa', 170), ('차다/Verb', 167), ('나/Noun', 167), ('예쁘다/Adjective', 164), ('살다/Verb', 163), ('냐/Josa', 162), ('이다/Josa', 162), ('이제/Noun', 160), ('보고/Noun', 156), ('맞다/Verb', 155), ('방송/Noun', 150), ('또/Noun', 150), ('댓글/Noun', 149), ('근데/Adverb', 149), ('나다/Verb', 148), ('니/Noun', 147), ('치다/Verb', 147), ('ㅠㅠ/KoreanParticle', 146), ('안/Noun', 146), ('생기다/Verb', 145), ('이나/Josa', 145), ('정말/Noun', 145), ('저/Noun', 143), ('하나/Noun', 142), ('안되다/Adjective', 139), ('해주다/Verb', 139), ('나이/Noun', 138), ('난/Noun', 137), ('개/Noun', 136), ('님/Suffix', 135), ('과/Josa', 135), ('싫다/Adjective', 134), ('돼다/Verb', 134), ('이렇다/Adjective', 132), ('서/Josa', 131), ('싶다/Verb', 130), ('하/Suffix', 130), ('이렇게/Adverb', 130), ('임/Noun', 129), ('욕/Noun', 129), ('보이다/Verb', 128), ('많이/Adverb', 127), ('부터/Josa', 126), ('살/Noun', 125), ('그/Noun', 125), ('배우/Noun', 125), ('응원/Noun', 125), ('정도/Noun', 124), ('이랑/Josa', 119), ('지금/Noun', 119), ('내/Noun', 117), ('해/Noun', 116), ('이네/Josa', 116), ('ㅠ/KoreanParticle', 115), ('한국/Noun', 114), ('남/Noun', 114), ('무슨/Noun', 113), ('끄다/Verb', 112), ('저/Determiner', 111), ('역시/Noun', 111), ('문제/Noun', 110), ('어떻다/Adjective', 110), ('보다/Josa', 110), ('요/Josa', 109), ('!!/Punctuation', 109), ('놈/Noun', 108), ('인생/Noun', 107), ('요즘/Noun', 106), ('크다/Verb', 106), ('보기/Noun', 106), ('솔직하다/Adjective', 106), ('엄마/Noun', 105), ('만나다/Verb', 105), ('이/Suffix', 104), ('와/Josa', 102), ('얘/Noun', 102), ('대다/Verb', 101), ('팬/Noun', 101), ('쓰다/Verb', 101), ('재밌다/Adjective', 100), ('말다/Verb', 100), ('들이다/Verb', 98), ('좋아하다/Adjective', 98), ('이지/Josa', 97), ('주다/Verb', 96), ('^^/Punctuation', 96), ('아/Exclamation', 95), ('남편/Noun', 95), ('사랑/Noun', 94), ('도/Noun', 94), ('자기/Noun', 93), ('시키다/Verb', 93), ('뭔/Modifier', 92), ('ㅎㅎ/KoreanParticle', 92), ('둘/Noun', 91), ('못/Noun', 91), ('때문/Noun', 90), ('얼마나/Noun', 90), ('년/Noun', 90), ('악플/Noun', 90)]\n"
     ]
    }
   ],
   "source": [
    "import nltk\n",
    "text = nltk.Text(all_token, name='NMSC')\n",
    "\n",
    "# 전체 토큰의 개수\n",
    "print(len(text.tokens))\n",
    "\n",
    "# 중복을 제외한 토큰의 개수\n",
    "print(len(set(text.tokens)))            \n",
    "seq_len = len(set(text.tokens))\n",
    "# 출현 빈도가 높은 상위 토큰 10개\n",
    "print(text.vocab().most_common(200))"
   ]
  },
  {
   "cell_type": "code",
   "execution_count": 16,
   "metadata": {
    "ExecuteTime": {
     "end_time": "2021-04-11T13:08:39.332587Z",
     "start_time": "2021-04-11T13:08:38.851840Z"
    }
   },
   "outputs": [
    {
     "data": {
      "image/png": "[encoded data removed]",
      "text/plain": [
       "<Figure size 1440x720 with 1 Axes>"
      ]
     },
     "metadata": {
      "needs_background": "light"
     },
     "output_type": "display_data"
    }
   ],
   "source": [
    "import matplotlib.pyplot as plt\n",
    "from matplotlib import font_manager, rc\n",
    "%matplotlib inline\n",
    "\n",
    "font_fname = 'c:/windows/fonts/gulim.ttc'\n",
    "font_name = font_manager.FontProperties(fname=font_fname).get_name()\n",
    "rc('font', family=font_name)\n",
    "\n",
    "plt.figure(figsize=(20,10))\n",
    "text.plot(50)"
   ]
  },
  {
   "cell_type": "markdown",
   "metadata": {},
   "source": [
    "### 상위 빈도 seq_len만큼 벡터화"
   ]
  },
  {
   "cell_type": "code",
   "execution_count": 17,
   "metadata": {
    "ExecuteTime": {
     "end_time": "2021-04-11T13:09:22.124764Z",
     "start_time": "2021-04-11T13:08:41.652589Z"
    }
   },
   "outputs": [],
   "source": [
    "selected_words = [f[0] for f in text.vocab().most_common(seq_len)]\n",
    "\n",
    "def term_frequency(doc):\n",
    "    return [doc.count(word) for word in selected_words]\n",
    "\n",
    "train_x = [term_frequency(token) for token in X_train]\n",
    "test_x = [term_frequency(token) for token in X_test]"
   ]
  },
  {
   "cell_type": "code",
   "execution_count": 18,
   "metadata": {
    "ExecuteTime": {
     "end_time": "2021-04-11T13:09:29.928891Z",
     "start_time": "2021-04-11T13:09:22.126724Z"
    }
   },
   "outputs": [],
   "source": [
    "#모델링을 하기 위해 리스트로 되어 있는 데이터 형식을 array로 바꿔주고 dtype도 실수로 바꿈\n",
    "import numpy as np\n",
    "\n",
    "x_train = np.asarray(train_x).astype('float32')\n",
    "x_test = np.asarray(test_x).astype('float32')\n",
    "\n",
    "y_train = np.asarray(y_train).astype('float32')\n",
    "y_test = np.asarray(y_test).astype('float32')"
   ]
  },
  {
   "cell_type": "code",
   "execution_count": 19,
   "metadata": {
    "ExecuteTime": {
     "end_time": "2021-04-11T13:09:30.517319Z",
     "start_time": "2021-04-11T13:09:29.930886Z"
    }
   },
   "outputs": [],
   "source": [
    "def test_modelling(x_train, y_train, x_test, y_test):\n",
    "    global model\n",
    "    from tensorflow.keras import models\n",
    "    from tensorflow.keras import layers\n",
    "    from tensorflow.keras import optimizers\n",
    "    from tensorflow.keras import losses\n",
    "    from tensorflow.keras import metrics\n",
    "    from tensorflow.keras.callbacks import EarlyStopping, ModelCheckpoint\n",
    "    from tensorflow.keras.models import load_model\n",
    "    from tensorflow.keras.layers import Embedding, Dropout, Conv1D, GlobalMaxPooling1D, Dense, BatchNormalization\n",
    "    # 모델 구조 정의하기\n",
    "    model = models.Sequential()\n",
    "    model.add(layers.Dense(256, activation='relu', input_shape=(seq_len,))) \n",
    "    model.add(BatchNormalization())\n",
    "    model.add(Dropout(0.3))\n",
    "    model.add(layers.Dense(256, activation='relu')) #ReLU 활성화함수 채택\n",
    "    model.add(BatchNormalization())\n",
    "    model.add(Dropout(0.3))\n",
    "    model.add(layers.Dense(3, activation='softmax'))\n",
    "    \n",
    "    es = EarlyStopping(monitor='val_loss', mode='min', verbose=1, patience=20)\n",
    "    mc = ModelCheckpoint('best_model.h5', monitor='val_acc', mode='max', verbose=1, save_best_only=True)\n",
    "    model.compile(optimizer='adam', loss='categorical_crossentropy', metrics=['acc'])\n",
    "    history = model.fit(x_train, y_train, epochs=100, callbacks=[es,mc], batch_size=64, validation_split=0.2)\n",
    "    loaded_model = load_model('best_model.h5')\n",
    "    print(\"테스트 정확도: %.4f\" % (loaded_model.evaluate(x_test, y_test)[1]))"
   ]
  },
  {
   "cell_type": "code",
   "execution_count": 20,
   "metadata": {
    "ExecuteTime": {
     "end_time": "2021-04-11T13:10:13.183866Z",
     "start_time": "2021-04-11T13:09:30.519311Z"
    },
    "scrolled": true
   },
   "outputs": [
    {
     "name": "stdout",
     "output_type": "stream",
     "text": [
      "Epoch 1/100\n",
      "75/75 [==============================] - ETA: 0s - loss: 1.3292 - acc: 0.4727\n",
      "Epoch 00001: val_acc improved from -inf to 0.44051, saving model to best_model.h5\n",
      "75/75 [==============================] - 2s 28ms/step - loss: 1.3292 - acc: 0.4727 - val_loss: 1.0405 - val_acc: 0.4405\n",
      "Epoch 2/100\n",
      "74/75 [============================>.] - ETA: 0s - loss: 0.5303 - acc: 0.7848\n",
      "Epoch 00002: val_acc improved from 0.44051 to 0.52827, saving model to best_model.h5\n",
      "75/75 [==============================] - 1s 19ms/step - loss: 0.5305 - acc: 0.7847 - val_loss: 0.9995 - val_acc: 0.5283\n",
      "Epoch 3/100\n",
      "75/75 [==============================] - ETA: 0s - loss: 0.2333 - acc: 0.9196\n",
      "Epoch 00003: val_acc improved from 0.52827 to 0.54177, saving model to best_model.h5\n",
      "75/75 [==============================] - 2s 24ms/step - loss: 0.2333 - acc: 0.9196 - val_loss: 0.9441 - val_acc: 0.5418\n",
      "Epoch 4/100\n",
      "73/75 [============================>.] - ETA: 0s - loss: 0.1176 - acc: 0.9634\n",
      "Epoch 00004: val_acc improved from 0.54177 to 0.55190, saving model to best_model.h5\n",
      "75/75 [==============================] - 2s 21ms/step - loss: 0.1178 - acc: 0.9633 - val_loss: 0.9271 - val_acc: 0.5519\n",
      "Epoch 5/100\n",
      "75/75 [==============================] - ETA: 0s - loss: 0.0728 - acc: 0.9787\n",
      "Epoch 00005: val_acc improved from 0.55190 to 0.55359, saving model to best_model.h5\n",
      "75/75 [==============================] - 2s 21ms/step - loss: 0.0728 - acc: 0.9787 - val_loss: 0.9571 - val_acc: 0.5536\n",
      "Epoch 6/100\n",
      "72/75 [===========================>..] - ETA: 0s - loss: 0.0437 - acc: 0.9870\n",
      "Epoch 00006: val_acc improved from 0.55359 to 0.56540, saving model to best_model.h5\n",
      "75/75 [==============================] - 2s 20ms/step - loss: 0.0437 - acc: 0.9867 - val_loss: 1.0674 - val_acc: 0.5654\n",
      "Epoch 7/100\n",
      "73/75 [============================>.] - ETA: 0s - loss: 0.0363 - acc: 0.9897- ETA: 0s - loss: 0.0348 \n",
      "Epoch 00007: val_acc improved from 0.56540 to 0.56878, saving model to best_model.h5\n",
      "75/75 [==============================] - 2s 26ms/step - loss: 0.0362 - acc: 0.9897 - val_loss: 1.2503 - val_acc: 0.5688\n",
      "Epoch 8/100\n",
      "73/75 [============================>.] - ETA: 0s - loss: 0.0252 - acc: 0.9927\n",
      "Epoch 00008: val_acc did not improve from 0.56878\n",
      "75/75 [==============================] - 1s 19ms/step - loss: 0.0255 - acc: 0.9926 - val_loss: 1.4759 - val_acc: 0.5688\n",
      "Epoch 9/100\n",
      "73/75 [============================>.] - ETA: 0s - loss: 0.0205 - acc: 0.9944\n",
      "Epoch 00009: val_acc did not improve from 0.56878\n",
      "75/75 [==============================] - 1s 19ms/step - loss: 0.0209 - acc: 0.9941 - val_loss: 1.6371 - val_acc: 0.5620\n",
      "Epoch 10/100\n",
      "73/75 [============================>.] - ETA: 0s - loss: 0.0212 - acc: 0.9938\n",
      "Epoch 00010: val_acc improved from 0.56878 to 0.57215, saving model to best_model.h5\n",
      "75/75 [==============================] - 2s 20ms/step - loss: 0.0220 - acc: 0.9935 - val_loss: 1.8091 - val_acc: 0.5722\n",
      "Epoch 11/100\n",
      "75/75 [==============================] - ETA: 0s - loss: 0.0185 - acc: 0.9943\n",
      "Epoch 00011: val_acc improved from 0.57215 to 0.57468, saving model to best_model.h5\n",
      "75/75 [==============================] - 2s 24ms/step - loss: 0.0185 - acc: 0.9943 - val_loss: 1.9851 - val_acc: 0.5747\n",
      "Epoch 12/100\n",
      "73/75 [============================>.] - ETA: 0s - loss: 0.0224 - acc: 0.9934\n",
      "Epoch 00012: val_acc did not improve from 0.57468\n",
      "75/75 [==============================] - 2s 27ms/step - loss: 0.0224 - acc: 0.9932 - val_loss: 2.1140 - val_acc: 0.5730\n",
      "Epoch 13/100\n",
      "73/75 [============================>.] - ETA: 0s - loss: 0.0233 - acc: 0.9932\n",
      "Epoch 00013: val_acc did not improve from 0.57468\n",
      "75/75 [==============================] - 1s 19ms/step - loss: 0.0233 - acc: 0.9930 - val_loss: 2.1986 - val_acc: 0.5662\n",
      "Epoch 14/100\n",
      "74/75 [============================>.] - ETA: 0s - loss: 0.0190 - acc: 0.9935\n",
      "Epoch 00014: val_acc did not improve from 0.57468\n",
      "75/75 [==============================] - 1s 19ms/step - loss: 0.0194 - acc: 0.9932 - val_loss: 2.2361 - val_acc: 0.5620\n",
      "Epoch 15/100\n",
      "74/75 [============================>.] - ETA: 0s - loss: 0.0239 - acc: 0.9918\n",
      "Epoch 00015: val_acc did not improve from 0.57468\n",
      "75/75 [==============================] - 2s 25ms/step - loss: 0.0240 - acc: 0.9918 - val_loss: 2.2302 - val_acc: 0.5679\n",
      "Epoch 16/100\n",
      "73/75 [============================>.] - ETA: 0s - loss: 0.0297 - acc: 0.9897\n",
      "Epoch 00016: val_acc did not improve from 0.57468\n",
      "75/75 [==============================] - 1s 19ms/step - loss: 0.0296 - acc: 0.9899 - val_loss: 2.3635 - val_acc: 0.5511\n",
      "Epoch 17/100\n",
      "73/75 [============================>.] - ETA: 0s - loss: 0.0311 - acc: 0.9889\n",
      "Epoch 00017: val_acc did not improve from 0.57468\n",
      "75/75 [==============================] - 1s 19ms/step - loss: 0.0310 - acc: 0.9890 - val_loss: 2.4704 - val_acc: 0.5578\n",
      "Epoch 18/100\n",
      "74/75 [============================>.] - ETA: 0s - loss: 0.0324 - acc: 0.9909\n",
      "Epoch 00018: val_acc did not improve from 0.57468\n",
      "75/75 [==============================] - 1s 19ms/step - loss: 0.0327 - acc: 0.9907 - val_loss: 2.5122 - val_acc: 0.5629\n",
      "Epoch 19/100\n",
      "73/75 [============================>.] - ETA: 0s - loss: 0.0361 - acc: 0.9878\n",
      "Epoch 00019: val_acc did not improve from 0.57468\n",
      "75/75 [==============================] - 1s 19ms/step - loss: 0.0362 - acc: 0.9878 - val_loss: 2.4916 - val_acc: 0.5603\n",
      "Epoch 20/100\n",
      "72/75 [===========================>..] - ETA: 0s - loss: 0.0329 - acc: 0.9885\n",
      "Epoch 00020: val_acc improved from 0.57468 to 0.57553, saving model to best_model.h5\n",
      "75/75 [==============================] - 1s 20ms/step - loss: 0.0331 - acc: 0.9882 - val_loss: 2.5643 - val_acc: 0.5755\n",
      "Epoch 21/100\n",
      "73/75 [============================>.] - ETA: 0s - loss: 0.0339 - acc: 0.9891\n",
      "Epoch 00021: val_acc did not improve from 0.57553\n",
      "75/75 [==============================] - 1s 18ms/step - loss: 0.0340 - acc: 0.9890 - val_loss: 2.5280 - val_acc: 0.5586\n",
      "Epoch 22/100\n",
      "74/75 [============================>.] - ETA: 0s - loss: 0.0296 - acc: 0.9905\n",
      "Epoch 00022: val_acc did not improve from 0.57553\n",
      "75/75 [==============================] - 1s 19ms/step - loss: 0.0298 - acc: 0.9905 - val_loss: 2.4753 - val_acc: 0.5738\n",
      "Epoch 23/100\n",
      "74/75 [============================>.] - ETA: 0s - loss: 0.0341 - acc: 0.9888\n",
      "Epoch 00023: val_acc did not improve from 0.57553\n",
      "75/75 [==============================] - 1s 19ms/step - loss: 0.0342 - acc: 0.9888 - val_loss: 2.6276 - val_acc: 0.5603\n",
      "Epoch 24/100\n",
      "73/75 [============================>.] - ETA: 0s - loss: 0.0355 - acc: 0.9876\n",
      "Epoch 00024: val_acc did not improve from 0.57553\n",
      "75/75 [==============================] - 1s 19ms/step - loss: 0.0367 - acc: 0.9869 - val_loss: 2.6600 - val_acc: 0.5662\n",
      "Epoch 00024: early stopping\n",
      "62/62 [==============================] - 1s 12ms/step - loss: 2.6533 - acc: 0.5390\n",
      "테스트 정확도: 0.5390\n"
     ]
    }
   ],
   "source": [
    "test_modelling(x_train, y_train, x_test, y_test)"
   ]
  },
  {
   "cell_type": "markdown",
   "metadata": {},
   "source": [
    "# 모델 구축"
   ]
  },
  {
   "cell_type": "code",
   "execution_count": null,
   "metadata": {
    "ExecuteTime": {
     "start_time": "2021-04-11T13:11:19.315Z"
    }
   },
   "outputs": [
    {
     "name": "stdout",
     "output_type": "stream",
     "text": [
      "Epoch 1/100\n"
     ]
    }
   ],
   "source": [
    "import re\n",
    "from tensorflow.keras.layers import Embedding, Dense, LSTM, Bidirectional, Dropout,BatchNormalization\n",
    "from tensorflow.keras.models import Sequential\n",
    "from tensorflow.keras.models import load_model\n",
    "from tensorflow.keras.callbacks import EarlyStopping, ModelCheckpoint\n",
    "\n",
    "model = Sequential()\n",
    "model.add(Embedding(seq_len, 100))\n",
    "model.add(BatchNormalization())\n",
    "model.add(Dropout(0.5))\n",
    "model.add(Bidirectional(LSTM(100,return_sequences=True)))\n",
    "model.add(BatchNormalization())\n",
    "model.add(Dropout(0.5))\n",
    "model.add(Bidirectional(LSTM(100)))\n",
    "model.add(Dense(3, activation='softmax'))\n",
    "es = EarlyStopping(monitor='val_loss', mode='min', verbose=1, patience=20)\n",
    "mc = ModelCheckpoint('best_model.h5', monitor='val_acc', mode='max', verbose=1, save_best_only=True)\n",
    "model.compile(optimizer='adam', loss='categorical_crossentropy', metrics=['acc'])\n",
    "history = model.fit(x_train, y_train, epochs=100, callbacks=[es,mc], batch_size=64, validation_split=0.2)\n",
    "loaded_model = load_model('best_model.h5')\n",
    "print(\"테스트 정확도: %.4f\" % (loaded_model.evaluate(x_test, y_test)[1]))"
   ]
  },
  {
   "cell_type": "markdown",
   "metadata": {},
   "source": [
    "### 1-D CNN"
   ]
  },
  {
   "cell_type": "code",
   "execution_count": 55,
   "metadata": {
    "ExecuteTime": {
     "end_time": "2021-04-09T00:16:54.304216Z",
     "start_time": "2021-04-09T00:16:54.212462Z"
    }
   },
   "outputs": [],
   "source": [
    "from tensorflow.keras.models import Sequential\n",
    "from tensorflow.keras.layers import Embedding, Dropout, Conv1D, GlobalMaxPooling1D, Dense\n",
    "from tensorflow.keras.callbacks import EarlyStopping, ModelCheckpoint\n",
    "from tensorflow.keras.models import load_model\n",
    "\n",
    "model = Sequential()\n",
    "model.add(Embedding(vocab_size, 256))\n",
    "model.add(Dropout(0.3))\n",
    "model.add(Conv1D(256, 3, padding='valid', activation='relu'))\n",
    "model.add(GlobalMaxPooling1D())\n",
    "model.add(Dense(128, activation='relu'))\n",
    "model.add(Dropout(0.5))\n",
    "model.add(Dense(3, activation='softmax'))"
   ]
  },
  {
   "cell_type": "code",
   "execution_count": 56,
   "metadata": {
    "ExecuteTime": {
     "end_time": "2021-04-09T00:16:54.985394Z",
     "start_time": "2021-04-09T00:16:54.978418Z"
    }
   },
   "outputs": [],
   "source": [
    "es = EarlyStopping(monitor='val_loss', mode='min', verbose=1, patience=20)\n",
    "mc = ModelCheckpoint('best_model.h5', monitor='val_acc', mode='max', verbose=1, save_best_only=True)"
   ]
  },
  {
   "cell_type": "code",
   "execution_count": 57,
   "metadata": {
    "ExecuteTime": {
     "end_time": "2021-04-09T00:26:12.985968Z",
     "start_time": "2021-04-09T00:16:55.510987Z"
    },
    "scrolled": true
   },
   "outputs": [
    {
     "name": "stdout",
     "output_type": "stream",
     "text": [
      "Epoch 1/100\n",
      "75/75 [==============================] - ETA: 0s - loss: 1.0745 - acc: 0.4433\n",
      "Epoch 00001: val_acc improved from -inf to 0.43713, saving model to best_model.h5\n",
      "75/75 [==============================] - 5s 61ms/step - loss: 1.0745 - acc: 0.4433 - val_loss: 1.0737 - val_acc: 0.4371\n",
      "Epoch 2/100\n",
      "74/75 [============================>.] - ETA: 0s - loss: 1.0708 - acc: 0.4470\n",
      "Epoch 00002: val_acc did not improve from 0.43713\n",
      "75/75 [==============================] - 6s 80ms/step - loss: 1.0708 - acc: 0.4469 - val_loss: 1.0788 - val_acc: 0.4371\n",
      "Epoch 3/100\n",
      "74/75 [============================>.] - ETA: 0s - loss: 1.0684 - acc: 0.4470\n",
      "Epoch 00003: val_acc did not improve from 0.43713\n",
      "75/75 [==============================] - 5s 73ms/step - loss: 1.0683 - acc: 0.4471 - val_loss: 1.0725 - val_acc: 0.4371\n",
      "Epoch 4/100\n",
      "74/75 [============================>.] - ETA: 0s - loss: 1.0696 - acc: 0.4468\n",
      "Epoch 00004: val_acc did not improve from 0.43713\n",
      "75/75 [==============================] - 4s 56ms/step - loss: 1.0695 - acc: 0.4469 - val_loss: 1.0705 - val_acc: 0.4371\n",
      "Epoch 5/100\n",
      "74/75 [============================>.] - ETA: 0s - loss: 1.0725 - acc: 0.4468\n",
      "Epoch 00005: val_acc did not improve from 0.43713\n",
      "75/75 [==============================] - 7s 87ms/step - loss: 1.0724 - acc: 0.4469 - val_loss: 1.0712 - val_acc: 0.4371\n",
      "Epoch 6/100\n",
      "74/75 [============================>.] - ETA: 0s - loss: 1.0728 - acc: 0.4468\n",
      "Epoch 00006: val_acc did not improve from 0.43713\n",
      "75/75 [==============================] - 4s 59ms/step - loss: 1.0728 - acc: 0.4469 - val_loss: 1.0719 - val_acc: 0.4371\n",
      "Epoch 7/100\n",
      "74/75 [============================>.] - ETA: 0s - loss: 1.0693 - acc: 0.4470\n",
      "Epoch 00007: val_acc did not improve from 0.43713\n",
      "75/75 [==============================] - 5s 73ms/step - loss: 1.0694 - acc: 0.4469 - val_loss: 1.0717 - val_acc: 0.4371\n",
      "Epoch 8/100\n",
      "74/75 [============================>.] - ETA: 0s - loss: 1.0711 - acc: 0.4468\n",
      "Epoch 00008: val_acc did not improve from 0.43713\n",
      "75/75 [==============================] - 5s 69ms/step - loss: 1.0710 - acc: 0.4469 - val_loss: 1.0710 - val_acc: 0.4371\n",
      "Epoch 9/100\n",
      "74/75 [============================>.] - ETA: 0s - loss: 1.0692 - acc: 0.4468\n",
      "Epoch 00009: val_acc did not improve from 0.43713\n",
      "75/75 [==============================] - 5s 61ms/step - loss: 1.0692 - acc: 0.4469 - val_loss: 1.0704 - val_acc: 0.4371\n",
      "Epoch 10/100\n",
      "74/75 [============================>.] - ETA: 0s - loss: 1.0707 - acc: 0.4468\n",
      "Epoch 00010: val_acc did not improve from 0.43713\n",
      "75/75 [==============================] - 7s 91ms/step - loss: 1.0707 - acc: 0.4469 - val_loss: 1.0704 - val_acc: 0.4371\n",
      "Epoch 11/100\n",
      "74/75 [============================>.] - ETA: 0s - loss: 1.0685 - acc: 0.4470\n",
      "Epoch 00011: val_acc did not improve from 0.43713\n",
      "75/75 [==============================] - 4s 59ms/step - loss: 1.0685 - acc: 0.4469 - val_loss: 1.0708 - val_acc: 0.4371\n",
      "Epoch 12/100\n",
      "74/75 [============================>.] - ETA: 0s - loss: 1.0677 - acc: 0.4470\n",
      "Epoch 00012: val_acc did not improve from 0.43713\n",
      "75/75 [==============================] - 6s 80ms/step - loss: 1.0677 - acc: 0.4469 - val_loss: 1.0722 - val_acc: 0.4371\n",
      "Epoch 13/100\n",
      "74/75 [============================>.] - ETA: 0s - loss: 1.0687 - acc: 0.4468\n",
      "Epoch 00013: val_acc did not improve from 0.43713\n",
      "75/75 [==============================] - 5s 69ms/step - loss: 1.0686 - acc: 0.4469 - val_loss: 1.0702 - val_acc: 0.4371\n",
      "Epoch 14/100\n",
      "74/75 [============================>.] - ETA: 0s - loss: 1.0663 - acc: 0.4470\n",
      "Epoch 00014: val_acc did not improve from 0.43713\n",
      "75/75 [==============================] - 4s 57ms/step - loss: 1.0663 - acc: 0.4469 - val_loss: 1.0714 - val_acc: 0.4371\n",
      "Epoch 15/100\n",
      "74/75 [============================>.] - ETA: 0s - loss: 1.0668 - acc: 0.4470\n",
      "Epoch 00015: val_acc did not improve from 0.43713\n",
      "75/75 [==============================] - 7s 91ms/step - loss: 1.0669 - acc: 0.4469 - val_loss: 1.0699 - val_acc: 0.4371\n",
      "Epoch 16/100\n",
      "74/75 [============================>.] - ETA: 0s - loss: 1.0681 - acc: 0.4470\n",
      "Epoch 00016: val_acc did not improve from 0.43713\n",
      "75/75 [==============================] - 4s 59ms/step - loss: 1.0682 - acc: 0.4469 - val_loss: 1.0702 - val_acc: 0.4371\n",
      "Epoch 17/100\n",
      "74/75 [============================>.] - ETA: 0s - loss: 1.0677 - acc: 0.4468\n",
      "Epoch 00017: val_acc did not improve from 0.43713\n",
      "75/75 [==============================] - 6s 78ms/step - loss: 1.0677 - acc: 0.4469 - val_loss: 1.0704 - val_acc: 0.4371\n",
      "Epoch 18/100\n",
      "75/75 [==============================] - ETA: 0s - loss: 1.0670 - acc: 0.4469\n",
      "Epoch 00018: val_acc did not improve from 0.43713\n",
      "75/75 [==============================] - 5s 67ms/step - loss: 1.0670 - acc: 0.4469 - val_loss: 1.0703 - val_acc: 0.4371\n",
      "Epoch 19/100\n",
      "74/75 [============================>.] - ETA: 0s - loss: 1.0672 - acc: 0.4470\n",
      "Epoch 00019: val_acc did not improve from 0.43713\n",
      "75/75 [==============================] - 5s 62ms/step - loss: 1.0672 - acc: 0.4469 - val_loss: 1.0705 - val_acc: 0.4371\n",
      "Epoch 20/100\n",
      "74/75 [============================>.] - ETA: 0s - loss: 1.0676 - acc: 0.4470- ETA: 1s - loss: 1.0658 - \n",
      "Epoch 00020: val_acc did not improve from 0.43713\n",
      "75/75 [==============================] - 6s 84ms/step - loss: 1.0676 - acc: 0.4469 - val_loss: 1.0704 - val_acc: 0.4371\n",
      "Epoch 21/100\n",
      "74/75 [============================>.] - ETA: 0s - loss: 1.0679 - acc: 0.4470\n",
      "Epoch 00021: val_acc did not improve from 0.43713\n",
      "75/75 [==============================] - 4s 54ms/step - loss: 1.0679 - acc: 0.4469 - val_loss: 1.0700 - val_acc: 0.4371\n",
      "Epoch 22/100\n",
      "74/75 [============================>.] - ETA: 0s - loss: 1.0674 - acc: 0.4470\n",
      "Epoch 00022: val_acc did not improve from 0.43713\n",
      "75/75 [==============================] - 7s 92ms/step - loss: 1.0674 - acc: 0.4469 - val_loss: 1.0708 - val_acc: 0.4371\n",
      "Epoch 23/100\n",
      "74/75 [============================>.] - ETA: 0s - loss: 1.0679 - acc: 0.4468\n",
      "Epoch 00023: val_acc did not improve from 0.43713\n",
      "75/75 [==============================] - 4s 60ms/step - loss: 1.0678 - acc: 0.4469 - val_loss: 1.0703 - val_acc: 0.4371\n",
      "Epoch 24/100\n",
      "74/75 [============================>.] - ETA: 0s - loss: 1.0674 - acc: 0.4470- ETA: 2s - loss\n",
      "Epoch 00024: val_acc did not improve from 0.43713\n",
      "75/75 [==============================] - 7s 96ms/step - loss: 1.0674 - acc: 0.4469 - val_loss: 1.0702 - val_acc: 0.4371\n",
      "Epoch 25/100\n",
      "74/75 [============================>.] - ETA: 0s - loss: 1.0678 - acc: 0.4468- ETA: 0s - loss: 1.0669 - acc: 0.\n",
      "Epoch 00025: val_acc did not improve from 0.43713\n",
      "75/75 [==============================] - 5s 62ms/step - loss: 1.0677 - acc: 0.4469 - val_loss: 1.0700 - val_acc: 0.4371\n",
      "Epoch 26/100\n",
      "74/75 [============================>.] - ETA: 0s - loss: 1.0674 - acc: 0.4470- ETA: 2s - loss: 1.0669 - acc: 0. - ETA: 2s - \n",
      "Epoch 00026: val_acc did not improve from 0.43713\n",
      "75/75 [==============================] - 7s 91ms/step - loss: 1.0674 - acc: 0.4469 - val_loss: 1.0700 - val_acc: 0.4371\n",
      "Epoch 27/100\n",
      "74/75 [============================>.] - ETA: 0s - loss: 1.0669 - acc: 0.4468\n",
      "Epoch 00027: val_acc did not improve from 0.43713\n",
      "75/75 [==============================] - 4s 55ms/step - loss: 1.0668 - acc: 0.4469 - val_loss: 1.0699 - val_acc: 0.4371\n",
      "Epoch 28/100\n",
      "74/75 [============================>.] - ETA: 0s - loss: 1.0676 - acc: 0.4470\n",
      "Epoch 00028: val_acc did not improve from 0.43713\n",
      "75/75 [==============================] - 7s 91ms/step - loss: 1.0676 - acc: 0.4469 - val_loss: 1.0699 - val_acc: 0.4371\n",
      "Epoch 29/100\n",
      "75/75 [==============================] - ETA: 0s - loss: 1.0681 - acc: 0.4469\n",
      "Epoch 00029: val_acc did not improve from 0.43713\n",
      "75/75 [==============================] - 5s 68ms/step - loss: 1.0681 - acc: 0.4469 - val_loss: 1.0699 - val_acc: 0.4371\n",
      "Epoch 30/100\n",
      "74/75 [============================>.] - ETA: 0s - loss: 1.0676 - acc: 0.4468\n",
      "Epoch 00030: val_acc did not improve from 0.43713\n",
      "75/75 [==============================] - 7s 88ms/step - loss: 1.0675 - acc: 0.4469 - val_loss: 1.0705 - val_acc: 0.4371\n",
      "Epoch 31/100\n",
      "74/75 [============================>.] - ETA: 0s - loss: 1.0682 - acc: 0.4468\n",
      "Epoch 00031: val_acc did not improve from 0.43713\n",
      "75/75 [==============================] - 6s 76ms/step - loss: 1.0681 - acc: 0.4469 - val_loss: 1.0700 - val_acc: 0.4371\n"
     ]
    },
    {
     "name": "stdout",
     "output_type": "stream",
     "text": [
      "Epoch 32/100\n",
      "74/75 [============================>.] - ETA: 0s - loss: 1.0671 - acc: 0.4468- ETA: 1s - loss:\n",
      "Epoch 00032: val_acc did not improve from 0.43713\n",
      "75/75 [==============================] - 6s 74ms/step - loss: 1.0670 - acc: 0.4469 - val_loss: 1.0700 - val_acc: 0.4371\n",
      "Epoch 33/100\n",
      "74/75 [============================>.] - ETA: 0s - loss: 1.0670 - acc: 0.4468\n",
      "Epoch 00033: val_acc did not improve from 0.43713\n",
      "75/75 [==============================] - 5s 73ms/step - loss: 1.0669 - acc: 0.4469 - val_loss: 1.0702 - val_acc: 0.4371\n",
      "Epoch 34/100\n",
      "74/75 [============================>.] - ETA: 0s - loss: 1.0665 - acc: 0.4470\n",
      "Epoch 00034: val_acc did not improve from 0.43713\n",
      "75/75 [==============================] - 4s 56ms/step - loss: 1.0665 - acc: 0.4469 - val_loss: 1.0701 - val_acc: 0.4371\n",
      "Epoch 35/100\n",
      "74/75 [============================>.] - ETA: 0s - loss: 1.0674 - acc: 0.4470\n",
      "Epoch 00035: val_acc did not improve from 0.43713\n",
      "75/75 [==============================] - 7s 90ms/step - loss: 1.0674 - acc: 0.4469 - val_loss: 1.0700 - val_acc: 0.4371\n",
      "Epoch 36/100\n",
      "74/75 [============================>.] - ETA: 0s - loss: 1.0663 - acc: 0.4468\n",
      "Epoch 00036: val_acc did not improve from 0.43713\n",
      "75/75 [==============================] - 5s 64ms/step - loss: 1.0663 - acc: 0.4469 - val_loss: 1.0718 - val_acc: 0.4371\n",
      "Epoch 37/100\n",
      "74/75 [============================>.] - ETA: 0s - loss: 1.0679 - acc: 0.4470\n",
      "Epoch 00037: val_acc did not improve from 0.43713\n",
      "75/75 [==============================] - 6s 85ms/step - loss: 1.0679 - acc: 0.4469 - val_loss: 1.0703 - val_acc: 0.4371\n",
      "Epoch 38/100\n",
      "74/75 [============================>.] - ETA: 0s - loss: 1.0663 - acc: 0.4470- ETA: 4s - l - ETA:\n",
      "Epoch 00038: val_acc did not improve from 0.43713\n",
      "75/75 [==============================] - 5s 69ms/step - loss: 1.0664 - acc: 0.4469 - val_loss: 1.0699 - val_acc: 0.4371\n",
      "Epoch 39/100\n",
      "74/75 [============================>.] - ETA: 0s - loss: 1.0672 - acc: 0.4468\n",
      "Epoch 00039: val_acc did not improve from 0.43713\n",
      "75/75 [==============================] - 6s 81ms/step - loss: 1.0671 - acc: 0.4469 - val_loss: 1.0701 - val_acc: 0.4371\n",
      "Epoch 40/100\n",
      "74/75 [============================>.] - ETA: 0s - loss: 1.0671 - acc: 0.4468\n",
      "Epoch 00040: val_acc did not improve from 0.43713\n",
      "75/75 [==============================] - 6s 75ms/step - loss: 1.0671 - acc: 0.4469 - val_loss: 1.0702 - val_acc: 0.4371\n",
      "Epoch 41/100\n",
      "74/75 [============================>.] - ETA: 0s - loss: 1.0678 - acc: 0.4470\n",
      "Epoch 00041: val_acc did not improve from 0.43713\n",
      "75/75 [==============================] - 6s 75ms/step - loss: 1.0679 - acc: 0.4469 - val_loss: 1.0702 - val_acc: 0.4371\n",
      "Epoch 42/100\n",
      "74/75 [============================>.] - ETA: 0s - loss: 1.0677 - acc: 0.4468\n",
      "Epoch 00042: val_acc did not improve from 0.43713\n",
      "75/75 [==============================] - 6s 82ms/step - loss: 1.0676 - acc: 0.4469 - val_loss: 1.0701 - val_acc: 0.4371\n",
      "Epoch 43/100\n",
      "74/75 [============================>.] - ETA: 0s - loss: 1.0668 - acc: 0.4470\n",
      "Epoch 00043: val_acc did not improve from 0.43713\n",
      "75/75 [==============================] - 4s 55ms/step - loss: 1.0668 - acc: 0.4469 - val_loss: 1.0702 - val_acc: 0.4371\n",
      "Epoch 44/100\n",
      "74/75 [============================>.] - ETA: 0s - loss: 1.0670 - acc: 0.4468\n",
      "Epoch 00044: val_acc did not improve from 0.43713\n",
      "75/75 [==============================] - 7s 89ms/step - loss: 1.0670 - acc: 0.4469 - val_loss: 1.0701 - val_acc: 0.4371\n",
      "Epoch 45/100\n",
      "74/75 [============================>.] - ETA: 0s - loss: 1.0669 - acc: 0.4468\n",
      "Epoch 00045: val_acc did not improve from 0.43713\n",
      "75/75 [==============================] - 4s 57ms/step - loss: 1.0668 - acc: 0.4469 - val_loss: 1.0703 - val_acc: 0.4371\n",
      "Epoch 46/100\n",
      "74/75 [============================>.] - ETA: 0s - loss: 1.0671 - acc: 0.4468\n",
      "Epoch 00046: val_acc did not improve from 0.43713\n",
      "75/75 [==============================] - 7s 88ms/step - loss: 1.0671 - acc: 0.4469 - val_loss: 1.0701 - val_acc: 0.4371\n",
      "Epoch 47/100\n",
      "74/75 [============================>.] - ETA: 0s - loss: 1.0669 - acc: 0.4468\n",
      "Epoch 00047: val_acc did not improve from 0.43713\n",
      "75/75 [==============================] - 5s 72ms/step - loss: 1.0669 - acc: 0.4469 - val_loss: 1.0702 - val_acc: 0.4371\n",
      "Epoch 48/100\n",
      "74/75 [============================>.] - ETA: 0s - loss: 1.0667 - acc: 0.4470\n",
      "Epoch 00048: val_acc did not improve from 0.43713\n",
      "75/75 [==============================] - 6s 77ms/step - loss: 1.0667 - acc: 0.4469 - val_loss: 1.0702 - val_acc: 0.4371\n",
      "Epoch 49/100\n",
      "74/75 [============================>.] - ETA: 0s - loss: 1.0660 - acc: 0.4470\n",
      "Epoch 00049: val_acc did not improve from 0.43713\n",
      "75/75 [==============================] - 6s 77ms/step - loss: 1.0661 - acc: 0.4469 - val_loss: 1.0700 - val_acc: 0.4371\n",
      "Epoch 50/100\n",
      "74/75 [============================>.] - ETA: 0s - loss: 1.0664 - acc: 0.4468- ETA: 3s - ETA: 1s -\n",
      "Epoch 00050: val_acc did not improve from 0.43713\n",
      "75/75 [==============================] - 5s 73ms/step - loss: 1.0663 - acc: 0.4469 - val_loss: 1.0701 - val_acc: 0.4371\n",
      "Epoch 51/100\n",
      "74/75 [============================>.] - ETA: 0s - loss: 1.0665 - acc: 0.4470\n",
      "Epoch 00051: val_acc did not improve from 0.43713\n",
      "75/75 [==============================] - 6s 80ms/step - loss: 1.0665 - acc: 0.4469 - val_loss: 1.0702 - val_acc: 0.4371\n",
      "Epoch 52/100\n",
      "74/75 [============================>.] - ETA: 0s - loss: 1.0666 - acc: 0.4470\n",
      "Epoch 00052: val_acc did not improve from 0.43713\n",
      "75/75 [==============================] - 5s 62ms/step - loss: 1.0666 - acc: 0.4469 - val_loss: 1.0700 - val_acc: 0.4371\n",
      "Epoch 53/100\n",
      "75/75 [==============================] - ETA: 0s - loss: 1.0670 - acc: 0.4469\n",
      "Epoch 00053: val_acc did not improve from 0.43713\n",
      "75/75 [==============================] - 6s 80ms/step - loss: 1.0670 - acc: 0.4469 - val_loss: 1.0699 - val_acc: 0.4371\n",
      "Epoch 54/100\n",
      "74/75 [============================>.] - ETA: 0s - loss: 1.0671 - acc: 0.4468\n",
      "Epoch 00054: val_acc did not improve from 0.43713\n",
      "75/75 [==============================] - 4s 59ms/step - loss: 1.0671 - acc: 0.4469 - val_loss: 1.0699 - val_acc: 0.4371\n",
      "Epoch 55/100\n",
      "74/75 [============================>.] - ETA: 0s - loss: 1.0672 - acc: 0.4468\n",
      "Epoch 00055: val_acc did not improve from 0.43713\n",
      "75/75 [==============================] - 7s 91ms/step - loss: 1.0671 - acc: 0.4469 - val_loss: 1.0700 - val_acc: 0.4371\n",
      "Epoch 56/100\n",
      "74/75 [============================>.] - ETA: 0s - loss: 1.0667 - acc: 0.4468\n",
      "Epoch 00056: val_acc did not improve from 0.43713\n",
      "75/75 [==============================] - 4s 59ms/step - loss: 1.0666 - acc: 0.4469 - val_loss: 1.0702 - val_acc: 0.4371\n",
      "Epoch 57/100\n",
      "74/75 [============================>.] - ETA: 0s - loss: 1.0662 - acc: 0.4468\n",
      "Epoch 00057: val_acc did not improve from 0.43713\n",
      "75/75 [==============================] - 5s 70ms/step - loss: 1.0662 - acc: 0.4469 - val_loss: 1.0704 - val_acc: 0.4371\n",
      "Epoch 58/100\n",
      "74/75 [============================>.] - ETA: 0s - loss: 1.0662 - acc: 0.4468\n",
      "Epoch 00058: val_acc did not improve from 0.43713\n",
      "75/75 [==============================] - 6s 81ms/step - loss: 1.0662 - acc: 0.4469 - val_loss: 1.0704 - val_acc: 0.4371\n",
      "Epoch 59/100\n",
      "74/75 [============================>.] - ETA: 0s - loss: 1.0669 - acc: 0.4470\n",
      "Epoch 00059: val_acc did not improve from 0.43713\n",
      "75/75 [==============================] - 4s 58ms/step - loss: 1.0670 - acc: 0.4469 - val_loss: 1.0702 - val_acc: 0.4371\n",
      "Epoch 60/100\n",
      "74/75 [============================>.] - ETA: 0s - loss: 1.0667 - acc: 0.4468\n",
      "Epoch 00060: val_acc did not improve from 0.43713\n",
      "75/75 [==============================] - 7s 97ms/step - loss: 1.0667 - acc: 0.4469 - val_loss: 1.0701 - val_acc: 0.4371\n",
      "Epoch 61/100\n",
      "74/75 [============================>.] - ETA: 0s - loss: 1.0664 - acc: 0.4470\n",
      "Epoch 00061: val_acc did not improve from 0.43713\n",
      "75/75 [==============================] - 4s 59ms/step - loss: 1.0665 - acc: 0.4469 - val_loss: 1.0702 - val_acc: 0.4371\n",
      "Epoch 62/100\n",
      "74/75 [============================>.] - ETA: 0s - loss: 1.0665 - acc: 0.4470\n",
      "Epoch 00062: val_acc did not improve from 0.43713\n",
      "75/75 [==============================] - 6s 80ms/step - loss: 1.0666 - acc: 0.4469 - val_loss: 1.0700 - val_acc: 0.4371\n",
      "Epoch 63/100\n",
      "74/75 [============================>.] - ETA: 0s - loss: 1.0670 - acc: 0.4468\n",
      "Epoch 00063: val_acc did not improve from 0.43713\n",
      "75/75 [==============================] - 5s 72ms/step - loss: 1.0669 - acc: 0.4469 - val_loss: 1.0701 - val_acc: 0.4371\n",
      "Epoch 64/100\n",
      "74/75 [============================>.] - ETA: 0s - loss: 1.0659 - acc: 0.4470\n",
      "Epoch 00064: val_acc did not improve from 0.43713\n",
      "75/75 [==============================] - 5s 62ms/step - loss: 1.0659 - acc: 0.4469 - val_loss: 1.0702 - val_acc: 0.4371\n",
      "Epoch 65/100\n",
      "74/75 [============================>.] - ETA: 0s - loss: 1.0663 - acc: 0.4470\n",
      "Epoch 00065: val_acc did not improve from 0.43713\n",
      "75/75 [==============================] - 7s 98ms/step - loss: 1.0663 - acc: 0.4469 - val_loss: 1.0701 - val_acc: 0.4371\n",
      "Epoch 66/100\n",
      "74/75 [============================>.] - ETA: 0s - loss: 1.0664 - acc: 0.4470\n",
      "Epoch 00066: val_acc did not improve from 0.43713\n",
      "75/75 [==============================] - 5s 69ms/step - loss: 1.0664 - acc: 0.4469 - val_loss: 1.0700 - val_acc: 0.4371\n",
      "Epoch 67/100\n",
      "74/75 [============================>.] - ETA: 0s - loss: 1.0661 - acc: 0.4470\n",
      "Epoch 00067: val_acc did not improve from 0.43713\n",
      "75/75 [==============================] - 7s 99ms/step - loss: 1.0661 - acc: 0.4469 - val_loss: 1.0700 - val_acc: 0.4371\n",
      "Epoch 68/100\n",
      "74/75 [============================>.] - ETA: 0s - loss: 1.0665 - acc: 0.4470\n",
      "Epoch 00068: val_acc did not improve from 0.43713\n",
      "75/75 [==============================] - 4s 60ms/step - loss: 1.0665 - acc: 0.4469 - val_loss: 1.0700 - val_acc: 0.4371\n",
      "Epoch 69/100\n",
      "74/75 [============================>.] - ETA: 0s - loss: 1.0670 - acc: 0.4468\n",
      "Epoch 00069: val_acc did not improve from 0.43713\n",
      "75/75 [==============================] - 6s 82ms/step - loss: 1.0670 - acc: 0.4469 - val_loss: 1.0701 - val_acc: 0.4371\n",
      "Epoch 70/100\n",
      "74/75 [============================>.] - ETA: 0s - loss: 1.0664 - acc: 0.4468\n",
      "Epoch 00070: val_acc did not improve from 0.43713\n",
      "75/75 [==============================] - 6s 83ms/step - loss: 1.0663 - acc: 0.4469 - val_loss: 1.0702 - val_acc: 0.4371\n",
      "Epoch 71/100\n",
      "74/75 [============================>.] - ETA: 0s - loss: 1.0663 - acc: 0.4468\n",
      "Epoch 00071: val_acc did not improve from 0.43713\n",
      "75/75 [==============================] - 5s 61ms/step - loss: 1.0662 - acc: 0.4469 - val_loss: 1.0703 - val_acc: 0.4371\n",
      "Epoch 72/100\n",
      "74/75 [============================>.] - ETA: 0s - loss: 1.0673 - acc: 0.4470\n",
      "Epoch 00072: val_acc did not improve from 0.43713\n",
      "75/75 [==============================] - 7s 98ms/step - loss: 1.0673 - acc: 0.4469 - val_loss: 1.0702 - val_acc: 0.4371\n",
      "Epoch 73/100\n",
      "74/75 [============================>.] - ETA: 0s - loss: 1.0669 - acc: 0.4470\n",
      "Epoch 00073: val_acc did not improve from 0.43713\n",
      "75/75 [==============================] - 5s 61ms/step - loss: 1.0669 - acc: 0.4469 - val_loss: 1.0700 - val_acc: 0.4371\n",
      "Epoch 74/100\n",
      "74/75 [============================>.] - ETA: 0s - loss: 1.0669 - acc: 0.4468- ETA: 0s - loss: 1.0667 - acc:\n",
      "Epoch 00074: val_acc did not improve from 0.43713\n",
      "75/75 [==============================] - 7s 89ms/step - loss: 1.0669 - acc: 0.4469 - val_loss: 1.0699 - val_acc: 0.4371\n",
      "Epoch 75/100\n",
      "74/75 [============================>.] - ETA: 0s - loss: 1.0664 - acc: 0.4470\n",
      "Epoch 00075: val_acc did not improve from 0.43713\n",
      "75/75 [==============================] - 5s 61ms/step - loss: 1.0664 - acc: 0.4469 - val_loss: 1.0700 - val_acc: 0.4371\n",
      "Epoch 76/100\n",
      "74/75 [============================>.] - ETA: 0s - loss: 1.0674 - acc: 0.4470\n",
      "Epoch 00076: val_acc did not improve from 0.43713\n",
      "75/75 [==============================] - 5s 68ms/step - loss: 1.0674 - acc: 0.4469 - val_loss: 1.0700 - val_acc: 0.4371\n",
      "Epoch 77/100\n",
      "74/75 [============================>.] - ETA: 0s - loss: 1.0674 - acc: 0.4468\n",
      "Epoch 00077: val_acc did not improve from 0.43713\n",
      "75/75 [==============================] - 5s 71ms/step - loss: 1.0674 - acc: 0.4469 - val_loss: 1.0699 - val_acc: 0.4371\n",
      "Epoch 78/100\n",
      "74/75 [============================>.] - ETA: 0s - loss: 1.0668 - acc: 0.4468\n",
      "Epoch 00078: val_acc did not improve from 0.43713\n",
      "75/75 [==============================] - 4s 53ms/step - loss: 1.0667 - acc: 0.4469 - val_loss: 1.0700 - val_acc: 0.4371\n",
      "Epoch 79/100\n",
      "74/75 [============================>.] - ETA: 0s - loss: 1.0665 - acc: 0.4470- ETA: 1s - loss: 1.0665 - \n",
      "Epoch 00079: val_acc did not improve from 0.43713\n",
      "75/75 [==============================] - 7s 93ms/step - loss: 1.0665 - acc: 0.4469 - val_loss: 1.0700 - val_acc: 0.4371\n",
      "Epoch 80/100\n",
      "74/75 [============================>.] - ETA: 0s - loss: 1.0668 - acc: 0.4468\n",
      "Epoch 00080: val_acc did not improve from 0.43713\n",
      "75/75 [==============================] - 5s 60ms/step - loss: 1.0668 - acc: 0.4469 - val_loss: 1.0700 - val_acc: 0.4371\n",
      "Epoch 81/100\n",
      "74/75 [============================>.] - ETA: 0s - loss: 1.0663 - acc: 0.4468\n",
      "Epoch 00081: val_acc did not improve from 0.43713\n",
      "75/75 [==============================] - 6s 79ms/step - loss: 1.0663 - acc: 0.4469 - val_loss: 1.0701 - val_acc: 0.4371\n",
      "Epoch 82/100\n",
      "74/75 [============================>.] - ETA: 0s - loss: 1.0668 - acc: 0.4468\n",
      "Epoch 00082: val_acc did not improve from 0.43713\n",
      "75/75 [==============================] - 5s 72ms/step - loss: 1.0667 - acc: 0.4469 - val_loss: 1.0702 - val_acc: 0.4371\n",
      "Epoch 83/100\n",
      "74/75 [============================>.] - ETA: 0s - loss: 1.0665 - acc: 0.4470- ETA: 3s - loss: 1\n",
      "Epoch 00083: val_acc did not improve from 0.43713\n",
      "75/75 [==============================] - 4s 59ms/step - loss: 1.0665 - acc: 0.4469 - val_loss: 1.0702 - val_acc: 0.4371\n",
      "Epoch 84/100\n",
      "74/75 [============================>.] - ETA: 0s - loss: 1.0668 - acc: 0.4468\n",
      "Epoch 00084: val_acc did not improve from 0.43713\n",
      "75/75 [==============================] - 7s 92ms/step - loss: 1.0667 - acc: 0.4469 - val_loss: 1.0703 - val_acc: 0.4371\n",
      "Epoch 85/100\n",
      "74/75 [============================>.] - ETA: 0s - loss: 1.0664 - acc: 0.4470\n",
      "Epoch 00085: val_acc did not improve from 0.43713\n",
      "75/75 [==============================] - 5s 63ms/step - loss: 1.0665 - acc: 0.4469 - val_loss: 1.0703 - val_acc: 0.4371\n",
      "Epoch 86/100\n",
      "74/75 [============================>.] - ETA: 0s - loss: 1.0666 - acc: 0.4468\n",
      "Epoch 00086: val_acc did not improve from 0.43713\n",
      "75/75 [==============================] - 7s 89ms/step - loss: 1.0665 - acc: 0.4469 - val_loss: 1.0702 - val_acc: 0.4371\n",
      "Epoch 87/100\n",
      "74/75 [============================>.] - ETA: 0s - loss: 1.0668 - acc: 0.4468\n",
      "Epoch 00087: val_acc did not improve from 0.43713\n",
      "75/75 [==============================] - 5s 66ms/step - loss: 1.0667 - acc: 0.4469 - val_loss: 1.0701 - val_acc: 0.4371\n",
      "Epoch 88/100\n",
      "74/75 [============================>.] - ETA: 0s - loss: 1.0664 - acc: 0.4470\n",
      "Epoch 00088: val_acc did not improve from 0.43713\n",
      "75/75 [==============================] - 4s 59ms/step - loss: 1.0664 - acc: 0.4469 - val_loss: 1.0702 - val_acc: 0.4371\n",
      "Epoch 89/100\n",
      "74/75 [============================>.] - ETA: 0s - loss: 1.0665 - acc: 0.4470\n",
      "Epoch 00089: val_acc did not improve from 0.43713\n",
      "75/75 [==============================] - 7s 92ms/step - loss: 1.0665 - acc: 0.4469 - val_loss: 1.0700 - val_acc: 0.4371\n",
      "Epoch 90/100\n",
      "74/75 [============================>.] - ETA: 0s - loss: 1.0665 - acc: 0.4470\n",
      "Epoch 00090: val_acc did not improve from 0.43713\n",
      "75/75 [==============================] - 4s 58ms/step - loss: 1.0666 - acc: 0.4469 - val_loss: 1.0700 - val_acc: 0.4371\n",
      "Epoch 91/100\n",
      "74/75 [============================>.] - ETA: 0s - loss: 1.0666 - acc: 0.4470\n",
      "Epoch 00091: val_acc did not improve from 0.43713\n",
      "75/75 [==============================] - 7s 87ms/step - loss: 1.0666 - acc: 0.4469 - val_loss: 1.0701 - val_acc: 0.4371\n",
      "Epoch 92/100\n",
      "74/75 [============================>.] - ETA: 0s - loss: 1.0666 - acc: 0.4468-  - ETA: 1s -\n",
      "Epoch 00092: val_acc did not improve from 0.43713\n",
      "75/75 [==============================] - 5s 68ms/step - loss: 1.0666 - acc: 0.4469 - val_loss: 1.0699 - val_acc: 0.4371\n",
      "Epoch 93/100\n",
      "74/75 [============================>.] - ETA: 0s - loss: 1.0664 - acc: 0.4468\n",
      "Epoch 00093: val_acc did not improve from 0.43713\n",
      "75/75 [==============================] - 4s 58ms/step - loss: 1.0663 - acc: 0.4469 - val_loss: 1.0702 - val_acc: 0.4371\n",
      "Epoch 94/100\n"
     ]
    },
    {
     "name": "stdout",
     "output_type": "stream",
     "text": [
      "74/75 [============================>.] - ETA: 0s - loss: 1.0668 - acc: 0.4468\n",
      "Epoch 00094: val_acc did not improve from 0.43713\n",
      "75/75 [==============================] - 7s 95ms/step - loss: 1.0667 - acc: 0.4469 - val_loss: 1.0701 - val_acc: 0.4371\n",
      "Epoch 95/100\n",
      "74/75 [============================>.] - ETA: 0s - loss: 1.0665 - acc: 0.4468\n",
      "Epoch 00095: val_acc did not improve from 0.43713\n",
      "75/75 [==============================] - 4s 58ms/step - loss: 1.0665 - acc: 0.4469 - val_loss: 1.0702 - val_acc: 0.4371\n",
      "Epoch 96/100\n",
      "74/75 [============================>.] - ETA: 0s - loss: 1.0665 - acc: 0.4470\n",
      "Epoch 00096: val_acc did not improve from 0.43713\n",
      "75/75 [==============================] - 6s 77ms/step - loss: 1.0665 - acc: 0.4469 - val_loss: 1.0702 - val_acc: 0.4371\n",
      "Epoch 97/100\n",
      "74/75 [============================>.] - ETA: 0s - loss: 1.0663 - acc: 0.4470- ETA: 0s - loss: 1.0655 - \n",
      "Epoch 00097: val_acc did not improve from 0.43713\n",
      "75/75 [==============================] - 6s 78ms/step - loss: 1.0664 - acc: 0.4469 - val_loss: 1.0701 - val_acc: 0.4371\n",
      "Epoch 98/100\n",
      "74/75 [============================>.] - ETA: 0s - loss: 1.0665 - acc: 0.4470\n",
      "Epoch 00098: val_acc did not improve from 0.43713\n",
      "75/75 [==============================] - 4s 59ms/step - loss: 1.0666 - acc: 0.4469 - val_loss: 1.0701 - val_acc: 0.4371\n",
      "Epoch 99/100\n",
      "74/75 [============================>.] - ETA: 0s - loss: 1.0665 - acc: 0.4468\n",
      "Epoch 00099: val_acc did not improve from 0.43713\n",
      "75/75 [==============================] - 7s 93ms/step - loss: 1.0665 - acc: 0.4469 - val_loss: 1.0701 - val_acc: 0.4371\n",
      "Epoch 100/100\n",
      "74/75 [============================>.] - ETA: 0s - loss: 1.0665 - acc: 0.4468\n",
      "Epoch 00100: val_acc did not improve from 0.43713\n",
      "75/75 [==============================] - 4s 58ms/step - loss: 1.0665 - acc: 0.4469 - val_loss: 1.0702 - val_acc: 0.4371\n"
     ]
    }
   ],
   "source": [
    "model.compile(optimizer='adam', loss='categorical_crossentropy', metrics=['acc'])\n",
    "history = model.fit(np.array(train_list), y_train, epochs=100, callbacks=[mc], batch_size=64, validation_split=0.2)"
   ]
  },
  {
   "cell_type": "code",
   "execution_count": 227,
   "metadata": {
    "ExecuteTime": {
     "end_time": "2021-04-08T05:34:00.622018Z",
     "start_time": "2021-04-08T05:33:56.321704Z"
    }
   },
   "outputs": [
    {
     "name": "stdout",
     "output_type": "stream",
     "text": [
      "62/62 [==============================] - 1s 13ms/step - loss: 4.7960 - acc: 0.4311\n",
      "테스트 정확도: 0.4311\n"
     ]
    }
   ],
   "source": [
    "loaded_model = load_model('best_model.h5')\n",
    "print(\"테스트 정확도: %.4f\" % (loaded_model.evaluate(X_test, y_test)[1]))"
   ]
  },
  {
   "cell_type": "code",
   "execution_count": 106,
   "metadata": {
    "ExecuteTime": {
     "end_time": "2021-03-31T17:13:21.881003Z",
     "start_time": "2021-03-31T17:13:17.218412Z"
    }
   },
   "outputs": [
    {
     "data": {
      "text/plain": [
       "array([[0.39774117, 0.4180528 , 0.18420602],\n",
       "       [0.93720895, 0.05255724, 0.01023376],\n",
       "       [0.53255975, 0.3266842 , 0.14075604],\n",
       "       ...,\n",
       "       [0.27636996, 0.466064  , 0.2575661 ],\n",
       "       [0.2051393 , 0.4949639 , 0.29989678],\n",
       "       [0.39454758, 0.3854387 , 0.22001368]], dtype=float32)"
      ]
     },
     "execution_count": 106,
     "metadata": {},
     "output_type": "execute_result"
    }
   ],
   "source": [
    "preds = loaded_model.predict(X_test)\n",
    "preds"
   ]
  },
  {
   "cell_type": "markdown",
   "metadata": {},
   "source": [
    "# 모델 평가 참고 \n",
    "\n",
    "- https://ayoteralab.tistory.com/entry/Iris-dataset-classification-with-Keras?category=873956"
   ]
  },
  {
   "cell_type": "code",
   "execution_count": 29,
   "metadata": {
    "ExecuteTime": {
     "end_time": "2021-04-01T16:21:22.083815Z",
     "start_time": "2021-04-01T16:21:20.936885Z"
    }
   },
   "outputs": [
    {
     "ename": "NameError",
     "evalue": "name 'history' is not defined",
     "output_type": "error",
     "traceback": [
      "\u001b[1;31m---------------------------------------------------------------------------\u001b[0m",
      "\u001b[1;31mNameError\u001b[0m                                 Traceback (most recent call last)",
      "\u001b[1;32m<ipython-input-29-a74692dd2eda>\u001b[0m in \u001b[0;36m<module>\u001b[1;34m\u001b[0m\n\u001b[1;32m----> 1\u001b[1;33m \u001b[0mplt\u001b[0m\u001b[1;33m.\u001b[0m\u001b[0mplot\u001b[0m\u001b[1;33m(\u001b[0m\u001b[0mhistory\u001b[0m\u001b[1;33m.\u001b[0m\u001b[0mhistory\u001b[0m\u001b[1;33m[\u001b[0m\u001b[1;34m'val_acc'\u001b[0m\u001b[1;33m]\u001b[0m\u001b[1;33m)\u001b[0m\u001b[1;33m\u001b[0m\u001b[1;33m\u001b[0m\u001b[0m\n\u001b[0m\u001b[0;32m      2\u001b[0m \u001b[0mplt\u001b[0m\u001b[1;33m.\u001b[0m\u001b[0mplot\u001b[0m\u001b[1;33m(\u001b[0m\u001b[0mhistory\u001b[0m\u001b[1;33m.\u001b[0m\u001b[0mhistory\u001b[0m\u001b[1;33m[\u001b[0m\u001b[1;34m'val_loss'\u001b[0m\u001b[1;33m]\u001b[0m\u001b[1;33m)\u001b[0m\u001b[1;33m\u001b[0m\u001b[1;33m\u001b[0m\u001b[0m\n\u001b[0;32m      3\u001b[0m \u001b[0mplt\u001b[0m\u001b[1;33m.\u001b[0m\u001b[0mshow\u001b[0m\u001b[1;33m(\u001b[0m\u001b[1;33m)\u001b[0m\u001b[1;33m\u001b[0m\u001b[1;33m\u001b[0m\u001b[0m\n",
      "\u001b[1;31mNameError\u001b[0m: name 'history' is not defined"
     ]
    }
   ],
   "source": [
    "plt.plot(history.history['val_acc'])\n",
    "plt.plot(history.history['val_loss'])\n",
    "plt.show()"
   ]
  },
  {
   "cell_type": "code",
   "execution_count": 108,
   "metadata": {
    "ExecuteTime": {
     "end_time": "2021-03-31T17:13:31.208117Z",
     "start_time": "2021-03-31T17:13:30.879991Z"
    }
   },
   "outputs": [
    {
     "ename": "NameError",
     "evalue": "name 'dataset' is not defined",
     "output_type": "error",
     "traceback": [
      "\u001b[1;31m---------------------------------------------------------------------------\u001b[0m",
      "\u001b[1;31mNameError\u001b[0m                                 Traceback (most recent call last)",
      "\u001b[1;32m<ipython-input-108-2f3d6900dd4d>\u001b[0m in \u001b[0;36m<module>\u001b[1;34m\u001b[0m\n\u001b[0;32m      1\u001b[0m \u001b[0mf\u001b[0m\u001b[1;33m,\u001b[0m \u001b[0max\u001b[0m \u001b[1;33m=\u001b[0m \u001b[0mplt\u001b[0m\u001b[1;33m.\u001b[0m\u001b[0msubplots\u001b[0m\u001b[1;33m(\u001b[0m\u001b[1;36m1\u001b[0m\u001b[1;33m,\u001b[0m \u001b[1;36m2\u001b[0m\u001b[1;33m,\u001b[0m \u001b[0mfigsize\u001b[0m\u001b[1;33m=\u001b[0m\u001b[1;33m(\u001b[0m\u001b[1;36m14\u001b[0m\u001b[1;33m,\u001b[0m\u001b[1;36m6\u001b[0m\u001b[1;33m)\u001b[0m\u001b[1;33m)\u001b[0m\u001b[1;33m\u001b[0m\u001b[1;33m\u001b[0m\u001b[0m\n\u001b[1;32m----> 2\u001b[1;33m \u001b[0max\u001b[0m\u001b[1;33m[\u001b[0m\u001b[1;36m0\u001b[0m\u001b[1;33m]\u001b[0m\u001b[1;33m.\u001b[0m\u001b[0mscatter\u001b[0m\u001b[1;33m(\u001b[0m\u001b[0mdataset\u001b[0m\u001b[1;33m.\u001b[0m\u001b[0mdata\u001b[0m\u001b[1;33m[\u001b[0m\u001b[1;33m:\u001b[0m\u001b[1;33m,\u001b[0m\u001b[1;36m0\u001b[0m\u001b[1;33m]\u001b[0m\u001b[1;33m,\u001b[0m \u001b[0mdataset\u001b[0m\u001b[1;33m.\u001b[0m\u001b[0mdata\u001b[0m\u001b[1;33m[\u001b[0m\u001b[1;33m:\u001b[0m\u001b[1;33m,\u001b[0m\u001b[1;36m1\u001b[0m\u001b[1;33m]\u001b[0m\u001b[1;33m,\u001b[0m \u001b[0mc\u001b[0m\u001b[1;33m=\u001b[0m\u001b[0mdataset\u001b[0m\u001b[1;33m.\u001b[0m\u001b[0mtarget\u001b[0m\u001b[1;33m)\u001b[0m\u001b[1;33m\u001b[0m\u001b[1;33m\u001b[0m\u001b[0m\n\u001b[0m\u001b[0;32m      3\u001b[0m \u001b[0max\u001b[0m\u001b[1;33m[\u001b[0m\u001b[1;36m0\u001b[0m\u001b[1;33m]\u001b[0m\u001b[1;33m.\u001b[0m\u001b[0mset_title\u001b[0m\u001b[1;33m(\u001b[0m\u001b[1;34m'scatter with Sepal'\u001b[0m\u001b[1;33m)\u001b[0m\u001b[1;33m\u001b[0m\u001b[1;33m\u001b[0m\u001b[0m\n\u001b[0;32m      4\u001b[0m \u001b[0max\u001b[0m\u001b[1;33m[\u001b[0m\u001b[1;36m1\u001b[0m\u001b[1;33m]\u001b[0m\u001b[1;33m.\u001b[0m\u001b[0mscatter\u001b[0m\u001b[1;33m(\u001b[0m\u001b[0mdataset\u001b[0m\u001b[1;33m.\u001b[0m\u001b[0mdata\u001b[0m\u001b[1;33m[\u001b[0m\u001b[1;33m:\u001b[0m\u001b[1;33m,\u001b[0m\u001b[1;36m2\u001b[0m\u001b[1;33m]\u001b[0m\u001b[1;33m,\u001b[0m \u001b[0mdataset\u001b[0m\u001b[1;33m.\u001b[0m\u001b[0mdata\u001b[0m\u001b[1;33m[\u001b[0m\u001b[1;33m:\u001b[0m\u001b[1;33m,\u001b[0m\u001b[1;36m3\u001b[0m\u001b[1;33m]\u001b[0m\u001b[1;33m,\u001b[0m \u001b[0mc\u001b[0m\u001b[1;33m=\u001b[0m\u001b[0mdataset\u001b[0m\u001b[1;33m.\u001b[0m\u001b[0mtarget\u001b[0m\u001b[1;33m)\u001b[0m\u001b[1;33m\u001b[0m\u001b[1;33m\u001b[0m\u001b[0m\n\u001b[0;32m      5\u001b[0m \u001b[0max\u001b[0m\u001b[1;33m[\u001b[0m\u001b[1;36m1\u001b[0m\u001b[1;33m]\u001b[0m\u001b[1;33m.\u001b[0m\u001b[0mset_title\u001b[0m\u001b[1;33m(\u001b[0m\u001b[1;34m'scatter with Petal'\u001b[0m\u001b[1;33m)\u001b[0m\u001b[1;33m\u001b[0m\u001b[1;33m\u001b[0m\u001b[0m\n",
      "\u001b[1;31mNameError\u001b[0m: name 'dataset' is not defined"
     ]
    },
    {
     "data": {
      "image/png": "[encoded data removed]",
      "text/plain": [
       "<Figure size 1008x432 with 2 Axes>"
      ]
     },
     "metadata": {
      "needs_background": "light"
     },
     "output_type": "display_data"
    }
   ],
   "source": [
    "f, ax = plt.subplots(1, 2, figsize=(14,6))\n",
    "ax[0].scatter(dataset.data[:,0], dataset.data[:,1], c=dataset.target)\n",
    "ax[0].set_title('scatter with Sepal')\n",
    "ax[1].scatter(dataset.data[:,2], dataset.data[:,3], c=dataset.target)\n",
    "ax[1].set_title('scatter with Petal')\n",
    "plt.show()"
   ]
  },
  {
   "cell_type": "code",
   "execution_count": null,
   "metadata": {},
   "outputs": [],
   "source": []
  }
 ],
 "metadata": {
  "kernelspec": {
   "display_name": "Python 3",
   "language": "python",
   "name": "python3"
  },
  "language_info": {
   "codemirror_mode": {
    "name": "ipython",
    "version": 3
   },
   "file_extension": ".py",
   "mimetype": "text/x-python",
   "name": "python",
   "nbconvert_exporter": "python",
   "pygments_lexer": "ipython3",
   "version": "3.8.3"
  },
  "toc": {
   "base_numbering": 1,
   "nav_menu": {},
   "number_sections": true,
   "sideBar": true,
   "skip_h1_title": false,
   "title_cell": "Table of Contents",
   "title_sidebar": "Contents",
   "toc_cell": false,
   "toc_position": {},
   "toc_section_display": true,
   "toc_window_display": false
  }
 },
 "nbformat": 4,
 "nbformat_minor": 4
}
