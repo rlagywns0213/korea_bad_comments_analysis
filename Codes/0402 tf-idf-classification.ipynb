{
 "cells": [
  {
   "cell_type": "code",
   "execution_count": 1,
   "metadata": {
    "ExecuteTime": {
     "end_time": "2021-04-02T05:18:24.204528Z",
     "start_time": "2021-04-02T05:18:23.324882Z"
    }
   },
   "outputs": [],
   "source": [
    "import pandas as pd\n",
    "train= pd.read_csv('korean-hate-speech/labeled/train.tsv' ,sep='\\t')\n",
    "dev= pd.read_csv('korean-hate-speech/labeled/dev.tsv' ,sep='\\t')"
   ]
  },
  {
   "cell_type": "markdown",
   "metadata": {},
   "source": [
    "# 독립변수 처리"
   ]
  },
  {
   "cell_type": "code",
   "execution_count": 2,
   "metadata": {
    "ExecuteTime": {
     "end_time": "2021-04-02T05:18:24.219490Z",
     "start_time": "2021-04-02T05:18:24.206524Z"
    }
   },
   "outputs": [],
   "source": [
    "train = train[['comments','hate']]\n",
    "train['hate'] = train['hate'].map({'none':0,'offensive':1,'hate':2})\n",
    "dev = dev[['comments','hate']]\n",
    "dev['hate'] = dev['hate'].map({'none':0,'offensive':1,'hate':2})"
   ]
  },
  {
   "cell_type": "code",
   "execution_count": 3,
   "metadata": {
    "ExecuteTime": {
     "end_time": "2021-04-02T05:18:31.373903Z",
     "start_time": "2021-04-02T05:18:24.221486Z"
    }
   },
   "outputs": [],
   "source": [
    "import pandas as pd\n",
    "import numpy as np\n",
    "import matplotlib.pyplot as plt\n",
    "import urllib.request\n",
    "from collections import Counter\n",
    "from konlpy.tag import Mecab\n",
    "from sklearn.model_selection import train_test_split\n",
    "from tensorflow.keras.preprocessing.text import Tokenizer\n",
    "from tensorflow.keras.preprocessing.sequence import pad_sequences"
   ]
  },
  {
   "cell_type": "code",
   "execution_count": 4,
   "metadata": {
    "ExecuteTime": {
     "end_time": "2021-04-02T05:18:31.388828Z",
     "start_time": "2021-04-02T05:18:31.375864Z"
    }
   },
   "outputs": [
    {
     "name": "stdout",
     "output_type": "stream",
     "text": [
      "훈련용 리뷰의 개수 : 7896\n",
      "테스트용 리뷰의 개수 : 471\n"
     ]
    }
   ],
   "source": [
    "print('훈련용 리뷰의 개수 :', len(train))\n",
    "print('테스트용 리뷰의 개수 :', len(dev))"
   ]
  },
  {
   "cell_type": "code",
   "execution_count": 5,
   "metadata": {
    "ExecuteTime": {
     "end_time": "2021-04-02T05:18:31.553387Z",
     "start_time": "2021-04-02T05:18:31.390823Z"
    },
    "scrolled": true
   },
   "outputs": [
    {
     "data": {
      "text/plain": [
       "<matplotlib.axes._subplots.AxesSubplot at 0x25219047220>"
      ]
     },
     "execution_count": 5,
     "metadata": {},
     "output_type": "execute_result"
    },
    {
     "data": {
      "image/png": "[encoded data removed]",
      "text/plain": [
       "<Figure size 432x288 with 1 Axes>"
      ]
     },
     "metadata": {
      "needs_background": "light"
     },
     "output_type": "display_data"
    }
   ],
   "source": [
    "train['hate'].value_counts().plot(kind = 'bar')"
   ]
  },
  {
   "cell_type": "markdown",
   "metadata": {},
   "source": [
    "# 불용어 제거 후 토큰화 작업\n",
    "\n",
    "- ( , ) 도 추가\n",
    "- ....은 의미 있을 수도 있어 제거 X"
   ]
  },
  {
   "cell_type": "code",
   "execution_count": 6,
   "metadata": {
    "ExecuteTime": {
     "end_time": "2021-04-02T05:18:31.568347Z",
     "start_time": "2021-04-02T05:18:31.556380Z"
    }
   },
   "outputs": [],
   "source": [
    "stopwords = ['(',')','도', '는', '다', '의', '가', '이', '은', '한', '에', '하', '고', '을', '를', '인', '듯', '과', '와', '네', '들', '듯', '지', '임', '게', '만', '음', '면']"
   ]
  },
  {
   "cell_type": "code",
   "execution_count": 7,
   "metadata": {
    "ExecuteTime": {
     "end_time": "2021-04-02T05:18:32.406146Z",
     "start_time": "2021-04-02T05:18:31.570343Z"
    }
   },
   "outputs": [],
   "source": [
    "mecab = Mecab(dicpath=r\"C:\\mecab\\mecab-ko-dic\")\n",
    "\n",
    "train['tokenized'] = train['comments'].apply(mecab.morphs)\n",
    "train['tokenized'] = train['tokenized'].apply(lambda x: [item for item in x if item not in stopwords])\n",
    "dev['tokenized'] = dev['comments'].apply(mecab.morphs)\n",
    "dev['tokenized'] = dev['tokenized'].apply(lambda x: [item for item in x if item not in stopwords])"
   ]
  },
  {
   "cell_type": "code",
   "execution_count": 8,
   "metadata": {
    "ExecuteTime": {
     "end_time": "2021-04-02T05:18:32.436028Z",
     "start_time": "2021-04-02T05:18:32.408102Z"
    }
   },
   "outputs": [
    {
     "data": {
      "text/html": [
       "<div>\n",
       "<style scoped>\n",
       "    .dataframe tbody tr th:only-of-type {\n",
       "        vertical-align: middle;\n",
       "    }\n",
       "\n",
       "    .dataframe tbody tr th {\n",
       "        vertical-align: top;\n",
       "    }\n",
       "\n",
       "    .dataframe thead th {\n",
       "        text-align: right;\n",
       "    }\n",
       "</style>\n",
       "<table border=\"1\" class=\"dataframe\">\n",
       "  <thead>\n",
       "    <tr style=\"text-align: right;\">\n",
       "      <th></th>\n",
       "      <th>comments</th>\n",
       "      <th>hate</th>\n",
       "      <th>tokenized</th>\n",
       "    </tr>\n",
       "  </thead>\n",
       "  <tbody>\n",
       "    <tr>\n",
       "      <th>0</th>\n",
       "      <td>(현재 호텔주인 심정) 아18 난 마른하늘에 날벼락맞고 호텔망하게생겼는데 누군 계속...</td>\n",
       "      <td>2</td>\n",
       "      <td>[현재, 호텔, 주인, 심정, 아, 18, 난, 마른, 하늘, 날벼락, 맞, 호텔,...</td>\n",
       "    </tr>\n",
       "    <tr>\n",
       "      <th>1</th>\n",
       "      <td>....한국적인 미인의 대표적인 분...너무나 곱고아름다운모습...그모습뒤의 슬픔을...</td>\n",
       "      <td>0</td>\n",
       "      <td>[...., 한국, 적, 미인, 대표, 적, 분, ., .., 너무나, 곱, 아름다...</td>\n",
       "    </tr>\n",
       "    <tr>\n",
       "      <th>2</th>\n",
       "      <td>...못된 넘들...남의 고통을 즐겼던 넘들..이젠 마땅한 처벌을 받아야지..,그래...</td>\n",
       "      <td>2</td>\n",
       "      <td>[..., 못된, 넘, ., .., 남, 고통, 즐겼, 던, 넘, ., ., 이젠,...</td>\n",
       "    </tr>\n",
       "    <tr>\n",
       "      <th>3</th>\n",
       "      <td>1,2화 어설펐는데 3,4화 지나서부터는 갈수록 너무 재밌던데</td>\n",
       "      <td>0</td>\n",
       "      <td>[1, ,, 2, 화, 어설펐, 는데, 3, ,, 4, 화, 지나, 서, 부터, 갈...</td>\n",
       "    </tr>\n",
       "    <tr>\n",
       "      <th>4</th>\n",
       "      <td>1. 사람 얼굴 손톱으로 긁은것은 인격살해이고2. 동영상이 몰카냐? 메걸리안들 생각...</td>\n",
       "      <td>2</td>\n",
       "      <td>[1, ., 사람, 얼굴, 손톱, 으로, 긁, 것, 인격, 살해, 2, ., 동영상...</td>\n",
       "    </tr>\n",
       "    <tr>\n",
       "      <th>...</th>\n",
       "      <td>...</td>\n",
       "      <td>...</td>\n",
       "      <td>...</td>\n",
       "    </tr>\n",
       "    <tr>\n",
       "      <th>7891</th>\n",
       "      <td>힘내세요~ 응원합니다!!</td>\n",
       "      <td>0</td>\n",
       "      <td>[힘내, 세요, ~, 응원, 합니다, !, !]</td>\n",
       "    </tr>\n",
       "    <tr>\n",
       "      <th>7892</th>\n",
       "      <td>힘내세요~~삼가 고인의 명복을 빕니다..</td>\n",
       "      <td>0</td>\n",
       "      <td>[힘내, 세요, ~~, 삼가, 고인, 명복, 빕, 니다, ., .]</td>\n",
       "    </tr>\n",
       "    <tr>\n",
       "      <th>7893</th>\n",
       "      <td>힘내세용 ^^ 항상 응원합니닷 ^^ !</td>\n",
       "      <td>0</td>\n",
       "      <td>[힘내, 세용, ^^, 항상, 응, 원합, 니, 닷, ^^, !]</td>\n",
       "    </tr>\n",
       "    <tr>\n",
       "      <th>7894</th>\n",
       "      <td>힘내소...연기로 답해요.나도 53살 인데 이런일 저런일 다 있더라구요.인격을 믿습...</td>\n",
       "      <td>0</td>\n",
       "      <td>[힘내, 소, ., .., 연기, 로, 답, 해요, ., 나, 53, 살, 인데, ...</td>\n",
       "    </tr>\n",
       "    <tr>\n",
       "      <th>7895</th>\n",
       "      <td>힘들면 관뒀어야지 그게 현명한거다</td>\n",
       "      <td>0</td>\n",
       "      <td>[힘들, 관뒀, 어야지, 그게, 현명, 거]</td>\n",
       "    </tr>\n",
       "  </tbody>\n",
       "</table>\n",
       "<p>7896 rows × 3 columns</p>\n",
       "</div>"
      ],
      "text/plain": [
       "                                               comments  hate  \\\n",
       "0     (현재 호텔주인 심정) 아18 난 마른하늘에 날벼락맞고 호텔망하게생겼는데 누군 계속...     2   \n",
       "1     ....한국적인 미인의 대표적인 분...너무나 곱고아름다운모습...그모습뒤의 슬픔을...     0   \n",
       "2     ...못된 넘들...남의 고통을 즐겼던 넘들..이젠 마땅한 처벌을 받아야지..,그래...     2   \n",
       "3                    1,2화 어설펐는데 3,4화 지나서부터는 갈수록 너무 재밌던데     0   \n",
       "4     1. 사람 얼굴 손톱으로 긁은것은 인격살해이고2. 동영상이 몰카냐? 메걸리안들 생각...     2   \n",
       "...                                                 ...   ...   \n",
       "7891                                      힘내세요~ 응원합니다!!     0   \n",
       "7892                             힘내세요~~삼가 고인의 명복을 빕니다..     0   \n",
       "7893                              힘내세용 ^^ 항상 응원합니닷 ^^ !     0   \n",
       "7894  힘내소...연기로 답해요.나도 53살 인데 이런일 저런일 다 있더라구요.인격을 믿습...     0   \n",
       "7895                                 힘들면 관뒀어야지 그게 현명한거다     0   \n",
       "\n",
       "                                              tokenized  \n",
       "0     [현재, 호텔, 주인, 심정, 아, 18, 난, 마른, 하늘, 날벼락, 맞, 호텔,...  \n",
       "1     [...., 한국, 적, 미인, 대표, 적, 분, ., .., 너무나, 곱, 아름다...  \n",
       "2     [..., 못된, 넘, ., .., 남, 고통, 즐겼, 던, 넘, ., ., 이젠,...  \n",
       "3     [1, ,, 2, 화, 어설펐, 는데, 3, ,, 4, 화, 지나, 서, 부터, 갈...  \n",
       "4     [1, ., 사람, 얼굴, 손톱, 으로, 긁, 것, 인격, 살해, 2, ., 동영상...  \n",
       "...                                                 ...  \n",
       "7891                         [힘내, 세요, ~, 응원, 합니다, !, !]  \n",
       "7892              [힘내, 세요, ~~, 삼가, 고인, 명복, 빕, 니다, ., .]  \n",
       "7893               [힘내, 세용, ^^, 항상, 응, 원합, 니, 닷, ^^, !]  \n",
       "7894  [힘내, 소, ., .., 연기, 로, 답, 해요, ., 나, 53, 살, 인데, ...  \n",
       "7895                           [힘들, 관뒀, 어야지, 그게, 현명, 거]  \n",
       "\n",
       "[7896 rows x 3 columns]"
      ]
     },
     "execution_count": 8,
     "metadata": {},
     "output_type": "execute_result"
    }
   ],
   "source": [
    "train"
   ]
  },
  {
   "cell_type": "code",
   "execution_count": 9,
   "metadata": {
    "ExecuteTime": {
     "end_time": "2021-04-02T05:18:32.510828Z",
     "start_time": "2021-04-02T05:18:32.438024Z"
    }
   },
   "outputs": [],
   "source": [
    "# sum 해주기 위한 전처리 (쉼표 및 문장간 띄어쓰기 입력)\n",
    "train['tokenized'] = train['tokenized'].apply(lambda x: str(x).replace('[','').replace(\"'\",'').replace(']',' ').replace(',',''))\n",
    "dev['tokenized'] = dev['tokenized'].apply(lambda x: str(x).replace('[','').replace(\"'\",'').replace(']',' ').replace(',',''))"
   ]
  },
  {
   "cell_type": "code",
   "execution_count": 13,
   "metadata": {
    "ExecuteTime": {
     "end_time": "2021-04-02T05:19:30.136288Z",
     "start_time": "2021-04-02T05:19:30.116342Z"
    }
   },
   "outputs": [
    {
     "data": {
      "text/plain": [
       "array(['현재 호텔 주인 심정 아 18 난 마른 하늘 날벼락 맞 호텔 망하 생겼 는데 누군 계속 추모 받 . ... ',\n",
       "       '.... 한국 적 미인 대표 적 분 . .. 너무나 곱 아름다운 모습 . .. 그 모습 뒤 슬픔 미처 알 못했 네요 ㅠ ',\n",
       "       '... 못된 넘 . .. 남 고통 즐겼 던 넘 . . 이젠 마땅 처벌 받 아야지 . . 그래야  공정 사회 . .. 심 대로 거두 거라 . .. ',\n",
       "       ..., '힘내 세용 ^^ 항상 응 원합 니 닷 ^^ ! ',\n",
       "       '힘내 소 . .. 연기 로 답 해요 . 나 53 살 인데 이런 일 저런 일 있 더라구요 . 인격 믿 습니다 . . 홨팅 ',\n",
       "       '힘들 관뒀 어야지 그게 현명 거 '], dtype=object)"
      ]
     },
     "execution_count": 13,
     "metadata": {},
     "output_type": "execute_result"
    }
   ],
   "source": []
  },
  {
   "cell_type": "markdown",
   "metadata": {},
   "source": [
    "# TF-IDF 적용\n",
    "\n",
    "- 단순히 단어 코퍼스에서의 빈도 수뿐만 아니라 문서 내에 그 단어가 얼마나 중요한지의 의미를 고려한 방법론\n",
    "- 이는 특정 문서에서 상대적 빈도를 나타내는 TF와 전체 문서에 존재하는 해당 단어의 비율을 반비례한 IDF를 곱한 개념\n",
    "- 즉, 관사나 형용사처럼 공통적인 단어보다 하나의 작은 그룹에서 존재하는 흔한 단어들이 더 높은 TF-IDF값\n",
    "\n",
    "- tf-idf값으로 예측모델의 입력값을 구성하자!"
   ]
  },
  {
   "cell_type": "code",
   "execution_count": 22,
   "metadata": {
    "ExecuteTime": {
     "end_time": "2021-04-02T05:20:09.859771Z",
     "start_time": "2021-04-02T05:20:09.672271Z"
    }
   },
   "outputs": [
    {
     "data": {
      "text/plain": [
       "matrix([[0., 0., 0., ..., 0., 0., 0.],\n",
       "        [0., 0., 0., ..., 0., 0., 0.],\n",
       "        [0., 0., 0., ..., 0., 0., 0.],\n",
       "        ...,\n",
       "        [0., 0., 0., ..., 0., 0., 0.],\n",
       "        [0., 0., 0., ..., 0., 0., 0.],\n",
       "        [0., 0., 0., ..., 0., 0., 0.]])"
      ]
     },
     "execution_count": 22,
     "metadata": {},
     "output_type": "execute_result"
    }
   ],
   "source": [
    "from sklearn.feature_extraction.text import TfidfVectorizer\n",
    "vect = TfidfVectorizer()\n",
    "X = vect.fit_transform(train['tokenized'].values)\n",
    "X.todense()"
   ]
  },
  {
   "cell_type": "code",
   "execution_count": 24,
   "metadata": {
    "ExecuteTime": {
     "end_time": "2021-04-02T05:20:43.272171Z",
     "start_time": "2021-04-02T05:20:43.267185Z"
    }
   },
   "outputs": [
    {
     "name": "stdout",
     "output_type": "stream",
     "text": [
      "[[0 0 1]\n",
      " [1 0 0]\n",
      " [0 0 1]\n",
      " ...\n",
      " [1 0 0]\n",
      " [1 0 0]\n",
      " [1 0 0]]\n"
     ]
    }
   ],
   "source": [
    "from tensorflow.keras.utils import to_categorical\n",
    "dataset_y = to_categorical(train['hate'])\n",
    "dataset_y = np.array(dataset_y, dtype=np.int32)\n",
    "print(dataset_y)"
   ]
  },
  {
   "cell_type": "code",
   "execution_count": 27,
   "metadata": {
    "ExecuteTime": {
     "end_time": "2021-04-02T05:20:56.210552Z",
     "start_time": "2021-04-02T05:20:56.205565Z"
    }
   },
   "outputs": [
    {
     "name": "stdout",
     "output_type": "stream",
     "text": [
      "[[1 0 0]\n",
      " [0 1 0]\n",
      " [0 0 1]\n",
      " ...\n",
      " [0 1 0]\n",
      " [0 0 1]\n",
      " [1 0 0]]\n"
     ]
    }
   ],
   "source": [
    "test_y = to_categorical(dev['hate'])\n",
    "test_y = np.array(test_y, dtype=np.int32)\n",
    "print(test_y)"
   ]
  },
  {
   "cell_type": "code",
   "execution_count": 29,
   "metadata": {
    "ExecuteTime": {
     "end_time": "2021-04-02T05:21:20.921793Z",
     "start_time": "2021-04-02T05:21:20.855008Z"
    }
   },
   "outputs": [
    {
     "data": {
      "text/plain": [
       "((7896, 12310), (7896, 3))"
      ]
     },
     "execution_count": 29,
     "metadata": {},
     "output_type": "execute_result"
    }
   ],
   "source": [
    "X_train = X.todense()\n",
    "y_train = dataset_y\n",
    "# X_test= test_data['tokenized'].values\n",
    "# y_test = test_y\n",
    "\n",
    "X_train.shape, y_train.shape, \n",
    "# X_test.shape, y_test.shape"
   ]
  },
  {
   "cell_type": "markdown",
   "metadata": {},
   "source": [
    "# 정수 인코딩"
   ]
  },
  {
   "cell_type": "code",
   "execution_count": 33,
   "metadata": {
    "ExecuteTime": {
     "end_time": "2021-04-02T05:22:14.718321Z",
     "start_time": "2021-04-02T05:22:14.697347Z"
    }
   },
   "outputs": [
    {
     "ename": "AttributeError",
     "evalue": "'matrix' object has no attribute 'lower'",
     "output_type": "error",
     "traceback": [
      "\u001b[1;31m---------------------------------------------------------------------------\u001b[0m",
      "\u001b[1;31mAttributeError\u001b[0m                            Traceback (most recent call last)",
      "\u001b[1;32m<ipython-input-33-03f4c5b1de66>\u001b[0m in \u001b[0;36m<module>\u001b[1;34m\u001b[0m\n\u001b[0;32m      1\u001b[0m \u001b[0mtokenizer\u001b[0m \u001b[1;33m=\u001b[0m \u001b[0mTokenizer\u001b[0m\u001b[1;33m(\u001b[0m\u001b[1;36m12310\u001b[0m\u001b[1;33m,\u001b[0m \u001b[0moov_token\u001b[0m \u001b[1;33m=\u001b[0m \u001b[1;34m'OOV'\u001b[0m\u001b[1;33m)\u001b[0m\u001b[1;33m\u001b[0m\u001b[1;33m\u001b[0m\u001b[0m\n\u001b[1;32m----> 2\u001b[1;33m \u001b[0mtokenizer\u001b[0m\u001b[1;33m.\u001b[0m\u001b[0mfit_on_texts\u001b[0m\u001b[1;33m(\u001b[0m\u001b[0mX_train\u001b[0m\u001b[1;33m)\u001b[0m\u001b[1;33m\u001b[0m\u001b[1;33m\u001b[0m\u001b[0m\n\u001b[0m\u001b[0;32m      3\u001b[0m \u001b[0mX_train\u001b[0m \u001b[1;33m=\u001b[0m \u001b[0mtokenizer\u001b[0m\u001b[1;33m.\u001b[0m\u001b[0mtexts_to_sequences\u001b[0m\u001b[1;33m(\u001b[0m\u001b[0mX_train\u001b[0m\u001b[1;33m)\u001b[0m\u001b[1;33m\u001b[0m\u001b[1;33m\u001b[0m\u001b[0m\n\u001b[0;32m      4\u001b[0m \u001b[0mX_test\u001b[0m \u001b[1;33m=\u001b[0m \u001b[0mtokenizer\u001b[0m\u001b[1;33m.\u001b[0m\u001b[0mtexts_to_sequences\u001b[0m\u001b[1;33m(\u001b[0m\u001b[0mX_test\u001b[0m\u001b[1;33m)\u001b[0m\u001b[1;33m\u001b[0m\u001b[1;33m\u001b[0m\u001b[0m\n",
      "\u001b[1;32m~\\anaconda3\\lib\\site-packages\\keras_preprocessing\\text.py\u001b[0m in \u001b[0;36mfit_on_texts\u001b[1;34m(self, texts)\u001b[0m\n\u001b[0;32m    220\u001b[0m                 \u001b[0mseq\u001b[0m \u001b[1;33m=\u001b[0m \u001b[0mtext\u001b[0m\u001b[1;33m\u001b[0m\u001b[1;33m\u001b[0m\u001b[0m\n\u001b[0;32m    221\u001b[0m             \u001b[1;32melse\u001b[0m\u001b[1;33m:\u001b[0m\u001b[1;33m\u001b[0m\u001b[1;33m\u001b[0m\u001b[0m\n\u001b[1;32m--> 222\u001b[1;33m                 seq = text_to_word_sequence(text,\n\u001b[0m\u001b[0;32m    223\u001b[0m                                             \u001b[0mself\u001b[0m\u001b[1;33m.\u001b[0m\u001b[0mfilters\u001b[0m\u001b[1;33m,\u001b[0m\u001b[1;33m\u001b[0m\u001b[1;33m\u001b[0m\u001b[0m\n\u001b[0;32m    224\u001b[0m                                             \u001b[0mself\u001b[0m\u001b[1;33m.\u001b[0m\u001b[0mlower\u001b[0m\u001b[1;33m,\u001b[0m\u001b[1;33m\u001b[0m\u001b[1;33m\u001b[0m\u001b[0m\n",
      "\u001b[1;32m~\\anaconda3\\lib\\site-packages\\keras_preprocessing\\text.py\u001b[0m in \u001b[0;36mtext_to_word_sequence\u001b[1;34m(text, filters, lower, split)\u001b[0m\n\u001b[0;32m     41\u001b[0m     \"\"\"\n\u001b[0;32m     42\u001b[0m     \u001b[1;32mif\u001b[0m \u001b[0mlower\u001b[0m\u001b[1;33m:\u001b[0m\u001b[1;33m\u001b[0m\u001b[1;33m\u001b[0m\u001b[0m\n\u001b[1;32m---> 43\u001b[1;33m         \u001b[0mtext\u001b[0m \u001b[1;33m=\u001b[0m \u001b[0mtext\u001b[0m\u001b[1;33m.\u001b[0m\u001b[0mlower\u001b[0m\u001b[1;33m(\u001b[0m\u001b[1;33m)\u001b[0m\u001b[1;33m\u001b[0m\u001b[1;33m\u001b[0m\u001b[0m\n\u001b[0m\u001b[0;32m     44\u001b[0m \u001b[1;33m\u001b[0m\u001b[0m\n\u001b[0;32m     45\u001b[0m     \u001b[1;32mif\u001b[0m \u001b[0msys\u001b[0m\u001b[1;33m.\u001b[0m\u001b[0mversion_info\u001b[0m \u001b[1;33m<\u001b[0m \u001b[1;33m(\u001b[0m\u001b[1;36m3\u001b[0m\u001b[1;33m,\u001b[0m\u001b[1;33m)\u001b[0m\u001b[1;33m:\u001b[0m\u001b[1;33m\u001b[0m\u001b[1;33m\u001b[0m\u001b[0m\n",
      "\u001b[1;31mAttributeError\u001b[0m: 'matrix' object has no attribute 'lower'"
     ]
    }
   ],
   "source": [
    "tokenizer = Tokenizer(12310, oov_token = 'OOV') \n",
    "tokenizer.fit_on_texts(X_train)\n",
    "X_train = tokenizer.texts_to_sequences(X_train)\n",
    "X_test = tokenizer.texts_to_sequences(X_test)"
   ]
  },
  {
   "cell_type": "markdown",
   "metadata": {},
   "source": [
    "# 패딩"
   ]
  },
  {
   "cell_type": "code",
   "execution_count": 228,
   "metadata": {
    "ExecuteTime": {
     "end_time": "2021-04-01T16:09:57.313836Z",
     "start_time": "2021-04-01T16:09:57.126336Z"
    }
   },
   "outputs": [
    {
     "name": "stdout",
     "output_type": "stream",
     "text": [
      "리뷰의 최대 길이 : 56\n",
      "리뷰의 평균 길이 : 13.929753461668355\n"
     ]
    },
    {
     "data": {
      "image/png": "[encoded data removed]",
      "text/plain": [
       "<Figure size 432x288 with 1 Axes>"
      ]
     },
     "metadata": {
      "needs_background": "light"
     },
     "output_type": "display_data"
    }
   ],
   "source": [
    "print('리뷰의 최대 길이 :',max(len(l) for l in X_train))\n",
    "print('리뷰의 평균 길이 :',sum(map(len, X_train))/len(X_train))\n",
    "plt.hist([len(s) for s in X_train], bins=50)\n",
    "plt.xlabel('length of samples')\n",
    "plt.ylabel('number of samples')\n",
    "plt.show()"
   ]
  },
  {
   "cell_type": "code",
   "execution_count": 229,
   "metadata": {
    "ExecuteTime": {
     "end_time": "2021-04-01T16:09:59.823907Z",
     "start_time": "2021-04-01T16:09:59.811950Z"
    }
   },
   "outputs": [],
   "source": [
    "def below_threshold_len(max_len, nested_list):\n",
    "    cnt = 0\n",
    "    for s in nested_list:\n",
    "        if(len(s) <= max_len):\n",
    "            cnt = cnt + 1\n",
    "    print('전체 샘플 중 길이가 %s 이하인 샘플의 비율: %s'%(max_len, (cnt / len(nested_list))*100))"
   ]
  },
  {
   "cell_type": "code",
   "execution_count": 230,
   "metadata": {
    "ExecuteTime": {
     "end_time": "2021-04-01T16:10:04.489608Z",
     "start_time": "2021-04-01T16:10:04.472653Z"
    }
   },
   "outputs": [
    {
     "name": "stdout",
     "output_type": "stream",
     "text": [
      "전체 샘플 중 길이가 56 이하인 샘플의 비율: 100.0\n"
     ]
    }
   ],
   "source": [
    "max_len = 56\n",
    "below_threshold_len(max_len, X_train)"
   ]
  },
  {
   "cell_type": "code",
   "execution_count": 231,
   "metadata": {
    "ExecuteTime": {
     "end_time": "2021-04-01T16:10:06.065640Z",
     "start_time": "2021-04-01T16:10:06.017698Z"
    }
   },
   "outputs": [],
   "source": [
    "X_train = pad_sequences(X_train, maxlen = max_len)\n",
    "X_test = pad_sequences(X_test, maxlen = max_len)"
   ]
  },
  {
   "cell_type": "markdown",
   "metadata": {},
   "source": [
    "# 모델 구축"
   ]
  },
  {
   "cell_type": "code",
   "execution_count": 238,
   "metadata": {
    "ExecuteTime": {
     "end_time": "2021-04-01T16:22:14.800738Z",
     "start_time": "2021-04-01T16:22:14.181958Z"
    }
   },
   "outputs": [],
   "source": [
    "import re\n",
    "from tensorflow.keras.layers import Embedding, Dense, LSTM, Bidirectional, Dropout,BatchNormalization\n",
    "from tensorflow.keras.models import Sequential\n",
    "from tensorflow.keras.models import load_model\n",
    "from tensorflow.keras.callbacks import EarlyStopping, ModelCheckpoint\n",
    "\n",
    "model = Sequential()\n",
    "model.add(Embedding(vocab_size, 200))\n",
    "model.add(BatchNormalization())\n",
    "model.add(Dropout(0.5))\n",
    "model.add(Bidirectional(LSTM(200)))\n",
    "model.add(Dense(3, activation='softmax'))\n"
   ]
  },
  {
   "cell_type": "code",
   "execution_count": 239,
   "metadata": {
    "ExecuteTime": {
     "end_time": "2021-04-01T16:22:15.611026Z",
     "start_time": "2021-04-01T16:22:15.595924Z"
    }
   },
   "outputs": [],
   "source": [
    "es = EarlyStopping(monitor='val_loss', mode='min', verbose=1, patience=40)\n",
    "mc = ModelCheckpoint('best_model.h5', monitor='val_acc', mode='max', verbose=1, save_best_only=True)"
   ]
  },
  {
   "cell_type": "code",
   "execution_count": 240,
   "metadata": {
    "ExecuteTime": {
     "end_time": "2021-04-01T16:36:24.765174Z",
     "start_time": "2021-04-01T16:22:16.125625Z"
    }
   },
   "outputs": [
    {
     "name": "stdout",
     "output_type": "stream",
     "text": [
      "Epoch 1/100\n",
      "5/5 [==============================] - ETA: 0s - loss: 1.1472 - acc: 0.4013\n",
      "Epoch 00001: val_acc improved from -inf to 0.42025, saving model to best_model.h5\n",
      "5/5 [==============================] - 11s 2s/step - loss: 1.1472 - acc: 0.4013 - val_loss: 1.0878 - val_acc: 0.4203\n",
      "Epoch 2/100\n",
      "5/5 [==============================] - ETA: 0s - loss: 1.0412 - acc: 0.4473\n",
      "Epoch 00002: val_acc improved from 0.42025 to 0.43713, saving model to best_model.h5\n",
      "5/5 [==============================] - 10s 2s/step - loss: 1.0412 - acc: 0.4473 - val_loss: 1.0694 - val_acc: 0.4371\n",
      "Epoch 3/100\n",
      "5/5 [==============================] - ETA: 0s - loss: 0.9826 - acc: 0.4908\n",
      "Epoch 00003: val_acc did not improve from 0.43713\n",
      "5/5 [==============================] - 12s 2s/step - loss: 0.9826 - acc: 0.4908 - val_loss: 1.0652 - val_acc: 0.4371\n",
      "Epoch 4/100\n",
      "5/5 [==============================] - ETA: 0s - loss: 0.9038 - acc: 0.5930\n",
      "Epoch 00004: val_acc improved from 0.43713 to 0.43882, saving model to best_model.h5\n",
      "5/5 [==============================] - 10s 2s/step - loss: 0.9038 - acc: 0.5930 - val_loss: 1.0584 - val_acc: 0.4388\n",
      "Epoch 5/100\n",
      "5/5 [==============================] - ETA: 0s - loss: 0.7931 - acc: 0.6487\n",
      "Epoch 00005: val_acc improved from 0.43882 to 0.44051, saving model to best_model.h5\n",
      "5/5 [==============================] - 11s 2s/step - loss: 0.7931 - acc: 0.6487 - val_loss: 1.0420 - val_acc: 0.4405\n",
      "Epoch 6/100\n",
      "5/5 [==============================] - ETA: 0s - loss: 0.7049 - acc: 0.6888\n",
      "Epoch 00006: val_acc improved from 0.44051 to 0.44304, saving model to best_model.h5\n",
      "5/5 [==============================] - 12s 2s/step - loss: 0.7049 - acc: 0.6888 - val_loss: 1.0310 - val_acc: 0.4430\n",
      "Epoch 7/100\n",
      "5/5 [==============================] - ETA: 0s - loss: 0.6233 - acc: 0.7340\n",
      "Epoch 00007: val_acc did not improve from 0.44304\n",
      "5/5 [==============================] - 12s 2s/step - loss: 0.6233 - acc: 0.7340 - val_loss: 1.0305 - val_acc: 0.4414\n",
      "Epoch 8/100\n",
      "5/5 [==============================] - ETA: 0s - loss: 0.5502 - acc: 0.7667\n",
      "Epoch 00008: val_acc improved from 0.44304 to 0.47004, saving model to best_model.h5\n",
      "5/5 [==============================] - 12s 2s/step - loss: 0.5502 - acc: 0.7667 - val_loss: 1.0210 - val_acc: 0.4700\n",
      "Epoch 9/100\n",
      "5/5 [==============================] - ETA: 0s - loss: 0.4872 - acc: 0.7957\n",
      "Epoch 00009: val_acc did not improve from 0.47004\n",
      "5/5 [==============================] - 12s 2s/step - loss: 0.4872 - acc: 0.7957 - val_loss: 1.0112 - val_acc: 0.4489\n",
      "Epoch 10/100\n",
      "5/5 [==============================] - ETA: 0s - loss: 0.4368 - acc: 0.8258\n",
      "Epoch 00010: val_acc did not improve from 0.47004\n",
      "5/5 [==============================] - 12s 2s/step - loss: 0.4368 - acc: 0.8258 - val_loss: 1.0074 - val_acc: 0.4675\n",
      "Epoch 11/100\n",
      "5/5 [==============================] - ETA: 0s - loss: 0.3825 - acc: 0.8495\n",
      "Epoch 00011: val_acc did not improve from 0.47004\n",
      "5/5 [==============================] - 12s 2s/step - loss: 0.3825 - acc: 0.8495 - val_loss: 1.0023 - val_acc: 0.4591\n",
      "Epoch 12/100\n",
      "5/5 [==============================] - ETA: 0s - loss: 0.3305 - acc: 0.8719\n",
      "Epoch 00012: val_acc did not improve from 0.47004\n",
      "5/5 [==============================] - 11s 2s/step - loss: 0.3305 - acc: 0.8719 - val_loss: 1.0114 - val_acc: 0.4473\n",
      "Epoch 13/100\n",
      "5/5 [==============================] - ETA: 0s - loss: 0.2987 - acc: 0.8879\n",
      "Epoch 00013: val_acc improved from 0.47004 to 0.48017, saving model to best_model.h5\n",
      "5/5 [==============================] - 11s 2s/step - loss: 0.2987 - acc: 0.8879 - val_loss: 0.9924 - val_acc: 0.4802\n",
      "Epoch 14/100\n",
      "5/5 [==============================] - ETA: 0s - loss: 0.2612 - acc: 0.9014\n",
      "Epoch 00014: val_acc did not improve from 0.48017\n",
      "5/5 [==============================] - 11s 2s/step - loss: 0.2612 - acc: 0.9014 - val_loss: 1.0271 - val_acc: 0.4464\n",
      "Epoch 15/100\n",
      "5/5 [==============================] - ETA: 0s - loss: 0.2358 - acc: 0.9124\n",
      "Epoch 00015: val_acc did not improve from 0.48017\n",
      "5/5 [==============================] - 12s 2s/step - loss: 0.2358 - acc: 0.9124 - val_loss: 1.0108 - val_acc: 0.4498\n",
      "Epoch 16/100\n",
      "5/5 [==============================] - ETA: 0s - loss: 0.2065 - acc: 0.9191\n",
      "Epoch 00016: val_acc did not improve from 0.48017\n",
      "5/5 [==============================] - 12s 2s/step - loss: 0.2065 - acc: 0.9191 - val_loss: 0.9965 - val_acc: 0.4684\n",
      "Epoch 17/100\n",
      "5/5 [==============================] - ETA: 0s - loss: 0.1830 - acc: 0.9318\n",
      "Epoch 00017: val_acc did not improve from 0.48017\n",
      "5/5 [==============================] - 12s 2s/step - loss: 0.1830 - acc: 0.9318 - val_loss: 1.0392 - val_acc: 0.4447\n",
      "Epoch 18/100\n",
      "5/5 [==============================] - ETA: 0s - loss: 0.1639 - acc: 0.9409\n",
      "Epoch 00018: val_acc did not improve from 0.48017\n",
      "5/5 [==============================] - 12s 2s/step - loss: 0.1639 - acc: 0.9409 - val_loss: 1.0644 - val_acc: 0.4439\n",
      "Epoch 19/100\n",
      "5/5 [==============================] - ETA: 0s - loss: 0.1424 - acc: 0.9474\n",
      "Epoch 00019: val_acc did not improve from 0.48017\n",
      "5/5 [==============================] - 11s 2s/step - loss: 0.1424 - acc: 0.9474 - val_loss: 1.0573 - val_acc: 0.4523\n",
      "Epoch 20/100\n",
      "5/5 [==============================] - ETA: 0s - loss: 0.1286 - acc: 0.9542\n",
      "Epoch 00020: val_acc did not improve from 0.48017\n",
      "5/5 [==============================] - 11s 2s/step - loss: 0.1286 - acc: 0.9542 - val_loss: 1.0349 - val_acc: 0.4684\n",
      "Epoch 21/100\n",
      "5/5 [==============================] - ETA: 0s - loss: 0.1205 - acc: 0.9536\n",
      "Epoch 00021: val_acc did not improve from 0.48017\n",
      "5/5 [==============================] - 11s 2s/step - loss: 0.1205 - acc: 0.9536 - val_loss: 1.1430 - val_acc: 0.4422\n",
      "Epoch 22/100\n",
      "5/5 [==============================] - ETA: 0s - loss: 0.1003 - acc: 0.9643\n",
      "Epoch 00022: val_acc did not improve from 0.48017\n",
      "5/5 [==============================] - 11s 2s/step - loss: 0.1003 - acc: 0.9643 - val_loss: 1.4035 - val_acc: 0.4397\n",
      "Epoch 23/100\n",
      "5/5 [==============================] - ETA: 0s - loss: 0.0936 - acc: 0.9660\n",
      "Epoch 00023: val_acc did not improve from 0.48017\n",
      "5/5 [==============================] - 12s 2s/step - loss: 0.0936 - acc: 0.9660 - val_loss: 1.0817 - val_acc: 0.4641\n",
      "Epoch 24/100\n",
      "5/5 [==============================] - ETA: 0s - loss: 0.0907 - acc: 0.9664\n",
      "Epoch 00024: val_acc did not improve from 0.48017\n",
      "5/5 [==============================] - 12s 2s/step - loss: 0.0907 - acc: 0.9664 - val_loss: 1.4847 - val_acc: 0.4439\n",
      "Epoch 25/100\n",
      "5/5 [==============================] - ETA: 0s - loss: 0.0740 - acc: 0.9755\n",
      "Epoch 00025: val_acc did not improve from 0.48017\n",
      "5/5 [==============================] - 12s 2s/step - loss: 0.0740 - acc: 0.9755 - val_loss: 1.2584 - val_acc: 0.4515\n",
      "Epoch 26/100\n",
      "5/5 [==============================] - ETA: 0s - loss: 0.0795 - acc: 0.9723\n",
      "Epoch 00026: val_acc did not improve from 0.48017\n",
      "5/5 [==============================] - 11s 2s/step - loss: 0.0795 - acc: 0.9723 - val_loss: 1.1742 - val_acc: 0.4751\n",
      "Epoch 27/100\n",
      "5/5 [==============================] - ETA: 0s - loss: 0.0651 - acc: 0.9785\n",
      "Epoch 00027: val_acc did not improve from 0.48017\n",
      "5/5 [==============================] - 13s 3s/step - loss: 0.0651 - acc: 0.9785 - val_loss: 1.5795 - val_acc: 0.4473\n",
      "Epoch 28/100\n",
      "5/5 [==============================] - ETA: 0s - loss: 0.0609 - acc: 0.9802\n",
      "Epoch 00028: val_acc did not improve from 0.48017\n",
      "5/5 [==============================] - 13s 3s/step - loss: 0.0609 - acc: 0.9802 - val_loss: 2.0734 - val_acc: 0.4422\n",
      "Epoch 29/100\n",
      "5/5 [==============================] - ETA: 0s - loss: 0.0605 - acc: 0.9797\n",
      "Epoch 00029: val_acc improved from 0.48017 to 0.49705, saving model to best_model.h5\n",
      "5/5 [==============================] - 12s 2s/step - loss: 0.0605 - acc: 0.9797 - val_loss: 1.1219 - val_acc: 0.4970\n",
      "Epoch 30/100\n",
      "5/5 [==============================] - ETA: 0s - loss: 0.0562 - acc: 0.9825\n",
      "Epoch 00030: val_acc did not improve from 0.49705\n",
      "5/5 [==============================] - 12s 2s/step - loss: 0.0562 - acc: 0.9825 - val_loss: 1.3101 - val_acc: 0.4743\n",
      "Epoch 31/100\n",
      "5/5 [==============================] - ETA: 0s - loss: 0.0513 - acc: 0.9840\n",
      "Epoch 00031: val_acc did not improve from 0.49705\n",
      "5/5 [==============================] - 11s 2s/step - loss: 0.0513 - acc: 0.9840 - val_loss: 2.1414 - val_acc: 0.4430\n"
     ]
    },
    {
     "name": "stdout",
     "output_type": "stream",
     "text": [
      "Epoch 32/100\n",
      "5/5 [==============================] - ETA: 0s - loss: 0.0487 - acc: 0.9821\n",
      "Epoch 00032: val_acc improved from 0.49705 to 0.50549, saving model to best_model.h5\n",
      "5/5 [==============================] - 11s 2s/step - loss: 0.0487 - acc: 0.9821 - val_loss: 1.1848 - val_acc: 0.5055\n",
      "Epoch 33/100\n",
      "5/5 [==============================] - ETA: 0s - loss: 0.0453 - acc: 0.9852\n",
      "Epoch 00033: val_acc did not improve from 0.50549\n",
      "5/5 [==============================] - 14s 3s/step - loss: 0.0453 - acc: 0.9852 - val_loss: 1.4850 - val_acc: 0.4734\n",
      "Epoch 34/100\n",
      "5/5 [==============================] - ETA: 0s - loss: 0.0514 - acc: 0.9818\n",
      "Epoch 00034: val_acc did not improve from 0.50549\n",
      "5/5 [==============================] - 14s 3s/step - loss: 0.0514 - acc: 0.9818 - val_loss: 2.0837 - val_acc: 0.4498\n",
      "Epoch 35/100\n",
      "5/5 [==============================] - ETA: 0s - loss: 0.0432 - acc: 0.9869\n",
      "Epoch 00035: val_acc improved from 0.50549 to 0.50802, saving model to best_model.h5\n",
      "5/5 [==============================] - 13s 3s/step - loss: 0.0432 - acc: 0.9869 - val_loss: 1.2554 - val_acc: 0.5080\n",
      "Epoch 36/100\n",
      "5/5 [==============================] - ETA: 0s - loss: 0.0398 - acc: 0.9856\n",
      "Epoch 00036: val_acc did not improve from 0.50802\n",
      "5/5 [==============================] - 14s 3s/step - loss: 0.0398 - acc: 0.9856 - val_loss: 2.4932 - val_acc: 0.4489\n",
      "Epoch 37/100\n",
      "5/5 [==============================] - ETA: 0s - loss: 0.0471 - acc: 0.9812\n",
      "Epoch 00037: val_acc improved from 0.50802 to 0.53165, saving model to best_model.h5\n",
      "5/5 [==============================] - 14s 3s/step - loss: 0.0471 - acc: 0.9812 - val_loss: 1.1612 - val_acc: 0.5316\n",
      "Epoch 38/100\n",
      "5/5 [==============================] - ETA: 0s - loss: 0.0373 - acc: 0.9880\n",
      "Epoch 00038: val_acc did not improve from 0.53165\n",
      "5/5 [==============================] - 13s 3s/step - loss: 0.0373 - acc: 0.9880 - val_loss: 1.8914 - val_acc: 0.4624\n",
      "Epoch 39/100\n",
      "5/5 [==============================] - ETA: 0s - loss: 0.0326 - acc: 0.9897\n",
      "Epoch 00039: val_acc did not improve from 0.53165\n",
      "5/5 [==============================] - 14s 3s/step - loss: 0.0326 - acc: 0.9897 - val_loss: 1.4993 - val_acc: 0.4987\n",
      "Epoch 40/100\n",
      "5/5 [==============================] - ETA: 0s - loss: 0.0298 - acc: 0.9911\n",
      "Epoch 00040: val_acc did not improve from 0.53165\n",
      "5/5 [==============================] - 12s 2s/step - loss: 0.0298 - acc: 0.9911 - val_loss: 1.4978 - val_acc: 0.5013\n",
      "Epoch 41/100\n",
      "5/5 [==============================] - ETA: 0s - loss: 0.0294 - acc: 0.9924\n",
      "Epoch 00041: val_acc did not improve from 0.53165\n",
      "5/5 [==============================] - 16s 3s/step - loss: 0.0294 - acc: 0.9924 - val_loss: 1.3383 - val_acc: 0.5114\n",
      "Epoch 42/100\n",
      "5/5 [==============================] - ETA: 0s - loss: 0.0285 - acc: 0.9922\n",
      "Epoch 00042: val_acc improved from 0.53165 to 0.53333, saving model to best_model.h5\n",
      "5/5 [==============================] - 18s 4s/step - loss: 0.0285 - acc: 0.9922 - val_loss: 1.1729 - val_acc: 0.5333\n",
      "Epoch 43/100\n",
      "5/5 [==============================] - ETA: 0s - loss: 0.0284 - acc: 0.9922\n",
      "Epoch 00043: val_acc improved from 0.53333 to 0.53840, saving model to best_model.h5\n",
      "5/5 [==============================] - 15s 3s/step - loss: 0.0284 - acc: 0.9922 - val_loss: 1.1550 - val_acc: 0.5384\n",
      "Epoch 44/100\n",
      "5/5 [==============================] - ETA: 0s - loss: 0.0270 - acc: 0.9932\n",
      "Epoch 00044: val_acc did not improve from 0.53840\n",
      "5/5 [==============================] - 14s 3s/step - loss: 0.0270 - acc: 0.9932 - val_loss: 1.3171 - val_acc: 0.5283\n",
      "Epoch 45/100\n",
      "5/5 [==============================] - ETA: 0s - loss: 0.0225 - acc: 0.9937\n",
      "Epoch 00045: val_acc did not improve from 0.53840\n",
      "5/5 [==============================] - 14s 3s/step - loss: 0.0225 - acc: 0.9937 - val_loss: 1.8068 - val_acc: 0.5013\n",
      "Epoch 46/100\n",
      "5/5 [==============================] - ETA: 0s - loss: 0.0211 - acc: 0.9935\n",
      "Epoch 00046: val_acc did not improve from 0.53840\n",
      "5/5 [==============================] - 16s 3s/step - loss: 0.0211 - acc: 0.9935 - val_loss: 1.5896 - val_acc: 0.5190\n",
      "Epoch 47/100\n",
      "5/5 [==============================] - ETA: 0s - loss: 0.0247 - acc: 0.9930\n",
      "Epoch 00047: val_acc did not improve from 0.53840\n",
      "5/5 [==============================] - 14s 3s/step - loss: 0.0247 - acc: 0.9930 - val_loss: 1.3911 - val_acc: 0.5333\n",
      "Epoch 48/100\n",
      "5/5 [==============================] - ETA: 0s - loss: 0.0240 - acc: 0.9913\n",
      "Epoch 00048: val_acc did not improve from 0.53840\n",
      "5/5 [==============================] - 15s 3s/step - loss: 0.0240 - acc: 0.9913 - val_loss: 1.8207 - val_acc: 0.5030\n",
      "Epoch 49/100\n",
      "5/5 [==============================] - ETA: 0s - loss: 0.0211 - acc: 0.9924\n",
      "Epoch 00049: val_acc did not improve from 0.53840\n",
      "5/5 [==============================] - 14s 3s/step - loss: 0.0211 - acc: 0.9924 - val_loss: 1.5552 - val_acc: 0.5266\n",
      "Epoch 50/100\n",
      "5/5 [==============================] - ETA: 0s - loss: 0.0206 - acc: 0.9941\n",
      "Epoch 00050: val_acc improved from 0.53840 to 0.54093, saving model to best_model.h5\n",
      "5/5 [==============================] - 16s 3s/step - loss: 0.0206 - acc: 0.9941 - val_loss: 1.4961 - val_acc: 0.5409\n",
      "Epoch 51/100\n",
      "5/5 [==============================] - ETA: 0s - loss: 0.0186 - acc: 0.9949\n",
      "Epoch 00051: val_acc improved from 0.54093 to 0.55021, saving model to best_model.h5\n",
      "5/5 [==============================] - 16s 3s/step - loss: 0.0186 - acc: 0.9949 - val_loss: 1.4933 - val_acc: 0.5502\n",
      "Epoch 52/100\n",
      "5/5 [==============================] - ETA: 0s - loss: 0.0237 - acc: 0.9928\n",
      "Epoch 00052: val_acc did not improve from 0.55021\n",
      "5/5 [==============================] - 15s 3s/step - loss: 0.0237 - acc: 0.9928 - val_loss: 1.5566 - val_acc: 0.5266\n",
      "Epoch 53/100\n",
      "5/5 [==============================] - ETA: 0s - loss: 0.0192 - acc: 0.9930\n",
      "Epoch 00053: val_acc did not improve from 0.55021\n",
      "5/5 [==============================] - 16s 3s/step - loss: 0.0192 - acc: 0.9930 - val_loss: 1.8520 - val_acc: 0.5232\n",
      "Epoch 00053: early stopping\n"
     ]
    }
   ],
   "source": [
    "model.compile(optimizer='adam', loss='categorical_crossentropy', metrics=['acc'])\n",
    "history = model.fit(X_train, y_train, epochs=100, callbacks=[es, mc], batch_size=1024, validation_split=0.2)"
   ]
  },
  {
   "cell_type": "code",
   "execution_count": 148,
   "metadata": {
    "ExecuteTime": {
     "end_time": "2021-04-01T02:37:16.556272Z",
     "start_time": "2021-04-01T02:37:13.101103Z"
    }
   },
   "outputs": [
    {
     "name": "stdout",
     "output_type": "stream",
     "text": [
      "62/62 [==============================] - 1s 22ms/step - loss: 1.0014 - acc: 0.5041\n",
      "테스트 정확도: 0.5041\n"
     ]
    }
   ],
   "source": [
    "loaded_model = load_model('best_model.h5')\n",
    "print(\"테스트 정확도: %.4f\" % (loaded_model.evaluate(X_test, y_test)[1]))"
   ]
  },
  {
   "cell_type": "code",
   "execution_count": 106,
   "metadata": {
    "ExecuteTime": {
     "end_time": "2021-03-31T17:13:21.881003Z",
     "start_time": "2021-03-31T17:13:17.218412Z"
    }
   },
   "outputs": [
    {
     "data": {
      "text/plain": [
       "array([[0.39774117, 0.4180528 , 0.18420602],\n",
       "       [0.93720895, 0.05255724, 0.01023376],\n",
       "       [0.53255975, 0.3266842 , 0.14075604],\n",
       "       ...,\n",
       "       [0.27636996, 0.466064  , 0.2575661 ],\n",
       "       [0.2051393 , 0.4949639 , 0.29989678],\n",
       "       [0.39454758, 0.3854387 , 0.22001368]], dtype=float32)"
      ]
     },
     "execution_count": 106,
     "metadata": {},
     "output_type": "execute_result"
    }
   ],
   "source": [
    "preds = loaded_model.predict(X_test)\n",
    "preds"
   ]
  },
  {
   "cell_type": "markdown",
   "metadata": {},
   "source": [
    "# 모델 평가 참고 \n",
    "\n",
    "- https://ayoteralab.tistory.com/entry/Iris-dataset-classification-with-Keras?category=873956"
   ]
  },
  {
   "cell_type": "code",
   "execution_count": 139,
   "metadata": {
    "ExecuteTime": {
     "end_time": "2021-04-01T02:23:13.556256Z",
     "start_time": "2021-04-01T02:23:13.363769Z"
    }
   },
   "outputs": [
    {
     "data": {
      "image/png": "[encoded data removed]",
      "text/plain": [
       "<Figure size 432x288 with 1 Axes>"
      ]
     },
     "metadata": {
      "needs_background": "light"
     },
     "output_type": "display_data"
    }
   ],
   "source": [
    "plt.plot(history.history['val_acc'])\n",
    "plt.plot(history.history['val_loss'])\n",
    "plt.show()"
   ]
  },
  {
   "cell_type": "code",
   "execution_count": 108,
   "metadata": {
    "ExecuteTime": {
     "end_time": "2021-03-31T17:13:31.208117Z",
     "start_time": "2021-03-31T17:13:30.879991Z"
    }
   },
   "outputs": [
    {
     "ename": "NameError",
     "evalue": "name 'dataset' is not defined",
     "output_type": "error",
     "traceback": [
      "\u001b[1;31m---------------------------------------------------------------------------\u001b[0m",
      "\u001b[1;31mNameError\u001b[0m                                 Traceback (most recent call last)",
      "\u001b[1;32m<ipython-input-108-2f3d6900dd4d>\u001b[0m in \u001b[0;36m<module>\u001b[1;34m\u001b[0m\n\u001b[0;32m      1\u001b[0m \u001b[0mf\u001b[0m\u001b[1;33m,\u001b[0m \u001b[0max\u001b[0m \u001b[1;33m=\u001b[0m \u001b[0mplt\u001b[0m\u001b[1;33m.\u001b[0m\u001b[0msubplots\u001b[0m\u001b[1;33m(\u001b[0m\u001b[1;36m1\u001b[0m\u001b[1;33m,\u001b[0m \u001b[1;36m2\u001b[0m\u001b[1;33m,\u001b[0m \u001b[0mfigsize\u001b[0m\u001b[1;33m=\u001b[0m\u001b[1;33m(\u001b[0m\u001b[1;36m14\u001b[0m\u001b[1;33m,\u001b[0m\u001b[1;36m6\u001b[0m\u001b[1;33m)\u001b[0m\u001b[1;33m)\u001b[0m\u001b[1;33m\u001b[0m\u001b[1;33m\u001b[0m\u001b[0m\n\u001b[1;32m----> 2\u001b[1;33m \u001b[0max\u001b[0m\u001b[1;33m[\u001b[0m\u001b[1;36m0\u001b[0m\u001b[1;33m]\u001b[0m\u001b[1;33m.\u001b[0m\u001b[0mscatter\u001b[0m\u001b[1;33m(\u001b[0m\u001b[0mdataset\u001b[0m\u001b[1;33m.\u001b[0m\u001b[0mdata\u001b[0m\u001b[1;33m[\u001b[0m\u001b[1;33m:\u001b[0m\u001b[1;33m,\u001b[0m\u001b[1;36m0\u001b[0m\u001b[1;33m]\u001b[0m\u001b[1;33m,\u001b[0m \u001b[0mdataset\u001b[0m\u001b[1;33m.\u001b[0m\u001b[0mdata\u001b[0m\u001b[1;33m[\u001b[0m\u001b[1;33m:\u001b[0m\u001b[1;33m,\u001b[0m\u001b[1;36m1\u001b[0m\u001b[1;33m]\u001b[0m\u001b[1;33m,\u001b[0m \u001b[0mc\u001b[0m\u001b[1;33m=\u001b[0m\u001b[0mdataset\u001b[0m\u001b[1;33m.\u001b[0m\u001b[0mtarget\u001b[0m\u001b[1;33m)\u001b[0m\u001b[1;33m\u001b[0m\u001b[1;33m\u001b[0m\u001b[0m\n\u001b[0m\u001b[0;32m      3\u001b[0m \u001b[0max\u001b[0m\u001b[1;33m[\u001b[0m\u001b[1;36m0\u001b[0m\u001b[1;33m]\u001b[0m\u001b[1;33m.\u001b[0m\u001b[0mset_title\u001b[0m\u001b[1;33m(\u001b[0m\u001b[1;34m'scatter with Sepal'\u001b[0m\u001b[1;33m)\u001b[0m\u001b[1;33m\u001b[0m\u001b[1;33m\u001b[0m\u001b[0m\n\u001b[0;32m      4\u001b[0m \u001b[0max\u001b[0m\u001b[1;33m[\u001b[0m\u001b[1;36m1\u001b[0m\u001b[1;33m]\u001b[0m\u001b[1;33m.\u001b[0m\u001b[0mscatter\u001b[0m\u001b[1;33m(\u001b[0m\u001b[0mdataset\u001b[0m\u001b[1;33m.\u001b[0m\u001b[0mdata\u001b[0m\u001b[1;33m[\u001b[0m\u001b[1;33m:\u001b[0m\u001b[1;33m,\u001b[0m\u001b[1;36m2\u001b[0m\u001b[1;33m]\u001b[0m\u001b[1;33m,\u001b[0m \u001b[0mdataset\u001b[0m\u001b[1;33m.\u001b[0m\u001b[0mdata\u001b[0m\u001b[1;33m[\u001b[0m\u001b[1;33m:\u001b[0m\u001b[1;33m,\u001b[0m\u001b[1;36m3\u001b[0m\u001b[1;33m]\u001b[0m\u001b[1;33m,\u001b[0m \u001b[0mc\u001b[0m\u001b[1;33m=\u001b[0m\u001b[0mdataset\u001b[0m\u001b[1;33m.\u001b[0m\u001b[0mtarget\u001b[0m\u001b[1;33m)\u001b[0m\u001b[1;33m\u001b[0m\u001b[1;33m\u001b[0m\u001b[0m\n\u001b[0;32m      5\u001b[0m \u001b[0max\u001b[0m\u001b[1;33m[\u001b[0m\u001b[1;36m1\u001b[0m\u001b[1;33m]\u001b[0m\u001b[1;33m.\u001b[0m\u001b[0mset_title\u001b[0m\u001b[1;33m(\u001b[0m\u001b[1;34m'scatter with Petal'\u001b[0m\u001b[1;33m)\u001b[0m\u001b[1;33m\u001b[0m\u001b[1;33m\u001b[0m\u001b[0m\n",
      "\u001b[1;31mNameError\u001b[0m: name 'dataset' is not defined"
     ]
    },
    {
     "data": {
      "image/png": "[encoded data removed]",
      "text/plain": [
       "<Figure size 1008x432 with 2 Axes>"
      ]
     },
     "metadata": {
      "needs_background": "light"
     },
     "output_type": "display_data"
    }
   ],
   "source": [
    "f, ax = plt.subplots(1, 2, figsize=(14,6))\n",
    "ax[0].scatter(dataset.data[:,0], dataset.data[:,1], c=dataset.target)\n",
    "ax[0].set_title('scatter with Sepal')\n",
    "ax[1].scatter(dataset.data[:,2], dataset.data[:,3], c=dataset.target)\n",
    "ax[1].set_title('scatter with Petal')\n",
    "plt.show()"
   ]
  },
  {
   "cell_type": "code",
   "execution_count": null,
   "metadata": {},
   "outputs": [],
   "source": []
  }
 ],
 "metadata": {
  "kernelspec": {
   "display_name": "Python 3",
   "language": "python",
   "name": "python3"
  },
  "language_info": {
   "codemirror_mode": {
    "name": "ipython",
    "version": 3
   },
   "file_extension": ".py",
   "mimetype": "text/x-python",
   "name": "python",
   "nbconvert_exporter": "python",
   "pygments_lexer": "ipython3",
   "version": "3.8.3"
  },
  "toc": {
   "base_numbering": 1,
   "nav_menu": {},
   "number_sections": true,
   "sideBar": true,
   "skip_h1_title": false,
   "title_cell": "Table of Contents",
   "title_sidebar": "Contents",
   "toc_cell": false,
   "toc_position": {},
   "toc_section_display": true,
   "toc_window_display": false
  }
 },
 "nbformat": 4,
 "nbformat_minor": 4
}
